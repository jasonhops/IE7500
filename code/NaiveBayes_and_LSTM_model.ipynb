{
 "cells": [
  {
   "cell_type": "markdown",
   "id": "665b29c5-97b5-495b-af3c-581cd0ab55e1",
   "metadata": {},
   "source": [
    "# Sentiment Analysis on Amazon Fine Food Reviews Dataset\n",
    "\n",
    "We will use this publicly available dataset from Kaggle with 568,454 records:\n",
    "\n",
    "[Amazon Fine Food Reviews on Kaggle](https://www.kaggle.com/datasets/snap/amazon-fine-food-reviews/data)\n",
    "\n",
    "Reviews from Oct 1999 – Oct 2012:\n",
    "- 568,454 reviews\n",
    "- 256,059 users\n",
    "- 74,258 products\n",
    "- 260 users with more than 50 reviews\n",
    "\n",
    "views\r\n"
   ]
  },
  {
   "cell_type": "code",
   "execution_count": 15,
   "id": "a13a9058-1fe7-44ca-8470-037fbb07365f",
   "metadata": {},
   "outputs": [],
   "source": [
    "import pandas as pd"
   ]
  },
  {
   "cell_type": "markdown",
   "id": "8db1969a-0566-4803-b09c-ff6d1ad6cffd",
   "metadata": {},
   "source": [
    "### Loading Amazon Fine Food Reviews dataset. It has 568454 rows and 10 columns"
   ]
  },
  {
   "cell_type": "code",
   "execution_count": 16,
   "id": "b960b6f3-ce6a-4fbf-861d-7e8ebfde58ad",
   "metadata": {},
   "outputs": [
    {
     "data": {
      "text/html": [
       "<div>\n",
       "<style scoped>\n",
       "    .dataframe tbody tr th:only-of-type {\n",
       "        vertical-align: middle;\n",
       "    }\n",
       "\n",
       "    .dataframe tbody tr th {\n",
       "        vertical-align: top;\n",
       "    }\n",
       "\n",
       "    .dataframe thead th {\n",
       "        text-align: right;\n",
       "    }\n",
       "</style>\n",
       "<table border=\"1\" class=\"dataframe\">\n",
       "  <thead>\n",
       "    <tr style=\"text-align: right;\">\n",
       "      <th></th>\n",
       "      <th>Id</th>\n",
       "      <th>ProductId</th>\n",
       "      <th>UserId</th>\n",
       "      <th>ProfileName</th>\n",
       "      <th>HelpfulnessNumerator</th>\n",
       "      <th>HelpfulnessDenominator</th>\n",
       "      <th>Score</th>\n",
       "      <th>Time</th>\n",
       "      <th>Summary</th>\n",
       "      <th>Text</th>\n",
       "    </tr>\n",
       "  </thead>\n",
       "  <tbody>\n",
       "    <tr>\n",
       "      <th>0</th>\n",
       "      <td>1</td>\n",
       "      <td>B001E4KFG0</td>\n",
       "      <td>A3SGXH7AUHU8GW</td>\n",
       "      <td>delmartian</td>\n",
       "      <td>1</td>\n",
       "      <td>1</td>\n",
       "      <td>5</td>\n",
       "      <td>1303862400</td>\n",
       "      <td>Good Quality Dog Food</td>\n",
       "      <td>I have bought several of the Vitality canned d...</td>\n",
       "    </tr>\n",
       "    <tr>\n",
       "      <th>1</th>\n",
       "      <td>2</td>\n",
       "      <td>B00813GRG4</td>\n",
       "      <td>A1D87F6ZCVE5NK</td>\n",
       "      <td>dll pa</td>\n",
       "      <td>0</td>\n",
       "      <td>0</td>\n",
       "      <td>1</td>\n",
       "      <td>1346976000</td>\n",
       "      <td>Not as Advertised</td>\n",
       "      <td>Product arrived labeled as Jumbo Salted Peanut...</td>\n",
       "    </tr>\n",
       "    <tr>\n",
       "      <th>2</th>\n",
       "      <td>3</td>\n",
       "      <td>B000LQOCH0</td>\n",
       "      <td>ABXLMWJIXXAIN</td>\n",
       "      <td>Natalia Corres \"Natalia Corres\"</td>\n",
       "      <td>1</td>\n",
       "      <td>1</td>\n",
       "      <td>4</td>\n",
       "      <td>1219017600</td>\n",
       "      <td>\"Delight\" says it all</td>\n",
       "      <td>This is a confection that has been around a fe...</td>\n",
       "    </tr>\n",
       "    <tr>\n",
       "      <th>3</th>\n",
       "      <td>4</td>\n",
       "      <td>B000UA0QIQ</td>\n",
       "      <td>A395BORC6FGVXV</td>\n",
       "      <td>Karl</td>\n",
       "      <td>3</td>\n",
       "      <td>3</td>\n",
       "      <td>2</td>\n",
       "      <td>1307923200</td>\n",
       "      <td>Cough Medicine</td>\n",
       "      <td>If you are looking for the secret ingredient i...</td>\n",
       "    </tr>\n",
       "    <tr>\n",
       "      <th>4</th>\n",
       "      <td>5</td>\n",
       "      <td>B006K2ZZ7K</td>\n",
       "      <td>A1UQRSCLF8GW1T</td>\n",
       "      <td>Michael D. Bigham \"M. Wassir\"</td>\n",
       "      <td>0</td>\n",
       "      <td>0</td>\n",
       "      <td>5</td>\n",
       "      <td>1350777600</td>\n",
       "      <td>Great taffy</td>\n",
       "      <td>Great taffy at a great price.  There was a wid...</td>\n",
       "    </tr>\n",
       "  </tbody>\n",
       "</table>\n",
       "</div>"
      ],
      "text/plain": [
       "   Id   ProductId          UserId                      ProfileName  \\\n",
       "0   1  B001E4KFG0  A3SGXH7AUHU8GW                       delmartian   \n",
       "1   2  B00813GRG4  A1D87F6ZCVE5NK                           dll pa   \n",
       "2   3  B000LQOCH0   ABXLMWJIXXAIN  Natalia Corres \"Natalia Corres\"   \n",
       "3   4  B000UA0QIQ  A395BORC6FGVXV                             Karl   \n",
       "4   5  B006K2ZZ7K  A1UQRSCLF8GW1T    Michael D. Bigham \"M. Wassir\"   \n",
       "\n",
       "   HelpfulnessNumerator  HelpfulnessDenominator  Score        Time  \\\n",
       "0                     1                       1      5  1303862400   \n",
       "1                     0                       0      1  1346976000   \n",
       "2                     1                       1      4  1219017600   \n",
       "3                     3                       3      2  1307923200   \n",
       "4                     0                       0      5  1350777600   \n",
       "\n",
       "                 Summary                                               Text  \n",
       "0  Good Quality Dog Food  I have bought several of the Vitality canned d...  \n",
       "1      Not as Advertised  Product arrived labeled as Jumbo Salted Peanut...  \n",
       "2  \"Delight\" says it all  This is a confection that has been around a fe...  \n",
       "3         Cough Medicine  If you are looking for the secret ingredient i...  \n",
       "4            Great taffy  Great taffy at a great price.  There was a wid...  "
      ]
     },
     "execution_count": 16,
     "metadata": {},
     "output_type": "execute_result"
    }
   ],
   "source": [
    "df= pd.read_csv(\"Reviews.csv\")\n",
    "df.head()\n"
   ]
  },
  {
   "cell_type": "code",
   "execution_count": 17,
   "id": "df8bcd29-8398-49d7-a882-b22204de3145",
   "metadata": {},
   "outputs": [
    {
     "data": {
      "text/plain": [
       "(568454, 10)"
      ]
     },
     "execution_count": 17,
     "metadata": {},
     "output_type": "execute_result"
    }
   ],
   "source": [
    "df.shape"
   ]
  },
  {
   "cell_type": "markdown",
   "id": "1ad092c3-103c-40c7-bbe3-12efdb9d4890",
   "metadata": {},
   "source": [
    "### Cleaning source"
   ]
  },
  {
   "cell_type": "code",
   "execution_count": 18,
   "id": "8d154aff-7d12-4d78-aeba-3983e37b3258",
   "metadata": {},
   "outputs": [
    {
     "data": {
      "text/plain": [
       "Id                         0\n",
       "ProductId                  0\n",
       "UserId                     0\n",
       "ProfileName               26\n",
       "HelpfulnessNumerator       0\n",
       "HelpfulnessDenominator     0\n",
       "Score                      0\n",
       "Time                       0\n",
       "Summary                   27\n",
       "Text                       0\n",
       "dtype: int64"
      ]
     },
     "execution_count": 18,
     "metadata": {},
     "output_type": "execute_result"
    }
   ],
   "source": [
    "df.isna().sum()"
   ]
  },
  {
   "cell_type": "code",
   "execution_count": 19,
   "id": "8daacd61-cee3-4b44-878f-f2aef0f4b803",
   "metadata": {},
   "outputs": [
    {
     "name": "stdout",
     "output_type": "stream",
     "text": [
      "<class 'pandas.core.frame.DataFrame'>\n",
      "Index: 568401 entries, 0 to 568453\n",
      "Data columns (total 10 columns):\n",
      " #   Column                  Non-Null Count   Dtype \n",
      "---  ------                  --------------   ----- \n",
      " 0   Id                      568401 non-null  int64 \n",
      " 1   ProductId               568401 non-null  object\n",
      " 2   UserId                  568401 non-null  object\n",
      " 3   ProfileName             568401 non-null  object\n",
      " 4   HelpfulnessNumerator    568401 non-null  int64 \n",
      " 5   HelpfulnessDenominator  568401 non-null  int64 \n",
      " 6   Score                   568401 non-null  int64 \n",
      " 7   Time                    568401 non-null  int64 \n",
      " 8   Summary                 568401 non-null  object\n",
      " 9   Text                    568401 non-null  object\n",
      "dtypes: int64(5), object(5)\n",
      "memory usage: 47.7+ MB\n"
     ]
    },
    {
     "data": {
      "text/plain": [
       "Id                        0\n",
       "ProductId                 0\n",
       "UserId                    0\n",
       "ProfileName               0\n",
       "HelpfulnessNumerator      0\n",
       "HelpfulnessDenominator    0\n",
       "Score                     0\n",
       "Time                      0\n",
       "Summary                   0\n",
       "Text                      0\n",
       "dtype: int64"
      ]
     },
     "execution_count": 19,
     "metadata": {},
     "output_type": "execute_result"
    }
   ],
   "source": [
    "df.dropna(subset=[\"Summary\"], inplace=True)\n",
    "df.dropna(subset=[\"ProfileName\"], inplace=True)\n",
    "df.info()\n",
    "df.isna().sum()"
   ]
  },
  {
   "cell_type": "code",
   "execution_count": 20,
   "id": "d05790c2-d5e2-4ec6-b88d-25cece354a80",
   "metadata": {},
   "outputs": [
    {
     "name": "stdout",
     "output_type": "stream",
     "text": [
      "0\n"
     ]
    },
    {
     "data": {
      "text/plain": [
       "0         False\n",
       "1         False\n",
       "2         False\n",
       "3         False\n",
       "4         False\n",
       "          ...  \n",
       "568449    False\n",
       "568450    False\n",
       "568451    False\n",
       "568452    False\n",
       "568453    False\n",
       "Length: 568401, dtype: bool"
      ]
     },
     "execution_count": 20,
     "metadata": {},
     "output_type": "execute_result"
    }
   ],
   "source": [
    "duplicates = df.duplicated()\n",
    "print(duplicates.sum())\n",
    "duplicates"
   ]
  },
  {
   "cell_type": "code",
   "execution_count": 21,
   "id": "fa84ad6c-b7c7-4edc-8a5b-19c787a93219",
   "metadata": {},
   "outputs": [
    {
     "name": "stdout",
     "output_type": "stream",
     "text": [
      "Id                        0\n",
      "ProductId                 0\n",
      "UserId                    0\n",
      "ProfileName               0\n",
      "HelpfulnessNumerator      0\n",
      "HelpfulnessDenominator    0\n",
      "Score                     0\n",
      "Time                      0\n",
      "Summary                   0\n",
      "Text                      0\n",
      "dtype: int64\n"
     ]
    },
    {
     "data": {
      "text/html": [
       "<div>\n",
       "<style scoped>\n",
       "    .dataframe tbody tr th:only-of-type {\n",
       "        vertical-align: middle;\n",
       "    }\n",
       "\n",
       "    .dataframe tbody tr th {\n",
       "        vertical-align: top;\n",
       "    }\n",
       "\n",
       "    .dataframe thead th {\n",
       "        text-align: right;\n",
       "    }\n",
       "</style>\n",
       "<table border=\"1\" class=\"dataframe\">\n",
       "  <thead>\n",
       "    <tr style=\"text-align: right;\">\n",
       "      <th></th>\n",
       "      <th>Id</th>\n",
       "      <th>ProductId</th>\n",
       "      <th>UserId</th>\n",
       "      <th>ProfileName</th>\n",
       "      <th>HelpfulnessNumerator</th>\n",
       "      <th>HelpfulnessDenominator</th>\n",
       "      <th>Score</th>\n",
       "      <th>Time</th>\n",
       "      <th>Summary</th>\n",
       "      <th>Text</th>\n",
       "    </tr>\n",
       "  </thead>\n",
       "  <tbody>\n",
       "  </tbody>\n",
       "</table>\n",
       "</div>"
      ],
      "text/plain": [
       "Empty DataFrame\n",
       "Columns: [Id, ProductId, UserId, ProfileName, HelpfulnessNumerator, HelpfulnessDenominator, Score, Time, Summary, Text]\n",
       "Index: []"
      ]
     },
     "execution_count": 21,
     "metadata": {},
     "output_type": "execute_result"
    }
   ],
   "source": [
    "print(df.isnull().sum())\n",
    "df[df.isnull().any(axis=1)]"
   ]
  },
  {
   "cell_type": "code",
   "execution_count": 22,
   "id": "59e720bc-b3d5-4367-a5ce-028f4a8e4b51",
   "metadata": {},
   "outputs": [
    {
     "name": "stdout",
     "output_type": "stream",
     "text": [
      "Empty DataFrame\n",
      "Columns: [Id, ProductId, UserId, ProfileName, HelpfulnessNumerator, HelpfulnessDenominator, Score, Time, Summary, Text]\n",
      "Index: []\n"
     ]
    }
   ],
   "source": [
    "invalid_score = df[(df[\"Score\"] < 1) | (df[\"Score\"] > 5)]\n",
    "print(invalid_score)"
   ]
  },
  {
   "cell_type": "markdown",
   "id": "0aa8ecab-a411-46e5-9e69-979f3c4b677f",
   "metadata": {},
   "source": [
    "Check Time is from Oct 1999 - Oct 2012:\n",
    "- October 1, 1999 at 00:00:00 UTC → 938736000\n",
    "- November 1, 2012 at 00:00:00 UTC → 1351728000"
   ]
  },
  {
   "cell_type": "code",
   "execution_count": 23,
   "id": "532c33b4-f7e7-4662-bc21-b6a5fd84d1a6",
   "metadata": {},
   "outputs": [
    {
     "name": "stdout",
     "output_type": "stream",
     "text": [
      "Empty DataFrame\n",
      "Columns: [Id, ProductId, UserId, ProfileName, HelpfulnessNumerator, HelpfulnessDenominator, Score, Time, Summary, Text]\n",
      "Index: []\n"
     ]
    }
   ],
   "source": [
    "invalid_date = df[(df[\"Time\"] < 938736000) | (df[\"Time\"] > 1351728000)]\n",
    "print(invalid_date)"
   ]
  },
  {
   "cell_type": "code",
   "execution_count": 24,
   "id": "6864abb7-4dcb-411a-a4db-2641c9173f9a",
   "metadata": {},
   "outputs": [],
   "source": [
    "df[\"Text\"] = df[\"Text\"].str.lower().str.replace(r'[^a-z\\s]', '', regex=True)\n",
    "df[\"Summary\"] = df[\"Summary\"].str.lower().str.replace(r'[^a-z\\s]', '', regex=True)"
   ]
  },
  {
   "cell_type": "markdown",
   "id": "e5aa04f2-5d13-40e7-8cd0-39224addb0f1",
   "metadata": {},
   "source": [
    "### Randomly selecting 50000 reviews from Amazon Fine Food Reviews dataset(df)"
   ]
  },
  {
   "cell_type": "code",
   "execution_count": 25,
   "id": "57d2b4d9-9f2c-4712-9c76-c584010802a5",
   "metadata": {},
   "outputs": [],
   "source": [
    "from sklearn.model_selection import train_test_split\n",
    "\n",
    "df['Sentiment_label'] = df['Score'].apply(lambda x: 'positive' if x >= 4 else 'negative')\n",
    "\n",
    "test_size = 0.2  # 20% test split\n",
    "train_size = 0.8  # 80% train split\n",
    "\n",
    "# Split the test set first\n",
    "train_df, test_df = train_test_split(df, test_size=test_size, stratify=df[\"Score\"], random_state=42)\n",
    "test_df=test_df.sample(n=12500, random_state=42)\n",
    "train_oversampled_df = pd.concat([train_df[train_df[\"Sentiment_label\"]=='positive'].sample(n=25000, random_state=42), train_df[train_df[\"Sentiment_label\"]=='negative'].sample(n=25000, random_state= 42)], ignore_index=True)\n"
   ]
  },
  {
   "cell_type": "markdown",
   "id": "eb4fe5db-13dd-4a27-822f-6cbafc3bd9e7",
   "metadata": {},
   "source": [
    "### Preprocessing Graphs\n",
    "\n",
    "Checked for missing, duplicate, and formatting issues. Now displaying row distribution of training and testing datasets."
   ]
  },
  {
   "cell_type": "code",
   "execution_count": 26,
   "id": "0868047a-d729-4b46-8f3e-e52786c16409",
   "metadata": {},
   "outputs": [
    {
     "name": "stderr",
     "output_type": "stream",
     "text": [
      "/tmp/ipykernel_391573/460769013.py:8: FutureWarning: \n",
      "\n",
      "Passing `palette` without assigning `hue` is deprecated and will be removed in v0.14.0. Assign the `x` variable to `hue` and set `legend=False` for the same effect.\n",
      "\n",
      "  sns.barplot(x=original_distribution.index, y=original_distribution.values, palette=[\"red\", \"green\"])\n",
      "/tmp/ipykernel_391573/460769013.py:19: FutureWarning: \n",
      "\n",
      "Passing `palette` without assigning `hue` is deprecated and will be removed in v0.14.0. Assign the `x` variable to `hue` and set `legend=False` for the same effect.\n",
      "\n",
      "  sns.barplot(x=original_distribution.index, y=original_distribution.values, palette=[\"red\", \"green\"])\n"
     ]
    },
    {
     "data": {
      "image/png": "[encoded data removed]",
      "text/plain": [
       "<Figure size 600x400 with 1 Axes>"
      ]
     },
     "metadata": {},
     "output_type": "display_data"
    },
    {
     "data": {
      "image/png": "[encoded data removed]",
      "text/plain": [
       "<Figure size 600x400 with 1 Axes>"
      ]
     },
     "metadata": {},
     "output_type": "display_data"
    }
   ],
   "source": [
    "import matplotlib.pyplot as plt\n",
    "import seaborn as sns\n",
    "# Count positive and negative reviews\n",
    "original_distribution = train_df[\"Sentiment_label\"].value_counts()\n",
    "\n",
    "# Plot the distribution\n",
    "plt.figure(figsize=(6, 4))\n",
    "sns.barplot(x=original_distribution.index, y=original_distribution.values, palette=[\"red\", \"green\"])\n",
    "plt.title(\"Original Sentiment Distribution\")\n",
    "plt.xlabel(\"Sentiment Label\")\n",
    "plt.ylabel(\"Review Count\")\n",
    "plt.show\n",
    "\n",
    "# Count positive and negative reviews\n",
    "original_distribution = train_oversampled_df[\"Sentiment_label\"].value_counts()\n",
    "\n",
    "# Plot the distribution\n",
    "plt.figure(figsize=(6, 4))\n",
    "sns.barplot(x=original_distribution.index, y=original_distribution.values, palette=[\"red\", \"green\"])\n",
    "plt.title(\"Oversampled Sentiment Distribution\")\n",
    "plt.xlabel(\"Sentiment Label\")\n",
    "plt.ylabel(\"Review Count\")\n",
    "plt.show()"
   ]
  },
  {
   "cell_type": "code",
   "execution_count": 27,
   "id": "51e68214-f3dc-47c6-a165-65473c47f0b8",
   "metadata": {},
   "outputs": [
    {
     "data": {
      "image/png": "[encoded data removed]",
      "text/plain": [
       "<Figure size 1200x500 with 2 Axes>"
      ]
     },
     "metadata": {},
     "output_type": "display_data"
    }
   ],
   "source": [
    "# Compute class distributions\n",
    "train_score_distribution = train_oversampled_df[\"Score\"].value_counts(normalize=True)\n",
    "test_score_distribution = test_df[\"Score\"].value_counts(normalize=True)\n",
    "\n",
    "# Set up subplots\n",
    "fig, axes = plt.subplots(1, 2, figsize=(12, 5), sharey=True)\n",
    "\n",
    "# Train Set Score Distribution\n",
    "sns.barplot(x=train_score_distribution.index, y=train_score_distribution.values, ax=axes[0])\n",
    "axes[0].set_title(\"Train Set Score Distribution\")\n",
    "axes[0].set_ylabel(\"Proportion\")\n",
    "axes[0].set_xlabel(\"Score\")\n",
    "\n",
    "# Test Set Score Distribution\n",
    "sns.barplot(x=test_score_distribution.index, y=test_score_distribution.values, ax=axes[1])\n",
    "axes[1].set_title(\"Test Set Score Distribution\")\n",
    "axes[1].set_xlabel(\"Score\")\n",
    "\n",
    "plt.tight_layout()\n",
    "plt.show()\n"
   ]
  },
  {
   "cell_type": "markdown",
   "id": "7f48ae76-87a2-4ae0-88d1-4463936eaa02",
   "metadata": {},
   "source": [
    "# Naive Bayes Classifier\n",
    "Lets test the NB classifier in NLTK to see if the code run for sanity check."
   ]
  },
  {
   "cell_type": "code",
   "execution_count": 28,
   "id": "6ffe4066-d5f1-4dae-b99a-d5f50fe65cd5",
   "metadata": {},
   "outputs": [],
   "source": [
    "import nltk\n",
    "from nltk.classify import NaiveBayesClassifier\n",
    "from nltk.corpus import subjectivity\n",
    "from nltk.sentiment import SentimentAnalyzer\n",
    "from nltk.sentiment.util import *\n",
    "from nltk.tokenize import word_tokenize\n"
   ]
  },
  {
   "cell_type": "code",
   "execution_count": 29,
   "id": "6dfd0bdc-75f2-4657-a563-c88856b47422",
   "metadata": {},
   "outputs": [
    {
     "data": {
      "text/plain": [
       "3.37102"
      ]
     },
     "execution_count": 29,
     "metadata": {},
     "output_type": "execute_result"
    }
   ],
   "source": [
    "train_oversampled_df[\"Score\"].mean()\n",
    "#sampled_df[\"Score\"].median()"
   ]
  },
  {
   "cell_type": "code",
   "execution_count": 30,
   "id": "f150a5d4-2c2a-4f11-adcf-587c27b11bd5",
   "metadata": {},
   "outputs": [
    {
     "name": "stdout",
     "output_type": "stream",
     "text": [
      "50000\n",
      "12500\n",
      "25000\n",
      "25000\n"
     ]
    }
   ],
   "source": [
    "print(len(train_oversampled_df))\n",
    "print(len(test_df))\n",
    "print(len(train_oversampled_df[train_oversampled_df['Sentiment_label']=='positive']))\n",
    "print(len(train_oversampled_df[train_oversampled_df['Sentiment_label']=='negative']))\n"
   ]
  },
  {
   "cell_type": "code",
   "execution_count": 31,
   "id": "98e68076-273c-4a8d-a321-facb78732419",
   "metadata": {},
   "outputs": [],
   "source": [
    "# Create document lists as (review_text, label) pairs\n",
    "train_docs = list(zip(train_oversampled_df['Summary'] + \" \" + train_oversampled_df['Text'], train_oversampled_df['Sentiment_label']))\n",
    "test_docs = list(zip(test_df['Summary'] + \" \" + test_df['Text'], test_df['Sentiment_label']))\n",
    "\n",
    "# Initialize the SentimentAnalyzer\n",
    "sentim_analyzer = SentimentAnalyzer()"
   ]
  },
  {
   "cell_type": "code",
   "execution_count": 32,
   "id": "6f731c67-a33e-49f8-b6f0-a945d47053b0",
   "metadata": {},
   "outputs": [],
   "source": [
    "# Build a list of all words from the training data\n",
    "all_words = []\n",
    "for review, _ in train_docs:\n",
    "    tokens = word_tokenize(review)\n",
    "    all_words.extend(tokens)\n",
    "\n",
    "# Create unigram features with a minimum frequency threshold\n",
    "unigram_feats = sentim_analyzer.unigram_word_feats(all_words, min_freq=5) # testing\n",
    "\n",
    "# Add the unigram feature extractor to the analyzer using NLTK's utility function\n",
    "sentim_analyzer.add_feat_extractor(extract_unigram_feats, unigrams=unigram_feats)\n"
   ]
  },
  {
   "cell_type": "code",
   "execution_count": 35,
   "id": "0d3cdbaa-ea55-40d9-a562-233fe529f00f",
   "metadata": {},
   "outputs": [],
   "source": [
    "# Convert the raw documents into feature sets\n",
    "training_set = sentim_analyzer.apply_features(train_docs)\n",
    "test_set = sentim_analyzer.apply_features(test_docs)"
   ]
  },
  {
   "cell_type": "code",
   "execution_count": 36,
   "id": "7facf49e-cd2d-4e14-87fb-23fe98c76865",
   "metadata": {},
   "outputs": [
    {
     "name": "stdout",
     "output_type": "stream",
     "text": [
      "Accuracy: 0.5004\n",
      "Most Informative Features\n",
      "             contains(w) = False          positi : negati =      2.2 : 1.0\n",
      "             contains(n) = False          positi : negati =      2.1 : 1.0\n",
      "             contains(b) = False          positi : negati =      2.0 : 1.0\n",
      "             contains(u) = False          positi : negati =      2.0 : 1.0\n",
      "             contains(h) = False          positi : negati =      1.8 : 1.0\n",
      "             contains(d) = False          positi : negati =      1.8 : 1.0\n",
      "             contains(r) = False          negati : positi =      1.6 : 1.0\n",
      "             contains(p) = False          positi : negati =      1.5 : 1.0\n",
      "             contains(v) = False          negati : positi =      1.4 : 1.0\n",
      "             contains(c) = False          positi : negati =      1.3 : 1.0\n"
     ]
    }
   ],
   "source": [
    "# Train the Naive Bayes Classifier using the training feature set\n",
    "classifier = NaiveBayesClassifier.train(training_set)\n",
    "\n",
    "# Evaluate the classifier on the test set\n",
    "accuracy = nltk.classify.accuracy(classifier, test_set)\n",
    "print(\"Accuracy:\", accuracy)\n",
    "\n",
    "# Display the 10 most informative features\n",
    "classifier.show_most_informative_features(10)"
   ]
  },
  {
   "cell_type": "code",
   "execution_count": 37,
   "id": "590e18b2-92a1-48a1-9e5d-830dd116a05b",
   "metadata": {},
   "outputs": [
    {
     "name": "stdout",
     "output_type": "stream",
     "text": [
      "              precision    recall  f1-score   support\n",
      "\n",
      "    negative       0.24      0.63      0.35      2668\n",
      "    positive       0.82      0.47      0.59      9832\n",
      "\n",
      "    accuracy                           0.50     12500\n",
      "   macro avg       0.53      0.55      0.47     12500\n",
      "weighted avg       0.70      0.50      0.54     12500\n",
      "\n"
     ]
    }
   ],
   "source": [
    "from sklearn.metrics import classification_report\n",
    "\n",
    "# Get predicted labels\n",
    "true_labels = [label for (_, label) in test_docs]  # Actual labels\n",
    "predicted_labels = [classifier.classify(feats) for (feats, label) in test_set]  # Predicted labels\n",
    "\n",
    "# Compute precision, recall, f1-score, and support\n",
    "print(classification_report(true_labels, predicted_labels))\n"
   ]
  },
  {
   "cell_type": "markdown",
   "id": "774b4e08-dd3f-49df-ab28-a561d2d5a24b",
   "metadata": {},
   "source": [
    "### Run 1 with 50k equal weight\n",
    "train_df, test_df = train_test_split(df, test_size=test_size, stratify=df[\"Score\"], random_state=42)\n",
    "test_df=test_df.sample(n=12500, random_state=42)\n",
    "train_oversampled_df = pd.concat([train_df[train_df[\"label\"]=='positive'].sample(n=25000, random_state=42), train_df[train_df[\"label\"]=='negative'].sample(n=25000, random_state= 42)], ignore_index=True)\n",
    "\n",
    "Result\n",
    "Accuracy: 0.51216\n",
    "              precision    recall  f1-score   support\n",
    "\n",
    "    negative       0.24      0.61      0.35      2668\n",
    "    positive       0.82      0.49      0.61      9832\n",
    "\n",
    "    accuracy                           0.51     12500\n",
    "   macro avg       0.53      0.55      0.48     12500\n",
    "weighted avg       0.70      0.51      0.55     12500\n",
    "\n",
    "NLTK’s NB did not perform well. This model took a long time to train >30 minutes and the accuracy was poor. The lack of contextual understanding negatively impacts the usability of this model for sentiment analysis."
   ]
  },
  {
   "cell_type": "markdown",
   "id": "a4fce464-25e6-4977-b8a0-29f2d68267a1",
   "metadata": {},
   "source": [
    "The NaiveBayesClassifier in NLTK and the MultinomialNB model in scikit-learn are both Naïve Bayes classifiers, but we found out that the two have different algorithms:\n",
    "https://stackoverflow.com/questions/10407266/scikits-learn-and-nltk-naive-bayes-classifier-performance-highly-different\n",
    "1. Core Algorithm\n",
    "- NLTK’s NaiveBayesClassifier: Uses a simple frequency-based approach, where it counts occurrences of features (words) in training data and calculates conditional probabilities using Laplace smoothing.\n",
    "- scikit-learn’s MultinomialNB: Uses a multinomial distribution model, where it assumes that features (e.g., word counts in text classification) follow a multinomial distribution. This is more suited for discrete feature counts, like term frequency in NLP.\n",
    "2. Feature Representation\n",
    "- NLTK’s NaiveBayesClassifier: Works with feature dictionaries, meaning you have to represent input data as a dictionary of features ({'word1': True, 'word2': False, ...}).\n",
    "- scikit-learn’s MultinomialNB: Works with numerical arrays, usually TF or TF-IDF values, meaning data needs to be vectorized using CountVectorizer or TfidfVectorizer.\n",
    "3. Implementation & Flexibility\n",
    "* NLTK’s NaiveBayesClassifier:\n",
    "    - Simpler and more intuitive for teaching and small NLP projects.\n",
    "    - Supports categorical feature values (like True/False instead of counts).\n",
    "    - More transparent; you can inspect probabilities for each feature.\n",
    "* scikit-learn’s MultinomialNB:\n",
    "    - More efficient and optimized for large datasets.\n",
    "    - Works well with sparse matrices (e.g., term frequency vectors).\n",
    "    - Supports smoothing parameter alpha to handle zero-frequency issues.\n",
    "4. Performance & Use Cases\n",
    "* NLTK’s NaiveBayesClassifier:\n",
    "    - Best for small, educational, or prototype projects.\n",
    "    - Easier to inspect and explain results.\n",
    "* scikit-learn’s MultinomialNB:\n",
    "    - More suitable for large-scale NLP tasks like spam filtering, sentiment analysis, or document classification.\n",
    "    - Faster due to its optimized implementation using NumPy."
   ]
  },
  {
   "cell_type": "markdown",
   "id": "9f5e2d62-e70b-44b1-9b6c-e96aa9063e6c",
   "metadata": {},
   "source": [
    "### MultinomialNB"
   ]
  },
  {
   "cell_type": "code",
   "execution_count": 38,
   "id": "4670050a-38ed-4120-b76e-654d5aae91a9",
   "metadata": {},
   "outputs": [],
   "source": [
    "from sklearn.feature_extraction.text import TfidfVectorizer\n",
    "from sklearn.model_selection import train_test_split\n",
    "from sklearn.naive_bayes import MultinomialNB\n",
    "from sklearn.metrics import accuracy_score, classification_report, confusion_matrix\n",
    "import seaborn as sns\n",
    "import matplotlib.pyplot as plt\n",
    "from nltk.corpus import stopwords"
   ]
  },
  {
   "cell_type": "code",
   "execution_count": 39,
   "id": "fbd2619e-fd84-44e3-8105-eb62a3886ad2",
   "metadata": {},
   "outputs": [
    {
     "name": "stderr",
     "output_type": "stream",
     "text": [
      "[nltk_data] Downloading package stopwords to /home/ho.jen/nltk_data...\n",
      "[nltk_data]   Unzipping corpora/stopwords.zip.\n",
      "[nltk_data] Downloading package punkt to /home/ho.jen/nltk_data...\n",
      "[nltk_data]   Package punkt is already up-to-date!\n"
     ]
    }
   ],
   "source": [
    "## Download NLTK stopwords\n",
    "nltk.download('stopwords')\n",
    "nltk.download('punkt')\n",
    "stop_words = set(stopwords.words('english'))"
   ]
  },
  {
   "cell_type": "markdown",
   "id": "22d8d6b0-de5c-4b06-ae97-b8949971870e",
   "metadata": {},
   "source": [
    "### Model Implementation"
   ]
  },
  {
   "cell_type": "markdown",
   "id": "4d453db0-0650-42f6-bd03-5b29f566460a",
   "metadata": {},
   "source": [
    "#### Preparing the Data\n",
    "- The Summary and Text columns are concatenated to create a single input feature.\n",
    "- The dataset is split into training (X_train_text, y_train) and testing (X_test_text, y_test) sets.\n",
    "\n",
    "#### Feature Engineering Using TF-IDF\n",
    "- TF-IDF (Term Frequency-Inverse Document Frequency) is used to convert text into numerical feature vectors.\n",
    "- Bigram model (ngram_range=(1,2)) captures word pairs and improves classification.\n",
    "- Max 5000 features ensures computational efficiency.\n",
    "#### Training the Multinomial Naïve Bayes Classifier\n",
    "- MultinomialNB is a probabilistic classifier well-suited for text classification.\n",
    "- The model is trained on the TF-IDF transformed training set."
   ]
  },
  {
   "cell_type": "code",
   "execution_count": 40,
   "id": "dab195b2-17a8-4666-acb5-5af46885bae8",
   "metadata": {},
   "outputs": [
    {
     "data": {
      "text/html": [
       "<style>#sk-container-id-1 {\n",
       "  /* Definition of color scheme common for light and dark mode */\n",
       "  --sklearn-color-text: #000;\n",
       "  --sklearn-color-text-muted: #666;\n",
       "  --sklearn-color-line: gray;\n",
       "  /* Definition of color scheme for unfitted estimators */\n",
       "  --sklearn-color-unfitted-level-0: #fff5e6;\n",
       "  --sklearn-color-unfitted-level-1: #f6e4d2;\n",
       "  --sklearn-color-unfitted-level-2: #ffe0b3;\n",
       "  --sklearn-color-unfitted-level-3: chocolate;\n",
       "  /* Definition of color scheme for fitted estimators */\n",
       "  --sklearn-color-fitted-level-0: #f0f8ff;\n",
       "  --sklearn-color-fitted-level-1: #d4ebff;\n",
       "  --sklearn-color-fitted-level-2: #b3dbfd;\n",
       "  --sklearn-color-fitted-level-3: cornflowerblue;\n",
       "\n",
       "  /* Specific color for light theme */\n",
       "  --sklearn-color-text-on-default-background: var(--sg-text-color, var(--theme-code-foreground, var(--jp-content-font-color1, black)));\n",
       "  --sklearn-color-background: var(--sg-background-color, var(--theme-background, var(--jp-layout-color0, white)));\n",
       "  --sklearn-color-border-box: var(--sg-text-color, var(--theme-code-foreground, var(--jp-content-font-color1, black)));\n",
       "  --sklearn-color-icon: #696969;\n",
       "\n",
       "  @media (prefers-color-scheme: dark) {\n",
       "    /* Redefinition of color scheme for dark theme */\n",
       "    --sklearn-color-text-on-default-background: var(--sg-text-color, var(--theme-code-foreground, var(--jp-content-font-color1, white)));\n",
       "    --sklearn-color-background: var(--sg-background-color, var(--theme-background, var(--jp-layout-color0, #111)));\n",
       "    --sklearn-color-border-box: var(--sg-text-color, var(--theme-code-foreground, var(--jp-content-font-color1, white)));\n",
       "    --sklearn-color-icon: #878787;\n",
       "  }\n",
       "}\n",
       "\n",
       "#sk-container-id-1 {\n",
       "  color: var(--sklearn-color-text);\n",
       "}\n",
       "\n",
       "#sk-container-id-1 pre {\n",
       "  padding: 0;\n",
       "}\n",
       "\n",
       "#sk-container-id-1 input.sk-hidden--visually {\n",
       "  border: 0;\n",
       "  clip: rect(1px 1px 1px 1px);\n",
       "  clip: rect(1px, 1px, 1px, 1px);\n",
       "  height: 1px;\n",
       "  margin: -1px;\n",
       "  overflow: hidden;\n",
       "  padding: 0;\n",
       "  position: absolute;\n",
       "  width: 1px;\n",
       "}\n",
       "\n",
       "#sk-container-id-1 div.sk-dashed-wrapped {\n",
       "  border: 1px dashed var(--sklearn-color-line);\n",
       "  margin: 0 0.4em 0.5em 0.4em;\n",
       "  box-sizing: border-box;\n",
       "  padding-bottom: 0.4em;\n",
       "  background-color: var(--sklearn-color-background);\n",
       "}\n",
       "\n",
       "#sk-container-id-1 div.sk-container {\n",
       "  /* jupyter's `normalize.less` sets `[hidden] { display: none; }`\n",
       "     but bootstrap.min.css set `[hidden] { display: none !important; }`\n",
       "     so we also need the `!important` here to be able to override the\n",
       "     default hidden behavior on the sphinx rendered scikit-learn.org.\n",
       "     See: https://github.com/scikit-learn/scikit-learn/issues/21755 */\n",
       "  display: inline-block !important;\n",
       "  position: relative;\n",
       "}\n",
       "\n",
       "#sk-container-id-1 div.sk-text-repr-fallback {\n",
       "  display: none;\n",
       "}\n",
       "\n",
       "div.sk-parallel-item,\n",
       "div.sk-serial,\n",
       "div.sk-item {\n",
       "  /* draw centered vertical line to link estimators */\n",
       "  background-image: linear-gradient(var(--sklearn-color-text-on-default-background), var(--sklearn-color-text-on-default-background));\n",
       "  background-size: 2px 100%;\n",
       "  background-repeat: no-repeat;\n",
       "  background-position: center center;\n",
       "}\n",
       "\n",
       "/* Parallel-specific style estimator block */\n",
       "\n",
       "#sk-container-id-1 div.sk-parallel-item::after {\n",
       "  content: \"\";\n",
       "  width: 100%;\n",
       "  border-bottom: 2px solid var(--sklearn-color-text-on-default-background);\n",
       "  flex-grow: 1;\n",
       "}\n",
       "\n",
       "#sk-container-id-1 div.sk-parallel {\n",
       "  display: flex;\n",
       "  align-items: stretch;\n",
       "  justify-content: center;\n",
       "  background-color: var(--sklearn-color-background);\n",
       "  position: relative;\n",
       "}\n",
       "\n",
       "#sk-container-id-1 div.sk-parallel-item {\n",
       "  display: flex;\n",
       "  flex-direction: column;\n",
       "}\n",
       "\n",
       "#sk-container-id-1 div.sk-parallel-item:first-child::after {\n",
       "  align-self: flex-end;\n",
       "  width: 50%;\n",
       "}\n",
       "\n",
       "#sk-container-id-1 div.sk-parallel-item:last-child::after {\n",
       "  align-self: flex-start;\n",
       "  width: 50%;\n",
       "}\n",
       "\n",
       "#sk-container-id-1 div.sk-parallel-item:only-child::after {\n",
       "  width: 0;\n",
       "}\n",
       "\n",
       "/* Serial-specific style estimator block */\n",
       "\n",
       "#sk-container-id-1 div.sk-serial {\n",
       "  display: flex;\n",
       "  flex-direction: column;\n",
       "  align-items: center;\n",
       "  background-color: var(--sklearn-color-background);\n",
       "  padding-right: 1em;\n",
       "  padding-left: 1em;\n",
       "}\n",
       "\n",
       "\n",
       "/* Toggleable style: style used for estimator/Pipeline/ColumnTransformer box that is\n",
       "clickable and can be expanded/collapsed.\n",
       "- Pipeline and ColumnTransformer use this feature and define the default style\n",
       "- Estimators will overwrite some part of the style using the `sk-estimator` class\n",
       "*/\n",
       "\n",
       "/* Pipeline and ColumnTransformer style (default) */\n",
       "\n",
       "#sk-container-id-1 div.sk-toggleable {\n",
       "  /* Default theme specific background. It is overwritten whether we have a\n",
       "  specific estimator or a Pipeline/ColumnTransformer */\n",
       "  background-color: var(--sklearn-color-background);\n",
       "}\n",
       "\n",
       "/* Toggleable label */\n",
       "#sk-container-id-1 label.sk-toggleable__label {\n",
       "  cursor: pointer;\n",
       "  display: flex;\n",
       "  width: 100%;\n",
       "  margin-bottom: 0;\n",
       "  padding: 0.5em;\n",
       "  box-sizing: border-box;\n",
       "  text-align: center;\n",
       "  align-items: start;\n",
       "  justify-content: space-between;\n",
       "  gap: 0.5em;\n",
       "}\n",
       "\n",
       "#sk-container-id-1 label.sk-toggleable__label .caption {\n",
       "  font-size: 0.6rem;\n",
       "  font-weight: lighter;\n",
       "  color: var(--sklearn-color-text-muted);\n",
       "}\n",
       "\n",
       "#sk-container-id-1 label.sk-toggleable__label-arrow:before {\n",
       "  /* Arrow on the left of the label */\n",
       "  content: \"▸\";\n",
       "  float: left;\n",
       "  margin-right: 0.25em;\n",
       "  color: var(--sklearn-color-icon);\n",
       "}\n",
       "\n",
       "#sk-container-id-1 label.sk-toggleable__label-arrow:hover:before {\n",
       "  color: var(--sklearn-color-text);\n",
       "}\n",
       "\n",
       "/* Toggleable content - dropdown */\n",
       "\n",
       "#sk-container-id-1 div.sk-toggleable__content {\n",
       "  max-height: 0;\n",
       "  max-width: 0;\n",
       "  overflow: hidden;\n",
       "  text-align: left;\n",
       "  /* unfitted */\n",
       "  background-color: var(--sklearn-color-unfitted-level-0);\n",
       "}\n",
       "\n",
       "#sk-container-id-1 div.sk-toggleable__content.fitted {\n",
       "  /* fitted */\n",
       "  background-color: var(--sklearn-color-fitted-level-0);\n",
       "}\n",
       "\n",
       "#sk-container-id-1 div.sk-toggleable__content pre {\n",
       "  margin: 0.2em;\n",
       "  border-radius: 0.25em;\n",
       "  color: var(--sklearn-color-text);\n",
       "  /* unfitted */\n",
       "  background-color: var(--sklearn-color-unfitted-level-0);\n",
       "}\n",
       "\n",
       "#sk-container-id-1 div.sk-toggleable__content.fitted pre {\n",
       "  /* unfitted */\n",
       "  background-color: var(--sklearn-color-fitted-level-0);\n",
       "}\n",
       "\n",
       "#sk-container-id-1 input.sk-toggleable__control:checked~div.sk-toggleable__content {\n",
       "  /* Expand drop-down */\n",
       "  max-height: 200px;\n",
       "  max-width: 100%;\n",
       "  overflow: auto;\n",
       "}\n",
       "\n",
       "#sk-container-id-1 input.sk-toggleable__control:checked~label.sk-toggleable__label-arrow:before {\n",
       "  content: \"▾\";\n",
       "}\n",
       "\n",
       "/* Pipeline/ColumnTransformer-specific style */\n",
       "\n",
       "#sk-container-id-1 div.sk-label input.sk-toggleable__control:checked~label.sk-toggleable__label {\n",
       "  color: var(--sklearn-color-text);\n",
       "  background-color: var(--sklearn-color-unfitted-level-2);\n",
       "}\n",
       "\n",
       "#sk-container-id-1 div.sk-label.fitted input.sk-toggleable__control:checked~label.sk-toggleable__label {\n",
       "  background-color: var(--sklearn-color-fitted-level-2);\n",
       "}\n",
       "\n",
       "/* Estimator-specific style */\n",
       "\n",
       "/* Colorize estimator box */\n",
       "#sk-container-id-1 div.sk-estimator input.sk-toggleable__control:checked~label.sk-toggleable__label {\n",
       "  /* unfitted */\n",
       "  background-color: var(--sklearn-color-unfitted-level-2);\n",
       "}\n",
       "\n",
       "#sk-container-id-1 div.sk-estimator.fitted input.sk-toggleable__control:checked~label.sk-toggleable__label {\n",
       "  /* fitted */\n",
       "  background-color: var(--sklearn-color-fitted-level-2);\n",
       "}\n",
       "\n",
       "#sk-container-id-1 div.sk-label label.sk-toggleable__label,\n",
       "#sk-container-id-1 div.sk-label label {\n",
       "  /* The background is the default theme color */\n",
       "  color: var(--sklearn-color-text-on-default-background);\n",
       "}\n",
       "\n",
       "/* On hover, darken the color of the background */\n",
       "#sk-container-id-1 div.sk-label:hover label.sk-toggleable__label {\n",
       "  color: var(--sklearn-color-text);\n",
       "  background-color: var(--sklearn-color-unfitted-level-2);\n",
       "}\n",
       "\n",
       "/* Label box, darken color on hover, fitted */\n",
       "#sk-container-id-1 div.sk-label.fitted:hover label.sk-toggleable__label.fitted {\n",
       "  color: var(--sklearn-color-text);\n",
       "  background-color: var(--sklearn-color-fitted-level-2);\n",
       "}\n",
       "\n",
       "/* Estimator label */\n",
       "\n",
       "#sk-container-id-1 div.sk-label label {\n",
       "  font-family: monospace;\n",
       "  font-weight: bold;\n",
       "  display: inline-block;\n",
       "  line-height: 1.2em;\n",
       "}\n",
       "\n",
       "#sk-container-id-1 div.sk-label-container {\n",
       "  text-align: center;\n",
       "}\n",
       "\n",
       "/* Estimator-specific */\n",
       "#sk-container-id-1 div.sk-estimator {\n",
       "  font-family: monospace;\n",
       "  border: 1px dotted var(--sklearn-color-border-box);\n",
       "  border-radius: 0.25em;\n",
       "  box-sizing: border-box;\n",
       "  margin-bottom: 0.5em;\n",
       "  /* unfitted */\n",
       "  background-color: var(--sklearn-color-unfitted-level-0);\n",
       "}\n",
       "\n",
       "#sk-container-id-1 div.sk-estimator.fitted {\n",
       "  /* fitted */\n",
       "  background-color: var(--sklearn-color-fitted-level-0);\n",
       "}\n",
       "\n",
       "/* on hover */\n",
       "#sk-container-id-1 div.sk-estimator:hover {\n",
       "  /* unfitted */\n",
       "  background-color: var(--sklearn-color-unfitted-level-2);\n",
       "}\n",
       "\n",
       "#sk-container-id-1 div.sk-estimator.fitted:hover {\n",
       "  /* fitted */\n",
       "  background-color: var(--sklearn-color-fitted-level-2);\n",
       "}\n",
       "\n",
       "/* Specification for estimator info (e.g. \"i\" and \"?\") */\n",
       "\n",
       "/* Common style for \"i\" and \"?\" */\n",
       "\n",
       ".sk-estimator-doc-link,\n",
       "a:link.sk-estimator-doc-link,\n",
       "a:visited.sk-estimator-doc-link {\n",
       "  float: right;\n",
       "  font-size: smaller;\n",
       "  line-height: 1em;\n",
       "  font-family: monospace;\n",
       "  background-color: var(--sklearn-color-background);\n",
       "  border-radius: 1em;\n",
       "  height: 1em;\n",
       "  width: 1em;\n",
       "  text-decoration: none !important;\n",
       "  margin-left: 0.5em;\n",
       "  text-align: center;\n",
       "  /* unfitted */\n",
       "  border: var(--sklearn-color-unfitted-level-1) 1pt solid;\n",
       "  color: var(--sklearn-color-unfitted-level-1);\n",
       "}\n",
       "\n",
       ".sk-estimator-doc-link.fitted,\n",
       "a:link.sk-estimator-doc-link.fitted,\n",
       "a:visited.sk-estimator-doc-link.fitted {\n",
       "  /* fitted */\n",
       "  border: var(--sklearn-color-fitted-level-1) 1pt solid;\n",
       "  color: var(--sklearn-color-fitted-level-1);\n",
       "}\n",
       "\n",
       "/* On hover */\n",
       "div.sk-estimator:hover .sk-estimator-doc-link:hover,\n",
       ".sk-estimator-doc-link:hover,\n",
       "div.sk-label-container:hover .sk-estimator-doc-link:hover,\n",
       ".sk-estimator-doc-link:hover {\n",
       "  /* unfitted */\n",
       "  background-color: var(--sklearn-color-unfitted-level-3);\n",
       "  color: var(--sklearn-color-background);\n",
       "  text-decoration: none;\n",
       "}\n",
       "\n",
       "div.sk-estimator.fitted:hover .sk-estimator-doc-link.fitted:hover,\n",
       ".sk-estimator-doc-link.fitted:hover,\n",
       "div.sk-label-container:hover .sk-estimator-doc-link.fitted:hover,\n",
       ".sk-estimator-doc-link.fitted:hover {\n",
       "  /* fitted */\n",
       "  background-color: var(--sklearn-color-fitted-level-3);\n",
       "  color: var(--sklearn-color-background);\n",
       "  text-decoration: none;\n",
       "}\n",
       "\n",
       "/* Span, style for the box shown on hovering the info icon */\n",
       ".sk-estimator-doc-link span {\n",
       "  display: none;\n",
       "  z-index: 9999;\n",
       "  position: relative;\n",
       "  font-weight: normal;\n",
       "  right: .2ex;\n",
       "  padding: .5ex;\n",
       "  margin: .5ex;\n",
       "  width: min-content;\n",
       "  min-width: 20ex;\n",
       "  max-width: 50ex;\n",
       "  color: var(--sklearn-color-text);\n",
       "  box-shadow: 2pt 2pt 4pt #999;\n",
       "  /* unfitted */\n",
       "  background: var(--sklearn-color-unfitted-level-0);\n",
       "  border: .5pt solid var(--sklearn-color-unfitted-level-3);\n",
       "}\n",
       "\n",
       ".sk-estimator-doc-link.fitted span {\n",
       "  /* fitted */\n",
       "  background: var(--sklearn-color-fitted-level-0);\n",
       "  border: var(--sklearn-color-fitted-level-3);\n",
       "}\n",
       "\n",
       ".sk-estimator-doc-link:hover span {\n",
       "  display: block;\n",
       "}\n",
       "\n",
       "/* \"?\"-specific style due to the `<a>` HTML tag */\n",
       "\n",
       "#sk-container-id-1 a.estimator_doc_link {\n",
       "  float: right;\n",
       "  font-size: 1rem;\n",
       "  line-height: 1em;\n",
       "  font-family: monospace;\n",
       "  background-color: var(--sklearn-color-background);\n",
       "  border-radius: 1rem;\n",
       "  height: 1rem;\n",
       "  width: 1rem;\n",
       "  text-decoration: none;\n",
       "  /* unfitted */\n",
       "  color: var(--sklearn-color-unfitted-level-1);\n",
       "  border: var(--sklearn-color-unfitted-level-1) 1pt solid;\n",
       "}\n",
       "\n",
       "#sk-container-id-1 a.estimator_doc_link.fitted {\n",
       "  /* fitted */\n",
       "  border: var(--sklearn-color-fitted-level-1) 1pt solid;\n",
       "  color: var(--sklearn-color-fitted-level-1);\n",
       "}\n",
       "\n",
       "/* On hover */\n",
       "#sk-container-id-1 a.estimator_doc_link:hover {\n",
       "  /* unfitted */\n",
       "  background-color: var(--sklearn-color-unfitted-level-3);\n",
       "  color: var(--sklearn-color-background);\n",
       "  text-decoration: none;\n",
       "}\n",
       "\n",
       "#sk-container-id-1 a.estimator_doc_link.fitted:hover {\n",
       "  /* fitted */\n",
       "  background-color: var(--sklearn-color-fitted-level-3);\n",
       "}\n",
       "</style><div id=\"sk-container-id-1\" class=\"sk-top-container\"><div class=\"sk-text-repr-fallback\"><pre>MultinomialNB()</pre><b>In a Jupyter environment, please rerun this cell to show the HTML representation or trust the notebook. <br />On GitHub, the HTML representation is unable to render, please try loading this page with nbviewer.org.</b></div><div class=\"sk-container\" hidden><div class=\"sk-item\"><div class=\"sk-estimator fitted sk-toggleable\"><input class=\"sk-toggleable__control sk-hidden--visually\" id=\"sk-estimator-id-1\" type=\"checkbox\" checked><label for=\"sk-estimator-id-1\" class=\"sk-toggleable__label fitted sk-toggleable__label-arrow\"><div><div>MultinomialNB</div></div><div><a class=\"sk-estimator-doc-link fitted\" rel=\"noreferrer\" target=\"_blank\" href=\"https://scikit-learn.org/1.6/modules/generated/sklearn.naive_bayes.MultinomialNB.html\">?<span>Documentation for MultinomialNB</span></a><span class=\"sk-estimator-doc-link fitted\">i<span>Fitted</span></span></div></label><div class=\"sk-toggleable__content fitted\"><pre>MultinomialNB()</pre></div> </div></div></div></div>"
      ],
      "text/plain": [
       "MultinomialNB()"
      ]
     },
     "execution_count": 40,
     "metadata": {},
     "output_type": "execute_result"
    }
   ],
   "source": [
    "# Now split out the text and sentiment labels for the test set\n",
    "X_train_text = train_oversampled_df['Summary'] + \" \" + train_oversampled_df['Text']\n",
    "X_test_text = test_df['Summary'] + \" \" + test_df['Text']\n",
    "y_train = train_oversampled_df['Sentiment_label']\n",
    "y_test = test_df['Sentiment_label']\n",
    "\n",
    "\n",
    "# Then, transform the text using TF-IDF\n",
    "from sklearn.feature_extraction.text import TfidfVectorizer\n",
    "\n",
    "vectorizer = TfidfVectorizer(ngram_range=(1,2), max_features=5000)\n",
    "X_train = vectorizer.fit_transform(X_train_text)\n",
    "X_test = vectorizer.transform(X_test_text)\n",
    "\n",
    "# Train Naïve Bayes Classifier\n",
    "nb_model = MultinomialNB()\n",
    "nb_model.fit(X_train, y_train)\n"
   ]
  },
  {
   "cell_type": "markdown",
   "id": "d75195ec-d356-475f-875a-7649de905e07",
   "metadata": {},
   "source": [
    "#### Making Predictions on the Test Set\n",
    "- The model predicts sentiment labels (y_pred) for the TF-IDF transformed test data (X_test).\n",
    "- Predictions are compared against the actual labels (y_test).\n",
    "\n",
    "#### Identifying Misclassified Reviews\n",
    "- The model is not perfect, so we extract instances where predictions do not match actual labels.\n",
    "- np.where(y_pred != y_test)[0] finds the indices of misclassified reviews."
   ]
  },
  {
   "cell_type": "code",
   "execution_count": 41,
   "id": "7ca92cb2-2ea1-45f7-8ee7-512e1be87dbc",
   "metadata": {},
   "outputs": [
    {
     "name": "stdout",
     "output_type": "stream",
     "text": [
      "                                                   Review    Actual Predicted\n",
      "438515  try these tweaks for a tasty meal didnt expect...  positive  negative\n",
      "463513  better than slim jim this is much better than ...  positive  negative\n",
      "485790  addictive ive never been a big fan on chips wh...  positive  negative\n",
      "311490  surprisingly all  of my dogs liked these i say...  positive  negative\n",
      "320292  expiration date is good i was worried about th...  positive  negative\n",
      "268590  mango is really mangoe if you dont like mangos...  positive  negative\n",
      "254530  do donckels definitely i received donckels for...  positive  negative\n",
      "42276   it is really that easy  minutes simmering and ...  positive  negative\n",
      "114138  newton  graham cracker  win newtons fruit thin...  positive  negative\n",
      "55978   seeds of change quinoa delivers a keen wow i h...  positive  negative\n"
     ]
    }
   ],
   "source": [
    "import numpy as np\n",
    "import pandas as pd\n",
    "\n",
    "# Make predictions\n",
    "y_pred = nb_model.predict(X_test)\n",
    "\n",
    "\n",
    "# Find misclassified indices\n",
    "misclassified_indices = np.where(y_pred != y_test)[0]\n",
    "\n",
    "# Create a DataFrame of misclassified reviews\n",
    "misclassified_reviews = pd.DataFrame({\n",
    "    \"Review\": X_test_text.iloc[misclassified_indices],\n",
    "    \"Actual\": y_test.iloc[misclassified_indices],\n",
    "    \"Predicted\": y_pred[misclassified_indices]\n",
    "})\n",
    "\n",
    "print(misclassified_reviews.head(10))"
   ]
  },
  {
   "cell_type": "markdown",
   "id": "237ed339-b1e8-4c47-b0e3-65e87e8ea612",
   "metadata": {},
   "source": [
    "### Model Evaluation\n",
    "#### The model’s performance is evaluated using:\n",
    "\n",
    "- Accuracy: Measures the overall percentage of correct predictions.\n",
    "- Precision: Out of predicted positive reviews, how many were actually positive?\n",
    "- Recall: Out of all actual positive reviews, how many did the model identify correctly?\n",
    "- F1 Score: A balance between precision and recall.\n",
    "- Classification Report: Detailed breakdown of precision, recall, and F1-score for each class."
   ]
  },
  {
   "cell_type": "code",
   "execution_count": 42,
   "id": "44914db7-e96b-4f0e-9fc7-c21944822c3c",
   "metadata": {},
   "outputs": [
    {
     "name": "stdout",
     "output_type": "stream",
     "text": [
      "Accuracy: 0.8669\n",
      "Classification report:\n",
      "               precision    recall  f1-score   support\n",
      "\n",
      "    negative       0.64      0.88      0.74      2668\n",
      "    positive       0.96      0.86      0.91      9832\n",
      "\n",
      "    accuracy                           0.87     12500\n",
      "   macro avg       0.80      0.87      0.82     12500\n",
      "weighted avg       0.89      0.87      0.87     12500\n",
      "\n"
     ]
    }
   ],
   "source": [
    "\n",
    "\n",
    "# accuracy measures the overall correctness of the model(correct_pred / total_pred)\n",
    "\n",
    "accuracy = accuracy_score(y_test, y_pred)\n",
    "print(f\"Accuracy: {accuracy:.4f}\")\n",
    "\n",
    "#Classification report\n",
    "\n",
    "#Precision:How many of the predicted positives were actually positive? (Lower False Positives)\n",
    "#Recall :How many of the actual positives were correctly identified? (Lower False Negatives)\n",
    "#F1score: The harmonic mean of precision & recall (a balance between the two)\n",
    "#Support:The number of actual samples in that class\n",
    "\n",
    "print('Classification report:\\n',classification_report(y_test, y_pred))"
   ]
  },
  {
   "cell_type": "markdown",
   "id": "100d262b-01a6-4328-a1bc-cfd90fdead1c",
   "metadata": {},
   "source": [
    "### Confusion Matrix"
   ]
  },
  {
   "cell_type": "code",
   "execution_count": 43,
   "id": "f9b615bc-2052-41a9-9b23-7156d8d118a2",
   "metadata": {},
   "outputs": [
    {
     "data": {
      "image/png": "[encoded data removed]",
      "text/plain": [
       "<Figure size 640x480 with 2 Axes>"
      ]
     },
     "metadata": {},
     "output_type": "display_data"
    }
   ],
   "source": [
    "cm= confusion_matrix(y_test, y_pred)\n",
    "sns.heatmap(cm, annot=True, fmt='d',cmap='Blues')\n",
    "plt.xlabel('Predicted')\n",
    "plt.ylabel('Actual')\n",
    "plt.title('Confusion Matrix')\n",
    "plt.show()"
   ]
  },
  {
   "cell_type": "markdown",
   "id": "f708067f-2827-4221-971b-7c11002d6452",
   "metadata": {},
   "source": [
    "# LSTM Model"
   ]
  },
  {
   "cell_type": "code",
   "execution_count": 44,
   "id": "cd90a19e-66bd-43d8-98de-cf1c96ff33b8",
   "metadata": {},
   "outputs": [
    {
     "name": "stderr",
     "output_type": "stream",
     "text": [
      "2025-03-13 01:36:37.710110: E external/local_xla/xla/stream_executor/cuda/cuda_fft.cc:477] Unable to register cuFFT factory: Attempting to register factory for plugin cuFFT when one has already been registered\n",
      "WARNING: All log messages before absl::InitializeLog() is called are written to STDERR\n",
      "E0000 00:00:1741844197.729921  391573 cuda_dnn.cc:8310] Unable to register cuDNN factory: Attempting to register factory for plugin cuDNN when one has already been registered\n",
      "E0000 00:00:1741844197.735254  391573 cuda_blas.cc:1418] Unable to register cuBLAS factory: Attempting to register factory for plugin cuBLAS when one has already been registered\n",
      "2025-03-13 01:36:37.753653: I tensorflow/core/platform/cpu_feature_guard.cc:210] This TensorFlow binary is optimized to use available CPU instructions in performance-critical operations.\n",
      "To enable the following instructions: AVX2 FMA, in other operations, rebuild TensorFlow with the appropriate compiler flags.\n"
     ]
    },
    {
     "name": "stdout",
     "output_type": "stream",
     "text": [
      "x_train shape: (50000, 500)\n",
      "x_test shape: (12500, 500)\n"
     ]
    }
   ],
   "source": [
    "import pandas as pd\n",
    "import numpy as np\n",
    "from tensorflow.keras.preprocessing.text import Tokenizer\n",
    "from tensorflow.keras.preprocessing.sequence import pad_sequences\n",
    "from tensorflow.keras.models import Sequential\n",
    "from tensorflow.keras.layers import Embedding, LSTM, Dense\n",
    "import tensorflow as tf\n",
    "\n",
    "# Create document lists as (review_text, label) pairs\n",
    "# Separate texts and labels\n",
    "train_texts, train_labels = train_oversampled_df['Summary'] + \" \" + train_oversampled_df['Text'], train_oversampled_df['Sentiment_label']\n",
    "test_texts, test_labels = test_df['Summary'] + \" \" + test_df['Text'], test_df['Sentiment_label']\n",
    "\n",
    "# Convert sentiment labels to binary (positive -> 1, negative -> 0)\n",
    "label_map = {'positive': 1, 'negative': 0}\n",
    "train_labels = np.array([label_map[label] for label in train_labels])\n",
    "test_labels = np.array([label_map[label] for label in test_labels])\n",
    "\n",
    "# Tokenization and sequence padding\n",
    "max_features = 25000  # Vocabulary size\n",
    "maxlen = 500          # Maximum sequence length\n",
    "\n",
    "tokenizer = Tokenizer(num_words=max_features, oov_token='<OOV>')\n",
    "tokenizer.fit_on_texts(train_texts)\n",
    "\n",
    "x_train = tokenizer.texts_to_sequences(train_texts)\n",
    "x_test = tokenizer.texts_to_sequences(test_texts)\n",
    "\n",
    "x_train = pad_sequences(x_train, maxlen=maxlen, padding='post', truncating='post')\n",
    "x_test = pad_sequences(x_test, maxlen=maxlen, padding='post', truncating='post')\n",
    "\n",
    "print(\"x_train shape:\", x_train.shape)\n",
    "print(\"x_test shape:\", x_test.shape)\n",
    "\n"
   ]
  },
  {
   "cell_type": "code",
   "execution_count": 45,
   "id": "5661dd33-82f9-44f9-afdd-ad133e2f76a1",
   "metadata": {},
   "outputs": [
    {
     "name": "stderr",
     "output_type": "stream",
     "text": [
      "/courses/IE7500.202530/shared/conda_env_1/lib/python3.12/site-packages/keras/src/layers/core/embedding.py:90: UserWarning: Argument `input_length` is deprecated. Just remove it.\n",
      "  warnings.warn(\n",
      "W0000 00:00:1741844218.665320  391573 gpu_device.cc:2344] Cannot dlopen some GPU libraries. Please make sure the missing libraries mentioned above are installed properly if you would like to use GPU. Follow the guide at https://www.tensorflow.org/install/gpu for how to download and setup the required libraries for your platform.\n",
      "Skipping registering GPU devices...\n"
     ]
    },
    {
     "data": {
      "text/html": [
       "<pre style=\"white-space:pre;overflow-x:auto;line-height:normal;font-family:Menlo,'DejaVu Sans Mono',consolas,'Courier New',monospace\"><span style=\"font-weight: bold\">Model: \"sequential\"</span>\n",
       "</pre>\n"
      ],
      "text/plain": [
       "\u001b[1mModel: \"sequential\"\u001b[0m\n"
      ]
     },
     "metadata": {},
     "output_type": "display_data"
    },
    {
     "data": {
      "text/html": [
       "<pre style=\"white-space:pre;overflow-x:auto;line-height:normal;font-family:Menlo,'DejaVu Sans Mono',consolas,'Courier New',monospace\">┏━━━━━━━━━━━━━━━━━━━━━━━━━━━━━━━━━┳━━━━━━━━━━━━━━━━━━━━━━━━┳━━━━━━━━━━━━━━━┓\n",
       "┃<span style=\"font-weight: bold\"> Layer (type)                    </span>┃<span style=\"font-weight: bold\"> Output Shape           </span>┃<span style=\"font-weight: bold\">       Param # </span>┃\n",
       "┡━━━━━━━━━━━━━━━━━━━━━━━━━━━━━━━━━╇━━━━━━━━━━━━━━━━━━━━━━━━╇━━━━━━━━━━━━━━━┩\n",
       "│ embedding (<span style=\"color: #0087ff; text-decoration-color: #0087ff\">Embedding</span>)           │ ?                      │   <span style=\"color: #00af00; text-decoration-color: #00af00\">0</span> (unbuilt) │\n",
       "├─────────────────────────────────┼────────────────────────┼───────────────┤\n",
       "│ lstm (<span style=\"color: #0087ff; text-decoration-color: #0087ff\">LSTM</span>)                     │ ?                      │   <span style=\"color: #00af00; text-decoration-color: #00af00\">0</span> (unbuilt) │\n",
       "├─────────────────────────────────┼────────────────────────┼───────────────┤\n",
       "│ dense (<span style=\"color: #0087ff; text-decoration-color: #0087ff\">Dense</span>)                   │ ?                      │   <span style=\"color: #00af00; text-decoration-color: #00af00\">0</span> (unbuilt) │\n",
       "└─────────────────────────────────┴────────────────────────┴───────────────┘\n",
       "</pre>\n"
      ],
      "text/plain": [
       "┏━━━━━━━━━━━━━━━━━━━━━━━━━━━━━━━━━┳━━━━━━━━━━━━━━━━━━━━━━━━┳━━━━━━━━━━━━━━━┓\n",
       "┃\u001b[1m \u001b[0m\u001b[1mLayer (type)                   \u001b[0m\u001b[1m \u001b[0m┃\u001b[1m \u001b[0m\u001b[1mOutput Shape          \u001b[0m\u001b[1m \u001b[0m┃\u001b[1m \u001b[0m\u001b[1m      Param #\u001b[0m\u001b[1m \u001b[0m┃\n",
       "┡━━━━━━━━━━━━━━━━━━━━━━━━━━━━━━━━━╇━━━━━━━━━━━━━━━━━━━━━━━━╇━━━━━━━━━━━━━━━┩\n",
       "│ embedding (\u001b[38;5;33mEmbedding\u001b[0m)           │ ?                      │   \u001b[38;5;34m0\u001b[0m (unbuilt) │\n",
       "├─────────────────────────────────┼────────────────────────┼───────────────┤\n",
       "│ lstm (\u001b[38;5;33mLSTM\u001b[0m)                     │ ?                      │   \u001b[38;5;34m0\u001b[0m (unbuilt) │\n",
       "├─────────────────────────────────┼────────────────────────┼───────────────┤\n",
       "│ dense (\u001b[38;5;33mDense\u001b[0m)                   │ ?                      │   \u001b[38;5;34m0\u001b[0m (unbuilt) │\n",
       "└─────────────────────────────────┴────────────────────────┴───────────────┘\n"
      ]
     },
     "metadata": {},
     "output_type": "display_data"
    },
    {
     "data": {
      "text/html": [
       "<pre style=\"white-space:pre;overflow-x:auto;line-height:normal;font-family:Menlo,'DejaVu Sans Mono',consolas,'Courier New',monospace\"><span style=\"font-weight: bold\"> Total params: </span><span style=\"color: #00af00; text-decoration-color: #00af00\">0</span> (0.00 B)\n",
       "</pre>\n"
      ],
      "text/plain": [
       "\u001b[1m Total params: \u001b[0m\u001b[38;5;34m0\u001b[0m (0.00 B)\n"
      ]
     },
     "metadata": {},
     "output_type": "display_data"
    },
    {
     "data": {
      "text/html": [
       "<pre style=\"white-space:pre;overflow-x:auto;line-height:normal;font-family:Menlo,'DejaVu Sans Mono',consolas,'Courier New',monospace\"><span style=\"font-weight: bold\"> Trainable params: </span><span style=\"color: #00af00; text-decoration-color: #00af00\">0</span> (0.00 B)\n",
       "</pre>\n"
      ],
      "text/plain": [
       "\u001b[1m Trainable params: \u001b[0m\u001b[38;5;34m0\u001b[0m (0.00 B)\n"
      ]
     },
     "metadata": {},
     "output_type": "display_data"
    },
    {
     "data": {
      "text/html": [
       "<pre style=\"white-space:pre;overflow-x:auto;line-height:normal;font-family:Menlo,'DejaVu Sans Mono',consolas,'Courier New',monospace\"><span style=\"font-weight: bold\"> Non-trainable params: </span><span style=\"color: #00af00; text-decoration-color: #00af00\">0</span> (0.00 B)\n",
       "</pre>\n"
      ],
      "text/plain": [
       "\u001b[1m Non-trainable params: \u001b[0m\u001b[38;5;34m0\u001b[0m (0.00 B)\n"
      ]
     },
     "metadata": {},
     "output_type": "display_data"
    },
    {
     "name": "stdout",
     "output_type": "stream",
     "text": [
      "Epoch 1/5\n",
      "\u001b[1m1250/1250\u001b[0m \u001b[32m━━━━━━━━━━━━━━━━━━━━\u001b[0m\u001b[37m\u001b[0m \u001b[1m146s\u001b[0m 115ms/step - accuracy: 0.6241 - loss: 0.6640 - val_accuracy: 0.0023 - val_loss: 1.0094\n",
      "Epoch 2/5\n",
      "\u001b[1m1250/1250\u001b[0m \u001b[32m━━━━━━━━━━━━━━━━━━━━\u001b[0m\u001b[37m\u001b[0m \u001b[1m144s\u001b[0m 116ms/step - accuracy: 0.6263 - loss: 0.6612 - val_accuracy: 0.0037 - val_loss: 1.0073\n",
      "Epoch 3/5\n",
      "\u001b[1m 489/1250\u001b[0m \u001b[32m━━━━━━━\u001b[0m\u001b[37m━━━━━━━━━━━━━\u001b[0m \u001b[1m1:21\u001b[0m 106ms/step - accuracy: 0.6249 - loss: 0.6613"
     ]
    },
    {
     "name": "stderr",
     "output_type": "stream",
     "text": [
      "IOPub message rate exceeded.\n",
      "The Jupyter server will temporarily stop sending output\n",
      "to the client in order to avoid crashing it.\n",
      "To change this limit, set the config variable\n",
      "`--ServerApp.iopub_msg_rate_limit`.\n",
      "\n",
      "Current values:\n",
      "ServerApp.iopub_msg_rate_limit=1000.0 (msgs/sec)\n",
      "ServerApp.rate_limit_window=3.0 (secs)\n",
      "\n"
     ]
    }
   ],
   "source": [
    "# Build the LSTM model\n",
    "embedding_size = 128\n",
    "lstm_units = 64\n",
    "batch_size = 32\n",
    "epochs = 5\n",
    "\n",
    "model = Sequential()\n",
    "model.add(Embedding(input_dim=max_features, output_dim=embedding_size, input_length=maxlen))\n",
    "model.add(LSTM(lstm_units, dropout=0.2, recurrent_dropout=0.2))\n",
    "model.add(Dense(1, activation='sigmoid'))\n",
    "\n",
    "model.compile(loss='binary_crossentropy', optimizer='adam', metrics=['accuracy'])\n",
    "model.summary()\n",
    "\n",
    "# Train the model (using 20% of training data for validation)\n",
    "history = model.fit(x_train, train_labels,\n",
    "                    validation_split=0.2,\n",
    "                    batch_size=batch_size,\n",
    "                    epochs=epochs)\n",
    "\n",
    "# Evaluate the model on the test set\n",
    "score, accuracy = model.evaluate(x_test, test_labels, batch_size=batch_size)\n",
    "print(\"Test loss:\", score)\n",
    "print(\"Test accuracy:\", accuracy)"
   ]
  },
  {
   "cell_type": "code",
   "execution_count": 49,
   "id": "3d209970-c8b6-4a08-8873-68a71ddfa109",
   "metadata": {},
   "outputs": [
    {
     "name": "stdout",
     "output_type": "stream",
     "text": [
      "Test loss: 0.5857518911361694\n",
      "Test accuracy: 0.7864000201225281\n"
     ]
    }
   ],
   "source": [
    "print(\"Test loss:\", score)\n",
    "print(\"Test accuracy:\", accuracy)"
   ]
  },
  {
   "cell_type": "code",
   "execution_count": null,
   "id": "4ce6f410-0aec-45f0-89e6-c6cf179a7a66",
   "metadata": {},
   "outputs": [],
   "source": []
  },
  {
   "cell_type": "code",
   "execution_count": 46,
   "id": "c32ee6de-4af7-44fb-9ed9-2b655a1542e1",
   "metadata": {},
   "outputs": [
    {
     "name": "stdout",
     "output_type": "stream",
     "text": [
      "\u001b[1m391/391\u001b[0m \u001b[32m━━━━━━━━━━━━━━━━━━━━\u001b[0m\u001b[37m\u001b[0m \u001b[1m15s\u001b[0m 37ms/step\n",
      "Classification report:\n",
      "               precision    recall  f1-score   support\n",
      "\n",
      "           0       0.45      0.00      0.01      2668\n",
      "           1       0.79      1.00      0.88      9832\n",
      "\n",
      "    accuracy                           0.79     12500\n",
      "   macro avg       0.62      0.50      0.44     12500\n",
      "weighted avg       0.72      0.79      0.69     12500\n",
      "\n"
     ]
    }
   ],
   "source": [
    "from sklearn.metrics import classification_report, confusion_matrix\n",
    "\n",
    "# Generate predicted probabilities\n",
    "y_pred_prob = model.predict(x_test)\n",
    "\n",
    "# Convert probabilities to binary predictions (0 or 1) using threshold 0.5\n",
    "y_pred = (y_pred_prob > 0.5).astype(int)\n",
    "\n",
    "print('Classification report:\\n',classification_report(test_labels, y_pred))"
   ]
  },
  {
   "cell_type": "code",
   "execution_count": 47,
   "id": "626cb257-b355-4ac5-b837-b893a9742b21",
   "metadata": {},
   "outputs": [
    {
     "name": "stdout",
     "output_type": "stream",
     "text": [
      "[1 1 0 ... 1 1 1]\n",
      "[[1]\n",
      " [1]\n",
      " [1]\n",
      " ...\n",
      " [1]\n",
      " [1]\n",
      " [1]]\n"
     ]
    }
   ],
   "source": [
    "print(test_labels)\n",
    "print(y_pred)"
   ]
  },
  {
   "cell_type": "code",
   "execution_count": 48,
   "id": "c7d655e1-9ede-4bc7-b7fa-6cbc41ae9d9b",
   "metadata": {},
   "outputs": [
    {
     "data": {
      "image/png": "[encoded data removed]",
      "text/plain": [
       "<Figure size 640x480 with 2 Axes>"
      ]
     },
     "metadata": {},
     "output_type": "display_data"
    }
   ],
   "source": [
    "cm= confusion_matrix(test_labels, y_pred)\n",
    "sns.heatmap(cm, annot=True, fmt='d',cmap='Blues')\n",
    "plt.xlabel('Predicted')\n",
    "plt.ylabel('Actual')\n",
    "plt.title('Confusion Matrix')\n",
    "plt.show()"
   ]
  },
  {
   "cell_type": "markdown",
   "id": "7d5acffe-04c4-469f-af8c-a099dd177c25",
   "metadata": {},
   "source": [
    "# LSTM model result\n",
    "\n",
    "The LSTM model with a F1 score of 0.88 is quite good for positive sentiment but is unable to pick out negative reviews well with F1 score of 0.01. The relatively small training set for LSTM and a lack of large pre-training corpus compared to Transformer models severely impacted suitability for sentiment analysis.\n",
    "LSTM has high computing cost and tends to overfit with small training sets. Long range dependency is not captured well. Scikit-learn MultinomialNB is a better fit for sentiment analysis and the RoBERTa model is even better.\n",
    "Test accuracy: 0.7860000133514404\n",
    "\n",
    "Classification report:\n",
    "               precision    recall  f1-score   support\n",
    "\n",
    "           0       0.35      0.00      0.01      2668\n",
    "           1       0.79      1.00      0.88      9832\n",
    "\n",
    "    accuracy                           0.79     12500\n",
    "   macro avg       0.57      0.50      0.44     12500\n",
    "weighted avg       0.69      0.79      0.69     12500\n"
   ]
  },
  {
   "cell_type": "code",
   "execution_count": null,
   "id": "f150914b-7e1b-4d3c-a209-628a7aa515ba",
   "metadata": {},
   "outputs": [],
   "source": []
  }
 ],
 "metadata": {
  "kernelspec": {
   "display_name": "Python 3 (ipykernel)",
   "language": "python",
   "name": "python3"
  },
  "language_info": {
   "codemirror_mode": {
    "name": "ipython",
    "version": 3
   },
   "file_extension": ".py",
   "mimetype": "text/x-python",
   "name": "python",
   "nbconvert_exporter": "python",
   "pygments_lexer": "ipython3",
   "version": "3.12.4"
  }
 },
 "nbformat": 4,
 "nbformat_minor": 5
}
