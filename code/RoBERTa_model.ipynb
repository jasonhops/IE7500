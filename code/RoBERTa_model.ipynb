{
 "cells": [
  {
   "cell_type": "markdown",
   "id": "6f03a30a-ba22-422e-9a9b-d9644f57a902",
   "metadata": {
    "id": "6f03a30a-ba22-422e-9a9b-d9644f57a902"
   },
   "source": [
    "### RoBERTa Model for sentiment analysis on Amazon fine food reviews dataset"
   ]
  },
  {
   "cell_type": "code",
   "execution_count": 6,
   "id": "bcdc35ef-b512-481a-8b6a-e8f189d7c101",
   "metadata": {
    "executionInfo": {
     "elapsed": 1,
     "status": "ok",
     "timestamp": 1741713090371,
     "user": {
      "displayName": "Arundhati Ubhad",
      "userId": "04267315397299508927"
     },
     "user_tz": 420
    },
    "id": "bcdc35ef-b512-481a-8b6a-e8f189d7c101"
   },
   "outputs": [],
   "source": [
    "#pip install transformers datasets torch scikit-learn pandas tqdm\n"
   ]
  },
  {
   "cell_type": "code",
   "execution_count": 1,
   "id": "69c9b4c8-893e-42e7-ba71-e63f2cef0b55",
   "metadata": {
    "executionInfo": {
     "elapsed": 7,
     "status": "ok",
     "timestamp": 1741713090379,
     "user": {
      "displayName": "Arundhati Ubhad",
      "userId": "04267315397299508927"
     },
     "user_tz": 420
    },
    "id": "69c9b4c8-893e-42e7-ba71-e63f2cef0b55"
   },
   "outputs": [],
   "source": [
    "import pandas as pd"
   ]
  },
  {
   "cell_type": "code",
   "execution_count": 2,
   "id": "8FeALOZVudcl",
   "metadata": {
    "executionInfo": {
     "elapsed": 0,
     "status": "ok",
     "timestamp": 1741713090380,
     "user": {
      "displayName": "Arundhati Ubhad",
      "userId": "04267315397299508927"
     },
     "user_tz": 420
    },
    "id": "8FeALOZVudcl"
   },
   "outputs": [],
   "source": [
    "#from google.colab import drive\n"
   ]
  },
  {
   "cell_type": "code",
   "execution_count": 3,
   "id": "SsHepKi8ugbA",
   "metadata": {
    "colab": {
     "base_uri": "https://localhost:8080/"
    },
    "executionInfo": {
     "elapsed": 573,
     "status": "ok",
     "timestamp": 1741713090953,
     "user": {
      "displayName": "Arundhati Ubhad",
      "userId": "04267315397299508927"
     },
     "user_tz": 420
    },
    "id": "SsHepKi8ugbA",
    "outputId": "1ff79039-8bf9-4d27-9950-688465348fc3"
   },
   "outputs": [],
   "source": [
    "#drive.mount('/content/drive')\n"
   ]
  },
  {
   "cell_type": "markdown",
   "id": "8bb075e6-c161-4504-b3af-ebff9fa8bb9f",
   "metadata": {
    "id": "8bb075e6-c161-4504-b3af-ebff9fa8bb9f"
   },
   "source": [
    "### Loading Amazon Fine Food Reviews dataset. It has 568454 rows and 10 columns"
   ]
  },
  {
   "cell_type": "code",
   "execution_count": 4,
   "id": "857de04c-5fa2-4398-84b2-ce6c0a3df536",
   "metadata": {
    "colab": {
     "base_uri": "https://localhost:8080/",
     "height": 695
    },
    "executionInfo": {
     "elapsed": 6246,
     "status": "ok",
     "timestamp": 1741713097199,
     "user": {
      "displayName": "Arundhati Ubhad",
      "userId": "04267315397299508927"
     },
     "user_tz": 420
    },
    "id": "857de04c-5fa2-4398-84b2-ce6c0a3df536",
    "outputId": "695c27b0-4f83-47aa-fbcc-d40eec2649a2"
   },
   "outputs": [
    {
     "data": {
      "text/html": [
       "<div>\n",
       "<style scoped>\n",
       "    .dataframe tbody tr th:only-of-type {\n",
       "        vertical-align: middle;\n",
       "    }\n",
       "\n",
       "    .dataframe tbody tr th {\n",
       "        vertical-align: top;\n",
       "    }\n",
       "\n",
       "    .dataframe thead th {\n",
       "        text-align: right;\n",
       "    }\n",
       "</style>\n",
       "<table border=\"1\" class=\"dataframe\">\n",
       "  <thead>\n",
       "    <tr style=\"text-align: right;\">\n",
       "      <th></th>\n",
       "      <th>Id</th>\n",
       "      <th>ProductId</th>\n",
       "      <th>UserId</th>\n",
       "      <th>ProfileName</th>\n",
       "      <th>HelpfulnessNumerator</th>\n",
       "      <th>HelpfulnessDenominator</th>\n",
       "      <th>Score</th>\n",
       "      <th>Time</th>\n",
       "      <th>Summary</th>\n",
       "      <th>Text</th>\n",
       "    </tr>\n",
       "  </thead>\n",
       "  <tbody>\n",
       "    <tr>\n",
       "      <th>0</th>\n",
       "      <td>1</td>\n",
       "      <td>B001E4KFG0</td>\n",
       "      <td>A3SGXH7AUHU8GW</td>\n",
       "      <td>delmartian</td>\n",
       "      <td>1</td>\n",
       "      <td>1</td>\n",
       "      <td>5</td>\n",
       "      <td>1303862400</td>\n",
       "      <td>Good Quality Dog Food</td>\n",
       "      <td>I have bought several of the Vitality canned d...</td>\n",
       "    </tr>\n",
       "    <tr>\n",
       "      <th>1</th>\n",
       "      <td>2</td>\n",
       "      <td>B00813GRG4</td>\n",
       "      <td>A1D87F6ZCVE5NK</td>\n",
       "      <td>dll pa</td>\n",
       "      <td>0</td>\n",
       "      <td>0</td>\n",
       "      <td>1</td>\n",
       "      <td>1346976000</td>\n",
       "      <td>Not as Advertised</td>\n",
       "      <td>Product arrived labeled as Jumbo Salted Peanut...</td>\n",
       "    </tr>\n",
       "    <tr>\n",
       "      <th>2</th>\n",
       "      <td>3</td>\n",
       "      <td>B000LQOCH0</td>\n",
       "      <td>ABXLMWJIXXAIN</td>\n",
       "      <td>Natalia Corres \"Natalia Corres\"</td>\n",
       "      <td>1</td>\n",
       "      <td>1</td>\n",
       "      <td>4</td>\n",
       "      <td>1219017600</td>\n",
       "      <td>\"Delight\" says it all</td>\n",
       "      <td>This is a confection that has been around a fe...</td>\n",
       "    </tr>\n",
       "    <tr>\n",
       "      <th>3</th>\n",
       "      <td>4</td>\n",
       "      <td>B000UA0QIQ</td>\n",
       "      <td>A395BORC6FGVXV</td>\n",
       "      <td>Karl</td>\n",
       "      <td>3</td>\n",
       "      <td>3</td>\n",
       "      <td>2</td>\n",
       "      <td>1307923200</td>\n",
       "      <td>Cough Medicine</td>\n",
       "      <td>If you are looking for the secret ingredient i...</td>\n",
       "    </tr>\n",
       "    <tr>\n",
       "      <th>4</th>\n",
       "      <td>5</td>\n",
       "      <td>B006K2ZZ7K</td>\n",
       "      <td>A1UQRSCLF8GW1T</td>\n",
       "      <td>Michael D. Bigham \"M. Wassir\"</td>\n",
       "      <td>0</td>\n",
       "      <td>0</td>\n",
       "      <td>5</td>\n",
       "      <td>1350777600</td>\n",
       "      <td>Great taffy</td>\n",
       "      <td>Great taffy at a great price.  There was a wid...</td>\n",
       "    </tr>\n",
       "  </tbody>\n",
       "</table>\n",
       "</div>"
      ],
      "text/plain": [
       "   Id   ProductId          UserId                      ProfileName  \\\n",
       "0   1  B001E4KFG0  A3SGXH7AUHU8GW                       delmartian   \n",
       "1   2  B00813GRG4  A1D87F6ZCVE5NK                           dll pa   \n",
       "2   3  B000LQOCH0   ABXLMWJIXXAIN  Natalia Corres \"Natalia Corres\"   \n",
       "3   4  B000UA0QIQ  A395BORC6FGVXV                             Karl   \n",
       "4   5  B006K2ZZ7K  A1UQRSCLF8GW1T    Michael D. Bigham \"M. Wassir\"   \n",
       "\n",
       "   HelpfulnessNumerator  HelpfulnessDenominator  Score        Time  \\\n",
       "0                     1                       1      5  1303862400   \n",
       "1                     0                       0      1  1346976000   \n",
       "2                     1                       1      4  1219017600   \n",
       "3                     3                       3      2  1307923200   \n",
       "4                     0                       0      5  1350777600   \n",
       "\n",
       "                 Summary                                               Text  \n",
       "0  Good Quality Dog Food  I have bought several of the Vitality canned d...  \n",
       "1      Not as Advertised  Product arrived labeled as Jumbo Salted Peanut...  \n",
       "2  \"Delight\" says it all  This is a confection that has been around a fe...  \n",
       "3         Cough Medicine  If you are looking for the secret ingredient i...  \n",
       "4            Great taffy  Great taffy at a great price.  There was a wid...  "
      ]
     },
     "execution_count": 4,
     "metadata": {},
     "output_type": "execute_result"
    }
   ],
   "source": [
    "df = pd.read_csv(\"Reviews.csv\")\n",
    "#df = pd.read_csv(\"/content/drive/MyDrive/Colab Notebooks/SentimentAnalysis/Reviews.csv\")\n",
    "\n",
    "df.head()\n"
   ]
  },
  {
   "cell_type": "code",
   "execution_count": 5,
   "id": "4f0f3042-e5ee-444d-b327-6c627736014c",
   "metadata": {
    "colab": {
     "base_uri": "https://localhost:8080/"
    },
    "executionInfo": {
     "elapsed": 7,
     "status": "ok",
     "timestamp": 1741713097206,
     "user": {
      "displayName": "Arundhati Ubhad",
      "userId": "04267315397299508927"
     },
     "user_tz": 420
    },
    "id": "4f0f3042-e5ee-444d-b327-6c627736014c",
    "outputId": "2687e391-273b-4d28-d2d1-600185b8ed25"
   },
   "outputs": [
    {
     "data": {
      "text/plain": [
       "(568454, 10)"
      ]
     },
     "execution_count": 5,
     "metadata": {},
     "output_type": "execute_result"
    }
   ],
   "source": [
    "df.shape"
   ]
  },
  {
   "cell_type": "markdown",
   "id": "88e897a1-abfc-43e1-9d1d-8053a84832b9",
   "metadata": {
    "id": "88e897a1-abfc-43e1-9d1d-8053a84832b9"
   },
   "source": [
    "### Preprocessing"
   ]
  },
  {
   "cell_type": "code",
   "execution_count": 6,
   "id": "5ca8f738-81a1-4467-82d9-f278ccf49759",
   "metadata": {
    "colab": {
     "base_uri": "https://localhost:8080/",
     "height": 398
    },
    "executionInfo": {
     "elapsed": 115,
     "status": "ok",
     "timestamp": 1741713097322,
     "user": {
      "displayName": "Arundhati Ubhad",
      "userId": "04267315397299508927"
     },
     "user_tz": 420
    },
    "id": "5ca8f738-81a1-4467-82d9-f278ccf49759",
    "outputId": "73c68bbb-6200-4e14-fb8a-1febe5581d34"
   },
   "outputs": [
    {
     "data": {
      "text/plain": [
       "Id                         0\n",
       "ProductId                  0\n",
       "UserId                     0\n",
       "ProfileName               26\n",
       "HelpfulnessNumerator       0\n",
       "HelpfulnessDenominator     0\n",
       "Score                      0\n",
       "Time                       0\n",
       "Summary                   27\n",
       "Text                       0\n",
       "dtype: int64"
      ]
     },
     "execution_count": 6,
     "metadata": {},
     "output_type": "execute_result"
    }
   ],
   "source": [
    "df.isnull().sum()"
   ]
  },
  {
   "cell_type": "markdown",
   "id": "4fab3c96-b8dc-4c39-8894-c2fea3146253",
   "metadata": {
    "id": "4fab3c96-b8dc-4c39-8894-c2fea3146253"
   },
   "source": [
    "Columns : summary and ProfileName have NaN values. Drop rows with NaN values"
   ]
  },
  {
   "cell_type": "code",
   "execution_count": 7,
   "id": "6508d4ba-fe69-4c39-a593-1912c9d93ee7",
   "metadata": {
    "executionInfo": {
     "elapsed": 228,
     "status": "ok",
     "timestamp": 1741713097550,
     "user": {
      "displayName": "Arundhati Ubhad",
      "userId": "04267315397299508927"
     },
     "user_tz": 420
    },
    "id": "6508d4ba-fe69-4c39-a593-1912c9d93ee7"
   },
   "outputs": [],
   "source": [
    "# Drop NaN values (if any)\n",
    "df.dropna(inplace=True)\n"
   ]
  },
  {
   "cell_type": "code",
   "execution_count": 8,
   "id": "bd1a36f6-be39-4a96-9ad2-a2d3d6c445b2",
   "metadata": {
    "colab": {
     "base_uri": "https://localhost:8080/",
     "height": 398
    },
    "executionInfo": {
     "elapsed": 208,
     "status": "ok",
     "timestamp": 1741713097759,
     "user": {
      "displayName": "Arundhati Ubhad",
      "userId": "04267315397299508927"
     },
     "user_tz": 420
    },
    "id": "bd1a36f6-be39-4a96-9ad2-a2d3d6c445b2",
    "outputId": "df99cc63-c7ac-4f16-e739-3b4903c61eef"
   },
   "outputs": [
    {
     "data": {
      "text/plain": [
       "Id                        0\n",
       "ProductId                 0\n",
       "UserId                    0\n",
       "ProfileName               0\n",
       "HelpfulnessNumerator      0\n",
       "HelpfulnessDenominator    0\n",
       "Score                     0\n",
       "Time                      0\n",
       "Summary                   0\n",
       "Text                      0\n",
       "dtype: int64"
      ]
     },
     "execution_count": 8,
     "metadata": {},
     "output_type": "execute_result"
    }
   ],
   "source": [
    "df.isnull().sum()"
   ]
  },
  {
   "cell_type": "code",
   "execution_count": 9,
   "id": "26dce136-ba5d-42e4-bf72-17b551c5131e",
   "metadata": {
    "colab": {
     "base_uri": "https://localhost:8080/"
    },
    "executionInfo": {
     "elapsed": 148,
     "status": "ok",
     "timestamp": 1741713097907,
     "user": {
      "displayName": "Arundhati Ubhad",
      "userId": "04267315397299508927"
     },
     "user_tz": 420
    },
    "id": "26dce136-ba5d-42e4-bf72-17b551c5131e",
    "outputId": "a5b33619-8123-4ad1-97ca-c6bc1c8e0a38"
   },
   "outputs": [
    {
     "name": "stdout",
     "output_type": "stream",
     "text": [
      "<class 'pandas.core.frame.DataFrame'>\n",
      "Index: 568401 entries, 0 to 568453\n",
      "Data columns (total 10 columns):\n",
      " #   Column                  Non-Null Count   Dtype \n",
      "---  ------                  --------------   ----- \n",
      " 0   Id                      568401 non-null  int64 \n",
      " 1   ProductId               568401 non-null  object\n",
      " 2   UserId                  568401 non-null  object\n",
      " 3   ProfileName             568401 non-null  object\n",
      " 4   HelpfulnessNumerator    568401 non-null  int64 \n",
      " 5   HelpfulnessDenominator  568401 non-null  int64 \n",
      " 6   Score                   568401 non-null  int64 \n",
      " 7   Time                    568401 non-null  int64 \n",
      " 8   Summary                 568401 non-null  object\n",
      " 9   Text                    568401 non-null  object\n",
      "dtypes: int64(5), object(5)\n",
      "memory usage: 47.7+ MB\n"
     ]
    }
   ],
   "source": [
    "df.info()"
   ]
  },
  {
   "cell_type": "code",
   "execution_count": 10,
   "id": "912f5855-312a-4ae3-b542-29db3f56d235",
   "metadata": {
    "colab": {
     "base_uri": "https://localhost:8080/",
     "height": 109
    },
    "executionInfo": {
     "elapsed": 21,
     "status": "ok",
     "timestamp": 1741713097928,
     "user": {
      "displayName": "Arundhati Ubhad",
      "userId": "04267315397299508927"
     },
     "user_tz": 420
    },
    "id": "912f5855-312a-4ae3-b542-29db3f56d235",
    "outputId": "e6980ba2-6837-42ac-f297-e125b13eed7d"
   },
   "outputs": [
    {
     "data": {
      "text/html": [
       "<div>\n",
       "<style scoped>\n",
       "    .dataframe tbody tr th:only-of-type {\n",
       "        vertical-align: middle;\n",
       "    }\n",
       "\n",
       "    .dataframe tbody tr th {\n",
       "        vertical-align: top;\n",
       "    }\n",
       "\n",
       "    .dataframe thead th {\n",
       "        text-align: right;\n",
       "    }\n",
       "</style>\n",
       "<table border=\"1\" class=\"dataframe\">\n",
       "  <thead>\n",
       "    <tr style=\"text-align: right;\">\n",
       "      <th></th>\n",
       "      <th>Id</th>\n",
       "      <th>ProductId</th>\n",
       "      <th>UserId</th>\n",
       "      <th>ProfileName</th>\n",
       "      <th>HelpfulnessNumerator</th>\n",
       "      <th>HelpfulnessDenominator</th>\n",
       "      <th>Score</th>\n",
       "      <th>Time</th>\n",
       "      <th>Summary</th>\n",
       "      <th>Text</th>\n",
       "    </tr>\n",
       "  </thead>\n",
       "  <tbody>\n",
       "  </tbody>\n",
       "</table>\n",
       "</div>"
      ],
      "text/plain": [
       "Empty DataFrame\n",
       "Columns: [Id, ProductId, UserId, ProfileName, HelpfulnessNumerator, HelpfulnessDenominator, Score, Time, Summary, Text]\n",
       "Index: []"
      ]
     },
     "execution_count": 10,
     "metadata": {},
     "output_type": "execute_result"
    }
   ],
   "source": [
    "invalid_score = df[(df[\"Score\"] < 1) | (df[\"Score\"] > 5)]\n",
    "invalid_score"
   ]
  },
  {
   "cell_type": "markdown",
   "id": "9e2591ff-f39f-4557-a51e-567c1fcee789",
   "metadata": {
    "id": "9e2591ff-f39f-4557-a51e-567c1fcee789"
   },
   "source": [
    "Check Time is from Oct 1999 - Oct 2012:\n",
    "- October 1, 1999 at 00:00:00 UTC → 938736000\n",
    "- November 1, 2012 at 00:00:00 UTC → 1351728000"
   ]
  },
  {
   "cell_type": "code",
   "execution_count": 11,
   "id": "eee350ef-0ca9-473a-9459-afb0f4626d6c",
   "metadata": {
    "colab": {
     "base_uri": "https://localhost:8080/"
    },
    "executionInfo": {
     "elapsed": 3,
     "status": "ok",
     "timestamp": 1741713097931,
     "user": {
      "displayName": "Arundhati Ubhad",
      "userId": "04267315397299508927"
     },
     "user_tz": 420
    },
    "id": "eee350ef-0ca9-473a-9459-afb0f4626d6c",
    "outputId": "5ad76e42-bef1-4018-aa75-82b59159d0c9"
   },
   "outputs": [
    {
     "name": "stdout",
     "output_type": "stream",
     "text": [
      "Empty DataFrame\n",
      "Columns: [Id, ProductId, UserId, ProfileName, HelpfulnessNumerator, HelpfulnessDenominator, Score, Time, Summary, Text]\n",
      "Index: []\n"
     ]
    }
   ],
   "source": [
    "invalid_date = df[(df[\"Time\"] < 938736000) | (df[\"Time\"] > 1351728000)]\n",
    "print(invalid_date)"
   ]
  },
  {
   "cell_type": "code",
   "execution_count": 12,
   "id": "cb790f9f-01aa-47d3-9c4d-21cec8867abd",
   "metadata": {
    "colab": {
     "base_uri": "https://localhost:8080/"
    },
    "executionInfo": {
     "elapsed": 8,
     "status": "ok",
     "timestamp": 1741713097942,
     "user": {
      "displayName": "Arundhati Ubhad",
      "userId": "04267315397299508927"
     },
     "user_tz": 420
    },
    "id": "cb790f9f-01aa-47d3-9c4d-21cec8867abd",
    "outputId": "bc125a07-0d81-4688-8562-23dbd5084ff8"
   },
   "outputs": [
    {
     "data": {
      "text/plain": [
       "(568401, 10)"
      ]
     },
     "execution_count": 12,
     "metadata": {},
     "output_type": "execute_result"
    }
   ],
   "source": [
    "df.shape"
   ]
  },
  {
   "cell_type": "code",
   "execution_count": 13,
   "id": "51fff6fd-d5a8-442f-8ab6-3edc5d764a68",
   "metadata": {
    "colab": {
     "base_uri": "https://localhost:8080/"
    },
    "executionInfo": {
     "elapsed": 3,
     "status": "ok",
     "timestamp": 1741713097945,
     "user": {
      "displayName": "Arundhati Ubhad",
      "userId": "04267315397299508927"
     },
     "user_tz": 420
    },
    "id": "51fff6fd-d5a8-442f-8ab6-3edc5d764a68",
    "outputId": "a81c3fd5-5fe3-4c1f-c1e2-260072341f94"
   },
   "outputs": [
    {
     "data": {
      "text/plain": [
       "Index(['Id', 'ProductId', 'UserId', 'ProfileName', 'HelpfulnessNumerator',\n",
       "       'HelpfulnessDenominator', 'Score', 'Time', 'Summary', 'Text'],\n",
       "      dtype='object')"
      ]
     },
     "execution_count": 13,
     "metadata": {},
     "output_type": "execute_result"
    }
   ],
   "source": [
    "df.columns\n"
   ]
  },
  {
   "cell_type": "markdown",
   "id": "3b396542-fd4c-4a0c-8a6f-1fd5859f8251",
   "metadata": {
    "executionInfo": {
     "elapsed": 2,
     "status": "ok",
     "timestamp": 1741388183234,
     "user": {
      "displayName": "Arundhati Ubhad",
      "userId": "04267315397299508927"
     },
     "user_tz": 480
    },
    "id": "3b396542-fd4c-4a0c-8a6f-1fd5859f8251"
   },
   "source": [
    "### Randomly selecting 50000 reviews from Amazon Fine Food Reviews dataset(df)"
   ]
  },
  {
   "cell_type": "code",
   "execution_count": 43,
   "id": "25b47c21-5613-4fd9-9bf6-f719630011af",
   "metadata": {
    "colab": {
     "base_uri": "https://localhost:8080/"
    },
    "executionInfo": {
     "elapsed": 2224,
     "status": "ok",
     "timestamp": 1741713100186,
     "user": {
      "displayName": "Arundhati Ubhad",
      "userId": "04267315397299508927"
     },
     "user_tz": 420
    },
    "id": "25b47c21-5613-4fd9-9bf6-f719630011af",
    "outputId": "e3602011-b71d-4dcd-d3f5-f64bf323a5f4"
   },
   "outputs": [
    {
     "name": "stdout",
     "output_type": "stream",
     "text": [
      "Train Set Score Distribution:\n",
      " Score\n",
      "5    0.638813\n",
      "4    0.141896\n",
      "1    0.091949\n",
      "3    0.075013\n",
      "2    0.052329\n",
      "Name: proportion, dtype: float64\n",
      "\n",
      "Test Set Score Distribution:\n",
      " Score\n",
      "5    0.638814\n",
      "4    0.141897\n",
      "1    0.091950\n",
      "3    0.075017\n",
      "2    0.052322\n",
      "Name: proportion, dtype: float64\n"
     ]
    },
    {
     "name": "stderr",
     "output_type": "stream",
     "text": [
      "/tmp/ipykernel_391590/3824821917.py:23: DeprecationWarning: DataFrameGroupBy.apply operated on the grouping columns. This behavior is deprecated, and in a future version of pandas the grouping columns will be excluded from the operation. Either pass `include_groups=False` to exclude the groupings or explicitly select the grouping columns after groupby to silence this warning.\n",
      "  .apply(lambda x: x.sample(n=min(int(12500 * len(x) / len(test_df)), len(x)), random_state=42))\n"
     ]
    },
    {
     "name": "stdout",
     "output_type": "stream",
     "text": [
      "Train Set Distribution (After Oversampling):\n",
      " Sentiment_label\n",
      "negative    25000\n",
      "positive    25000\n",
      "Name: count, dtype: int64\n",
      "\n",
      "Test Set Distribution:\n",
      " Sentiment_label\n",
      "positive    9758\n",
      "negative    2741\n",
      "Name: count, dtype: int64\n"
     ]
    }
   ],
   "source": [
    "import pandas as pd\n",
    "from sklearn.model_selection import train_test_split\n",
    "from sklearn.utils import resample\n",
    "\n",
    "# Convert Score to binary sentiment labels (positive/negative)\n",
    "df['Sentiment_label'] = df['Score'].apply(lambda x: 'positive' if x >= 4 else 'negative')\n",
    "\n",
    "#Create `Combined_Text` column\n",
    "df[\"Combined_Text\"] = df[\"Summary\"].fillna('') + \" \" + df[\"Text\"].fillna('')\n",
    "\n",
    "test_size = 0.2  # 20% test set\n",
    "\n",
    "# Stratify on `Score` instead of `Sentiment_label`\n",
    "train_df, test_df = train_test_split(df, test_size=0.2, stratify=df[\"Score\"], random_state=42)\n",
    "\n",
    "#Print distribution of scores in train and test sets\n",
    "print(\"Train Set Score Distribution:\\n\", train_df[\"Score\"].value_counts(normalize=True))\n",
    "print(\"\\nTest Set Score Distribution:\\n\", test_df[\"Score\"].value_counts(normalize=True))\n",
    "\n",
    "# Sample exactly 12,500 reviews for `test_df`\n",
    "test_df = (\n",
    "    test_df.groupby(\"Sentiment_label\", group_keys=False)\n",
    "    .apply(lambda x: x.sample(n=min(int(12500 * len(x) / len(test_df)), len(x)), random_state=42))\n",
    "    .reset_index(drop=True)\n",
    ")\n",
    "\n",
    "#Ensure `test_df` includes `Combined_Text`\n",
    "test_df[\"Combined_Text\"] = test_df[\"Summary\"].fillna('') + \" \" + test_df[\"Text\"].fillna('')\n",
    "\n",
    "# Oversample training set for balanced classes\n",
    "train_pos_oversampled = resample(train_df[train_df[\"Sentiment_label\"] == 'positive'],\n",
    "                                 replace=True, n_samples=25000, random_state=42)\n",
    "train_neg_oversampled = resample(train_df[train_df[\"Sentiment_label\"] == 'negative'],\n",
    "                                 replace=True, n_samples=25000, random_state=42)\n",
    "\n",
    "#Create final balanced training dataset\n",
    "train_oversampled_df = pd.concat([train_pos_oversampled, train_neg_oversampled], ignore_index=True)\n",
    "\n",
    "#Ensure `train_oversampled_df` includes `Combined_Text`\n",
    "train_oversampled_df[\"Combined_Text\"] = train_oversampled_df[\"Summary\"].fillna('') + \" \" + train_oversampled_df[\"Text\"].fillna('')\n",
    "\n",
    "#Shuffle the training dataset\n",
    "train_oversampled_df = train_oversampled_df.sample(frac=1, random_state=42).reset_index(drop=True)\n",
    "\n",
    "#Check the final class distribution\n",
    "print(\"Train Set Distribution (After Oversampling):\\n\", train_oversampled_df[\"Sentiment_label\"].value_counts())\n",
    "print(\"\\nTest Set Distribution:\\n\", test_df[\"Sentiment_label\"].value_counts())\n"
   ]
  },
  {
   "cell_type": "code",
   "execution_count": 33,
   "id": "85b489aa-7006-437c-91a5-7617ff5c4361",
   "metadata": {
    "colab": {
     "base_uri": "https://localhost:8080/",
     "height": 519
    },
    "executionInfo": {
     "elapsed": 644,
     "status": "ok",
     "timestamp": 1741713100831,
     "user": {
      "displayName": "Arundhati Ubhad",
      "userId": "04267315397299508927"
     },
     "user_tz": 420
    },
    "id": "85b489aa-7006-437c-91a5-7617ff5c4361",
    "outputId": "a04c8156-324a-4e35-d0d3-4bd5832e1ae0"
   },
   "outputs": [
    {
     "data": {
      "image/png": "[encoded data removed]",
      "text/plain": [
       "<Figure size 600x400 with 1 Axes>"
      ]
     },
     "metadata": {},
     "output_type": "display_data"
    }
   ],
   "source": [
    "import matplotlib.pyplot as plt\n",
    "import seaborn as sns\n",
    "# Count positive and negative reviews\n",
    "original_distribution = df[\"Sentiment_label\"].value_counts()\n",
    "\n",
    "# Plot the distribution\n",
    "plt.figure(figsize=(6, 4))\n",
    "sns.barplot(x=original_distribution.index, y=original_distribution.values, hue=original_distribution.index, palette=[\"red\", \"green\"], legend=False)\n",
    "plt.title(\"Original Sentiment Distribution\")\n",
    "plt.xlabel(\"Sentiment Label\")\n",
    "plt.ylabel(\"Review Count\")\n",
    "plt.show()"
   ]
  },
  {
   "cell_type": "code",
   "execution_count": 32,
   "id": "6f9f535a-10c6-45b2-b72a-062f0fbe2c45",
   "metadata": {
    "colab": {
     "base_uri": "https://localhost:8080/",
     "height": 340
    },
    "executionInfo": {
     "elapsed": 237,
     "status": "ok",
     "timestamp": 1741713101088,
     "user": {
      "displayName": "Arundhati Ubhad",
      "userId": "04267315397299508927"
     },
     "user_tz": 420
    },
    "id": "6f9f535a-10c6-45b2-b72a-062f0fbe2c45",
    "outputId": "5449d01d-740b-4cbd-98fd-41bfb0b74d3e"
   },
   "outputs": [
    {
     "data": {
      "image/png": "[encoded data removed]",
      "text/plain": [
       "<Figure size 1200x500 with 2 Axes>"
      ]
     },
     "metadata": {},
     "output_type": "display_data"
    }
   ],
   "source": [
    "import matplotlib.pyplot as plt\n",
    "import seaborn as sns\n",
    "\n",
    "# Compute class distributions\n",
    "train_score_distribution = train_oversampled_df[\"Score\"].value_counts(normalize=True)\n",
    "test_score_distribution = test_df[\"Score\"].value_counts(normalize=True)\n",
    "\n",
    "# Set up subplots\n",
    "fig, axes = plt.subplots(1, 2, figsize=(12, 5), sharey=True)\n",
    "\n",
    "# Train Set Score Distribution\n",
    "sns.barplot(x=train_score_distribution.index, y=train_score_distribution.values, hue=train_score_distribution.index, ax=axes[0], legend=False)\n",
    "axes[0].set_title(\"Train Oversampled Set Score Distribution\")\n",
    "axes[0].set_ylabel(\"Proportion\")\n",
    "axes[0].set_xlabel(\"Score\")\n",
    "\n",
    "# Test Set Score Distribution\n",
    "sns.barplot(x=test_score_distribution.index, y=test_score_distribution.values, hue=test_score_distribution.index, ax=axes[1], legend=False)\n",
    "axes[1].set_title(\"Test Set Score Distribution\")\n",
    "axes[1].set_xlabel(\"Score\")\n",
    "\n",
    "plt.tight_layout()\n",
    "plt.show()\n"
   ]
  },
  {
   "cell_type": "code",
   "execution_count": 31,
   "id": "98282bfb-eb6b-4d2f-b7db-8ae69868cb13",
   "metadata": {
    "colab": {
     "base_uri": "https://localhost:8080/",
     "height": 538
    },
    "executionInfo": {
     "elapsed": 227,
     "status": "ok",
     "timestamp": 1741713101329,
     "user": {
      "displayName": "Arundhati Ubhad",
      "userId": "04267315397299508927"
     },
     "user_tz": 420
    },
    "id": "98282bfb-eb6b-4d2f-b7db-8ae69868cb13",
    "outputId": "6db46d12-d51f-441e-d28d-018eb7f73534"
   },
   "outputs": [
    {
     "data": {
      "image/png": "[encoded data removed]",
      "text/plain": [
       "<Figure size 1200x500 with 2 Axes>"
      ]
     },
     "metadata": {},
     "output_type": "display_data"
    }
   ],
   "source": [
    "import matplotlib.pyplot as plt\n",
    "import seaborn as sns\n",
    "\n",
    "# Compute class distributions\n",
    "oversampled_train_distribution = train_oversampled_df[\"Sentiment_label\"].value_counts()\n",
    "test_distribution = test_df[\"Sentiment_label\"].value_counts()\n",
    "\n",
    "# Set up subplots\n",
    "fig, axes = plt.subplots(1, 2, figsize=(12, 5), sharey=True)\n",
    "\n",
    "# Oversampled Train Set Distribution\n",
    "sns.barplot(x=oversampled_train_distribution.index, y=oversampled_train_distribution.values, ax=axes[0], hue=oversampled_train_distribution.index, palette=[\"orange\", \"blue\"], legend=False)\n",
    "axes[0].set_title(\"Train Set Distribution (After Oversampling)\")\n",
    "axes[0].set_ylabel(\"Review Count\")\n",
    "axes[0].set_xlabel(\"Sentiment Label\")\n",
    "\n",
    "# Test Set Distribution\n",
    "sns.barplot(x=test_distribution.index, y=test_distribution.values, ax=axes[1], hue=test_distribution.index, palette=[\"blue\", \"orange\"], legend=False)\n",
    "axes[1].set_title(\"Test Set Distribution\")\n",
    "axes[1].set_xlabel(\"Sentiment Label\")\n",
    "\n",
    "plt.tight_layout()\n",
    "plt.show()\n"
   ]
  },
  {
   "cell_type": "code",
   "execution_count": 21,
   "id": "94b61a6d-8b1d-428d-9ae9-d171ff406087",
   "metadata": {
    "colab": {
     "base_uri": "https://localhost:8080/",
     "height": 747
    },
    "executionInfo": {
     "elapsed": 161,
     "status": "ok",
     "timestamp": 1741713101491,
     "user": {
      "displayName": "Arundhati Ubhad",
      "userId": "04267315397299508927"
     },
     "user_tz": 420
    },
    "id": "94b61a6d-8b1d-428d-9ae9-d171ff406087",
    "outputId": "1b68a8f0-60a4-4730-c08b-61a91c71d159"
   },
   "outputs": [
    {
     "data": {
      "text/html": [
       "<div>\n",
       "<style scoped>\n",
       "    .dataframe tbody tr th:only-of-type {\n",
       "        vertical-align: middle;\n",
       "    }\n",
       "\n",
       "    .dataframe tbody tr th {\n",
       "        vertical-align: top;\n",
       "    }\n",
       "\n",
       "    .dataframe thead th {\n",
       "        text-align: right;\n",
       "    }\n",
       "</style>\n",
       "<table border=\"1\" class=\"dataframe\">\n",
       "  <thead>\n",
       "    <tr style=\"text-align: right;\">\n",
       "      <th></th>\n",
       "      <th>Id</th>\n",
       "      <th>ProductId</th>\n",
       "      <th>UserId</th>\n",
       "      <th>ProfileName</th>\n",
       "      <th>HelpfulnessNumerator</th>\n",
       "      <th>HelpfulnessDenominator</th>\n",
       "      <th>Score</th>\n",
       "      <th>Time</th>\n",
       "      <th>Summary</th>\n",
       "      <th>Text</th>\n",
       "      <th>Sentiment_label</th>\n",
       "      <th>Combined_Text</th>\n",
       "    </tr>\n",
       "  </thead>\n",
       "  <tbody>\n",
       "    <tr>\n",
       "      <th>304281</th>\n",
       "      <td>304282</td>\n",
       "      <td>B001AS1A4Q</td>\n",
       "      <td>A2ZZLAJAWLPP83</td>\n",
       "      <td>Yoshii</td>\n",
       "      <td>0</td>\n",
       "      <td>0</td>\n",
       "      <td>3</td>\n",
       "      <td>1318896000</td>\n",
       "      <td>Ok, but don't drink them all the time.</td>\n",
       "      <td>Works wonders for me when I first started taki...</td>\n",
       "      <td>negative</td>\n",
       "      <td>Ok, but don't drink them all the time. Works w...</td>\n",
       "    </tr>\n",
       "    <tr>\n",
       "      <th>43251</th>\n",
       "      <td>43252</td>\n",
       "      <td>B005DDC3JK</td>\n",
       "      <td>A2E6B4BXSHSLGA</td>\n",
       "      <td>Suzanne Gagnon</td>\n",
       "      <td>7</td>\n",
       "      <td>20</td>\n",
       "      <td>1</td>\n",
       "      <td>1323907200</td>\n",
       "      <td>Not Peanut Butter!</td>\n",
       "      <td>I haven't tasted this.  But it is listed as Pe...</td>\n",
       "      <td>negative</td>\n",
       "      <td>Not Peanut Butter! I haven't tasted this.  But...</td>\n",
       "    </tr>\n",
       "    <tr>\n",
       "      <th>543576</th>\n",
       "      <td>543577</td>\n",
       "      <td>B006MONQMC</td>\n",
       "      <td>A2RJAM98U9KA38</td>\n",
       "      <td>art 87</td>\n",
       "      <td>0</td>\n",
       "      <td>0</td>\n",
       "      <td>2</td>\n",
       "      <td>1336003200</td>\n",
       "      <td>i think Crystal Light is better</td>\n",
       "      <td>i was looking for a water flavor additive so i...</td>\n",
       "      <td>negative</td>\n",
       "      <td>i think Crystal Light is better i was looking ...</td>\n",
       "    </tr>\n",
       "    <tr>\n",
       "      <th>332472</th>\n",
       "      <td>332473</td>\n",
       "      <td>B000LKZ7KC</td>\n",
       "      <td>A1H2C764Y4Z3W8</td>\n",
       "      <td>Charles O. Milford</td>\n",
       "      <td>4</td>\n",
       "      <td>12</td>\n",
       "      <td>1</td>\n",
       "      <td>1242000000</td>\n",
       "      <td>Can't give it awat</td>\n",
       "      <td>Did not enjoy the taste, texture or density of...</td>\n",
       "      <td>negative</td>\n",
       "      <td>Can't give it awat Did not enjoy the taste, te...</td>\n",
       "    </tr>\n",
       "    <tr>\n",
       "      <th>87570</th>\n",
       "      <td>87571</td>\n",
       "      <td>B000YHI1XW</td>\n",
       "      <td>A7ZZ8FURV8USF</td>\n",
       "      <td>Amy Asevedo</td>\n",
       "      <td>3</td>\n",
       "      <td>5</td>\n",
       "      <td>1</td>\n",
       "      <td>1214697600</td>\n",
       "      <td>CHECK SAM'S CLUB!!!</td>\n",
       "      <td>This price is a rip-off.  Check your local Sam...</td>\n",
       "      <td>negative</td>\n",
       "      <td>CHECK SAM'S CLUB!!! This price is a rip-off.  ...</td>\n",
       "    </tr>\n",
       "  </tbody>\n",
       "</table>\n",
       "</div>"
      ],
      "text/plain": [
       "            Id   ProductId          UserId         ProfileName  \\\n",
       "304281  304282  B001AS1A4Q  A2ZZLAJAWLPP83              Yoshii   \n",
       "43251    43252  B005DDC3JK  A2E6B4BXSHSLGA      Suzanne Gagnon   \n",
       "543576  543577  B006MONQMC  A2RJAM98U9KA38              art 87   \n",
       "332472  332473  B000LKZ7KC  A1H2C764Y4Z3W8  Charles O. Milford   \n",
       "87570    87571  B000YHI1XW   A7ZZ8FURV8USF         Amy Asevedo   \n",
       "\n",
       "        HelpfulnessNumerator  HelpfulnessDenominator  Score        Time  \\\n",
       "304281                     0                       0      3  1318896000   \n",
       "43251                      7                      20      1  1323907200   \n",
       "543576                     0                       0      2  1336003200   \n",
       "332472                     4                      12      1  1242000000   \n",
       "87570                      3                       5      1  1214697600   \n",
       "\n",
       "                                       Summary  \\\n",
       "304281  Ok, but don't drink them all the time.   \n",
       "43251                       Not Peanut Butter!   \n",
       "543576         i think Crystal Light is better   \n",
       "332472                      Can't give it awat   \n",
       "87570                      CHECK SAM'S CLUB!!!   \n",
       "\n",
       "                                                     Text Sentiment_label  \\\n",
       "304281  Works wonders for me when I first started taki...        negative   \n",
       "43251   I haven't tasted this.  But it is listed as Pe...        negative   \n",
       "543576  i was looking for a water flavor additive so i...        negative   \n",
       "332472  Did not enjoy the taste, texture or density of...        negative   \n",
       "87570   This price is a rip-off.  Check your local Sam...        negative   \n",
       "\n",
       "                                            Combined_Text  \n",
       "304281  Ok, but don't drink them all the time. Works w...  \n",
       "43251   Not Peanut Butter! I haven't tasted this.  But...  \n",
       "543576  i think Crystal Light is better i was looking ...  \n",
       "332472  Can't give it awat Did not enjoy the taste, te...  \n",
       "87570   CHECK SAM'S CLUB!!! This price is a rip-off.  ...  "
      ]
     },
     "execution_count": 21,
     "metadata": {},
     "output_type": "execute_result"
    }
   ],
   "source": [
    "test_df.head()"
   ]
  },
  {
   "cell_type": "markdown",
   "id": "1450b471-e31a-48eb-8961-a0d39b8f69f9",
   "metadata": {
    "id": "1450b471-e31a-48eb-8961-a0d39b8f69f9"
   },
   "source": [
    "### Model Implementation"
   ]
  },
  {
   "cell_type": "markdown",
   "id": "41f9db05-8816-4caa-96b0-5ff0e67a2bf8",
   "metadata": {
    "id": "41f9db05-8816-4caa-96b0-5ff0e67a2bf8"
   },
   "source": [
    "#### Model: siebert/sentiment-roberta-large-english\n",
    "- The Siebert Sentiment RoBERTa model is a pretrained transformer-based model designed for binary sentiment classification (positive vs. negative).\n",
    "- It is based on RoBERTa (Robustly optimized BERT pretraining approach) and fine-tuned specifically on sentiment analysis tasks.\n",
    "#### Model Details\n",
    "- Tokenization:\n",
    "  - The input text is tokenized using the AutoTokenizer, which prepares it for the RoBERTa model.\n",
    "  - Uses Byte-Pair Encoding (BPE)\n",
    "  - Handles out-of-vocabulary words efficiently\n",
    "- Training:\n",
    "  - The AutoModelForSequenceClassification processes the input and outputs a prediction for positive (1) or negative (0) sentiment.\n",
    "  - Pretrained on large-scale sentiment data\n",
    "  - Fine-tuned for sentiment classification\n",
    "- Deployment:\n",
    "  - The model is moved to a GPU (if available) for faster inference.\n",
    "  - Works well for real-time sentiment analysis\n",
    "\n"
   ]
  },
  {
   "cell_type": "code",
   "execution_count": 22,
   "id": "4a1db9be-edbb-4829-9aa4-1ea7fe4ce0e8",
   "metadata": {
    "colab": {
     "base_uri": "https://localhost:8080/",
     "height": 1000,
     "referenced_widgets": [
      "1d6c6a22f07d4c95b8017a1bfe073a3a",
      "34f56d8482424ef49078464a09b99698",
      "9c80990d51034459ac029040c5843c08",
      "0e1c01da563b4b4b9fd8e13bcc2464b3",
      "91ebc398674e4090840f9903c1e11ecf",
      "e646104795da4a23ae9bbae02c44c31d",
      "8b5b8c2ef43a44b58dea48e5beba895a",
      "3b1ad259d51c45c8917a47570fb7e80e",
      "a1011e5128fc43d4a423718a49f6a479",
      "4b82935a21db42c387de96752e3b6b92",
      "37b8b3b235c44e24b451add1769656a8",
      "2e3b21f54b8f41b68f964c2b6ce4a3fb",
      "c2282e6db96a40cbaf4f1b706204a684",
      "63101d6bb4734d33badf6af49e792f81",
      "fba74cc0304c423eb1fb0bee1a5dcbc1",
      "d462e46919b64d4db2e73f0f8d1a5ad6",
      "e70ba931c99b477a85d00ba70bd126a3",
      "e3c7ac14d16540ebb4028f380da3de35",
      "ad660c50500e4c82be8c578f74225f41",
      "8babeb2e7ee0494c9c8ec7d23ba37712",
      "178dd95ba5ba4c29ae57b3c6f8884a52",
      "e31e5b4ad8ac413ab6506e152b1564b3",
      "1d6554ff33b04c2e8d700532de49ab26",
      "f1105db9879d445f82b42d51b7116f04",
      "8016049d56224292a221ee8e339e3c9d",
      "647efc144d9c486b83dc0c011d3e2867",
      "18b66b35fff247d48f0d141202157ff8",
      "44a5f751a0de4bb59e073b445c285d06",
      "20a478bfdd754dd7a3c25f32b7ad2cea",
      "ad78b4e76513408088e72016577c2f6a",
      "6ca198b685a64707b09c6c173d31e633",
      "8375e49ffd614d6ebf5f38e9567bf3d1",
      "8e283c0221ec498c967ac660e03f14a5",
      "3d3e2040987f46f2a18cf5811d1c3f05",
      "18f6a0a1fb5140eea7c30609f7a06216",
      "6f9c42b093524753aa38056d520c0629",
      "7d843a0567794c9c9386a21f42060868",
      "aaf3ef84447a43559902360f9e55e53f",
      "c4941d2c89fb40cd812fc0b8ac447be9",
      "53c34fbdacee4884b15b278945226d11",
      "63894ca896344d69b29153ee55fec4ec",
      "c96ed911b4a14d95aeb412fdb1ed5d26",
      "7222b23f60a04a15b07b71d91ec40166",
      "694740798e91459ab77e02bac15a5121",
      "6ae7c473aab74d99aa97471bc3cbf180",
      "35caaf00d78340acbe79b598c4223dad",
      "830c3881910e44d5bb81e4785427ec7c",
      "f06741b7a0554e2eb1e271489ab35bea",
      "bc16c06ca3d947c0a5ffbf64584a8a78",
      "543259384c7841128aea267ac5a219b6",
      "15581a3dc8874610938358e204739711",
      "9e2841ea4aa045d5b5cc899c90262acc",
      "32a3137ec596486c96d3843f4816d7e8",
      "0cb04f7378e24d42bc6cdfcc39342529",
      "85868695b1d84a5d94df3734a709b823",
      "5e5354fb65eb46eb9def667621c09689",
      "6dedc76d65ff46b2bc25032bcb71b645",
      "d63eae01713540919172274377727ae7",
      "1c349ce2e47d4a57b5bdfc2d18799e75",
      "651633e9515240ee94d7e44a8a61e442",
      "d66d5d69d9fc4420a9dde5024ce47fa5",
      "78c0f45a84b24879a8f20e4bdb9f2a9f",
      "0dc087ae050c46bfb726678b8c26af45",
      "fd68dd87eeee4da4b1068b9e2c6a6477",
      "dccddcfcb5f44357b6a120968745f936",
      "bc548088aa23463983565a001e1460c1",
      "2a732f7152444b938a4e133c95c1387e",
      "0a6625619d094dc5a8ee341d1180f37d",
      "27e231563eec478c889cecdf5b90c965",
      "e442c0471f3043debb85f892af378094",
      "15fc1e277fc74ee0a37bde0b43885956",
      "6b78db766e9c4f57b500404bd0ab2c2a",
      "0e4ae9a6360a46c8b3e7eaa349bd21c2",
      "fcb800f98dd24b9b88f82708ec2745ec",
      "127de499f185408aafb3aa528dce7f1d",
      "bb3865d4b34d4876b34fb985ca077438",
      "d0be7630f5464b19ac9e2e62decd78d6"
     ]
    },
    "executionInfo": {
     "elapsed": 24424,
     "status": "ok",
     "timestamp": 1741713125916,
     "user": {
      "displayName": "Arundhati Ubhad",
      "userId": "04267315397299508927"
     },
     "user_tz": 420
    },
    "id": "4a1db9be-edbb-4829-9aa4-1ea7fe4ce0e8",
    "outputId": "dbfdb6ce-0333-43d1-f4a8-10a30a540e3e"
   },
   "outputs": [
    {
     "name": "stderr",
     "output_type": "stream",
     "text": [
      "/courses/IE7500.202530/shared/conda_env_1/lib/python3.12/site-packages/tqdm/auto.py:21: TqdmWarning: IProgress not found. Please update jupyter and ipywidgets. See https://ipywidgets.readthedocs.io/en/stable/user_install.html\n",
      "  from .autonotebook import tqdm as notebook_tqdm\n",
      "2025-03-12 22:25:18.554532: E external/local_xla/xla/stream_executor/cuda/cuda_fft.cc:477] Unable to register cuFFT factory: Attempting to register factory for plugin cuFFT when one has already been registered\n",
      "WARNING: All log messages before absl::InitializeLog() is called are written to STDERR\n",
      "E0000 00:00:1741832718.572602  391590 cuda_dnn.cc:8310] Unable to register cuDNN factory: Attempting to register factory for plugin cuDNN when one has already been registered\n",
      "E0000 00:00:1741832718.579123  391590 cuda_blas.cc:1418] Unable to register cuBLAS factory: Attempting to register factory for plugin cuBLAS when one has already been registered\n",
      "2025-03-12 22:25:18.600561: I tensorflow/core/platform/cpu_feature_guard.cc:210] This TensorFlow binary is optimized to use available CPU instructions in performance-critical operations.\n",
      "To enable the following instructions: AVX2 FMA, in other operations, rebuild TensorFlow with the appropriate compiler flags.\n"
     ]
    },
    {
     "data": {
      "text/plain": [
       "RobertaForSequenceClassification(\n",
       "  (roberta): RobertaModel(\n",
       "    (embeddings): RobertaEmbeddings(\n",
       "      (word_embeddings): Embedding(50265, 1024, padding_idx=1)\n",
       "      (position_embeddings): Embedding(514, 1024, padding_idx=1)\n",
       "      (token_type_embeddings): Embedding(1, 1024)\n",
       "      (LayerNorm): LayerNorm((1024,), eps=1e-05, elementwise_affine=True)\n",
       "      (dropout): Dropout(p=0.1, inplace=False)\n",
       "    )\n",
       "    (encoder): RobertaEncoder(\n",
       "      (layer): ModuleList(\n",
       "        (0-23): 24 x RobertaLayer(\n",
       "          (attention): RobertaAttention(\n",
       "            (self): RobertaSdpaSelfAttention(\n",
       "              (query): Linear(in_features=1024, out_features=1024, bias=True)\n",
       "              (key): Linear(in_features=1024, out_features=1024, bias=True)\n",
       "              (value): Linear(in_features=1024, out_features=1024, bias=True)\n",
       "              (dropout): Dropout(p=0.1, inplace=False)\n",
       "            )\n",
       "            (output): RobertaSelfOutput(\n",
       "              (dense): Linear(in_features=1024, out_features=1024, bias=True)\n",
       "              (LayerNorm): LayerNorm((1024,), eps=1e-05, elementwise_affine=True)\n",
       "              (dropout): Dropout(p=0.1, inplace=False)\n",
       "            )\n",
       "          )\n",
       "          (intermediate): RobertaIntermediate(\n",
       "            (dense): Linear(in_features=1024, out_features=4096, bias=True)\n",
       "            (intermediate_act_fn): GELUActivation()\n",
       "          )\n",
       "          (output): RobertaOutput(\n",
       "            (dense): Linear(in_features=4096, out_features=1024, bias=True)\n",
       "            (LayerNorm): LayerNorm((1024,), eps=1e-05, elementwise_affine=True)\n",
       "            (dropout): Dropout(p=0.1, inplace=False)\n",
       "          )\n",
       "        )\n",
       "      )\n",
       "    )\n",
       "  )\n",
       "  (classifier): RobertaClassificationHead(\n",
       "    (dense): Linear(in_features=1024, out_features=1024, bias=True)\n",
       "    (dropout): Dropout(p=0.1, inplace=False)\n",
       "    (out_proj): Linear(in_features=1024, out_features=2, bias=True)\n",
       "  )\n",
       ")"
      ]
     },
     "execution_count": 22,
     "metadata": {},
     "output_type": "execute_result"
    }
   ],
   "source": [
    "import torch\n",
    "from transformers import AutoTokenizer, AutoModelForSequenceClassification\n",
    "\n",
    "# Load RoBERTa tokenizer & model\n",
    "MODEL_NAME = \"siebert/sentiment-roberta-large-english\"  # Pretrained RoBERTa model\n",
    "tokenizer = AutoTokenizer.from_pretrained(MODEL_NAME)\n",
    "\n",
    "# Load RoBERTa model for binary classification (2 output labels)\n",
    "model = AutoModelForSequenceClassification.from_pretrained(MODEL_NAME, num_labels=2)\n",
    "\n",
    "# Move model to GPU if available\n",
    "device = torch.device(\"cuda\" if torch.cuda.is_available() else \"cpu\")\n",
    "model.to(device)\n"
   ]
  },
  {
   "cell_type": "code",
   "execution_count": 23,
   "id": "oIT6DuP58yRD",
   "metadata": {
    "colab": {
     "base_uri": "https://localhost:8080/"
    },
    "executionInfo": {
     "elapsed": 10,
     "status": "ok",
     "timestamp": 1741713125929,
     "user": {
      "displayName": "Arundhati Ubhad",
      "userId": "04267315397299508927"
     },
     "user_tz": 420
    },
    "id": "oIT6DuP58yRD",
    "outputId": "400f41ef-c46e-4b30-c577-0890484014ab"
   },
   "outputs": [
    {
     "data": {
      "text/plain": [
       "0"
      ]
     },
     "execution_count": 23,
     "metadata": {},
     "output_type": "execute_result"
    }
   ],
   "source": [
    "test_df[\"Sentiment_label\"].isnull().sum()"
   ]
  },
  {
   "cell_type": "markdown",
   "id": "ded270c1-2e25-46be-be11-b16ee7fba5f8",
   "metadata": {
    "id": "ded270c1-2e25-46be-be11-b16ee7fba5f8"
   },
   "source": [
    "#### Tokenization & DataLoader Setup\n",
    "- Converts test set reviews (Combined_Text) into a list.\n",
    "- Uses the RoBERTa tokenizer to tokenize the dataset in batches.\n",
    "- Creates a PyTorch DataLoader for efficient batch processing.\n",
    "#### Model Inference\n",
    "- Moves the model to GPU (if available) for faster inference.\n",
    "- Processes the test set in batches to avoid memory overload.\n",
    "- Converts model logits to predicted labels (0 = negative, 1 = positive).\n"
   ]
  },
  {
   "cell_type": "code",
   "execution_count": 24,
   "id": "f6a390d0-2cd5-478c-87d1-8178f93f70d3",
   "metadata": {
    "colab": {
     "base_uri": "https://localhost:8080/",
     "height": 803
    },
    "executionInfo": {
     "elapsed": 4025,
     "status": "ok",
     "timestamp": 1741713129958,
     "user": {
      "displayName": "Arundhati Ubhad",
      "userId": "04267315397299508927"
     },
     "user_tz": 420
    },
    "id": "f6a390d0-2cd5-478c-87d1-8178f93f70d3",
    "outputId": "85600bd3-66e5-4eff-d336-72423afc6c9e"
   },
   "outputs": [
    {
     "data": {
      "text/plain": [
       "RobertaForSequenceClassification(\n",
       "  (roberta): RobertaModel(\n",
       "    (embeddings): RobertaEmbeddings(\n",
       "      (word_embeddings): Embedding(50265, 1024, padding_idx=1)\n",
       "      (position_embeddings): Embedding(514, 1024, padding_idx=1)\n",
       "      (token_type_embeddings): Embedding(1, 1024)\n",
       "      (LayerNorm): LayerNorm((1024,), eps=1e-05, elementwise_affine=True)\n",
       "      (dropout): Dropout(p=0.1, inplace=False)\n",
       "    )\n",
       "    (encoder): RobertaEncoder(\n",
       "      (layer): ModuleList(\n",
       "        (0-23): 24 x RobertaLayer(\n",
       "          (attention): RobertaAttention(\n",
       "            (self): RobertaSdpaSelfAttention(\n",
       "              (query): Linear(in_features=1024, out_features=1024, bias=True)\n",
       "              (key): Linear(in_features=1024, out_features=1024, bias=True)\n",
       "              (value): Linear(in_features=1024, out_features=1024, bias=True)\n",
       "              (dropout): Dropout(p=0.1, inplace=False)\n",
       "            )\n",
       "            (output): RobertaSelfOutput(\n",
       "              (dense): Linear(in_features=1024, out_features=1024, bias=True)\n",
       "              (LayerNorm): LayerNorm((1024,), eps=1e-05, elementwise_affine=True)\n",
       "              (dropout): Dropout(p=0.1, inplace=False)\n",
       "            )\n",
       "          )\n",
       "          (intermediate): RobertaIntermediate(\n",
       "            (dense): Linear(in_features=1024, out_features=4096, bias=True)\n",
       "            (intermediate_act_fn): GELUActivation()\n",
       "          )\n",
       "          (output): RobertaOutput(\n",
       "            (dense): Linear(in_features=4096, out_features=1024, bias=True)\n",
       "            (LayerNorm): LayerNorm((1024,), eps=1e-05, elementwise_affine=True)\n",
       "            (dropout): Dropout(p=0.1, inplace=False)\n",
       "          )\n",
       "        )\n",
       "      )\n",
       "    )\n",
       "  )\n",
       "  (classifier): RobertaClassificationHead(\n",
       "    (dense): Linear(in_features=1024, out_features=1024, bias=True)\n",
       "    (dropout): Dropout(p=0.1, inplace=False)\n",
       "    (out_proj): Linear(in_features=1024, out_features=2, bias=True)\n",
       "  )\n",
       ")"
      ]
     },
     "execution_count": 24,
     "metadata": {},
     "output_type": "execute_result"
    }
   ],
   "source": [
    "import torch\n",
    "import numpy as np\n",
    "from torch.utils.data import DataLoader, TensorDataset\n",
    "from sklearn.metrics import accuracy_score, classification_report, precision_score, recall_score, f1_score\n",
    "\n",
    "# convert test set reviews into a list\n",
    "test_texts = test_df[\"Combined_Text\"].tolist()\n",
    "\n",
    "# Tokenize dataset in chunks\n",
    "batch_size = 32  # Adjust to fit GPU memory (try 16 if still OOM)\n",
    "encoded_test = tokenizer(test_texts, truncation=True, padding=True, max_length=512, return_tensors=\"pt\")\n",
    "\n",
    "# Create DataLoader for batch processing\n",
    "dataset = TensorDataset(encoded_test[\"input_ids\"], encoded_test[\"attention_mask\"])\n",
    "dataloader = DataLoader(dataset, batch_size=batch_size)\n",
    "\n",
    "# Move model to GPU if available\n",
    "device = torch.device(\"cuda\" if torch.cuda.is_available() else \"cpu\")\n",
    "model.to(device)\n",
    "\n"
   ]
  },
  {
   "cell_type": "markdown",
   "id": "eb22bf27-98f4-4047-b4b2-a90211a8eabc",
   "metadata": {
    "id": "eb22bf27-98f4-4047-b4b2-a90211a8eabc"
   },
   "source": [
    "#### Mapping Numerical Predictions to Sentiment Labels\n",
    "- The RoBERTa model outputs numerical labels (0 or 1), which are mapped back to human-readable sentiment labels:\n",
    "\n",
    "    - 0 → Negative\n",
    "    - 1 → Positive"
   ]
  },
  {
   "cell_type": "code",
   "execution_count": 25,
   "id": "0173665d-c56e-4a2d-bb88-bee956ca8ec0",
   "metadata": {
    "executionInfo": {
     "elapsed": 484407,
     "status": "ok",
     "timestamp": 1741713614377,
     "user": {
      "displayName": "Arundhati Ubhad",
      "userId": "04267315397299508927"
     },
     "user_tz": 420
    },
    "id": "0173665d-c56e-4a2d-bb88-bee956ca8ec0"
   },
   "outputs": [],
   "source": [
    "# Store predictions\n",
    "all_preds = []\n",
    "\n",
    "# Process batches to avoid memory overload\n",
    "with torch.no_grad():\n",
    "    for batch in dataloader:\n",
    "        torch.cuda.empty_cache()  # Free unused memory\n",
    "        batch = [t.to(device) for t in batch]  # Move batch to GPU\n",
    "        inputs = {\"input_ids\": batch[0], \"attention_mask\": batch[1]}\n",
    "        outputs = model(**inputs)\n",
    "        preds = torch.argmax(outputs.logits, dim=1).cpu().numpy()  # Move back to CPU\n",
    "        all_preds.extend(preds)\n",
    "\n",
    "# Map numerical predictions back to sentiment labels\n",
    "sentiment_map = {0: \"negative\", 1: \"positive\"}\n",
    "test_df[\"Predicted_Sentiment\"] = [sentiment_map[label] for label in all_preds]\n",
    "\n",
    "# Convert labels to numerical values for evaluation\n",
    "test_df[\"Sentiment_label\"] = test_df[\"Sentiment_label\"].map({\"negative\": 0, \"positive\": 1})\n",
    "test_df[\"Predicted_Sentiment\"] = test_df[\"Predicted_Sentiment\"].map({\"negative\": 0, \"positive\": 1})\n",
    "\n"
   ]
  },
  {
   "cell_type": "markdown",
   "id": "ad89dff9-5949-439e-af5f-04fd6e5e66fc",
   "metadata": {
    "id": "ad89dff9-5949-439e-af5f-04fd6e5e66fc"
   },
   "source": [
    "### Model Evaluation"
   ]
  },
  {
   "cell_type": "markdown",
   "id": "53bc1594-e370-4b28-994f-febc6c1cd7d4",
   "metadata": {
    "id": "53bc1594-e370-4b28-994f-febc6c1cd7d4"
   },
   "source": [
    "#### The model’s performance is evaluated using:\n",
    "\n",
    "- Accuracy: Measures the overall percentage of correct predictions.\n",
    "- Precision: Out of predicted positive reviews, how many were actually positive?\n",
    "- Recall: Out of all actual positive reviews, how many did the model identify correctly?\n",
    "- F1 Score: A balance between precision and recall.\n",
    "- Classification Report: Detailed breakdown of precision, recall, and F1-score for each class."
   ]
  },
  {
   "cell_type": "code",
   "execution_count": 26,
   "id": "182f2129-31a2-4c13-bea5-57e35eba618e",
   "metadata": {
    "colab": {
     "base_uri": "https://localhost:8080/"
    },
    "executionInfo": {
     "elapsed": 8,
     "status": "ok",
     "timestamp": 1741713614390,
     "user": {
      "displayName": "Arundhati Ubhad",
      "userId": "04267315397299508927"
     },
     "user_tz": 420
    },
    "id": "182f2129-31a2-4c13-bea5-57e35eba618e",
    "outputId": "a47f4deb-645e-40e0-e61b-025af839f12a"
   },
   "outputs": [
    {
     "name": "stdout",
     "output_type": "stream",
     "text": [
      "Model Accuracy on Test Set: 95.15%\n",
      "Model Precision on Test Set: 96.49%\n",
      "Model Recall on Test Set: 97.34%\n",
      "Model F1 Score on Test Set: 96.91%\n",
      "              precision    recall  f1-score   support\n",
      "\n",
      "    Negative       0.90      0.87      0.89      2741\n",
      "    Positive       0.96      0.97      0.97      9758\n",
      "\n",
      "    accuracy                           0.95     12499\n",
      "   macro avg       0.93      0.92      0.93     12499\n",
      "weighted avg       0.95      0.95      0.95     12499\n",
      "\n"
     ]
    }
   ],
   "source": [
    "#Compute accuracy\n",
    "accuracy = accuracy_score(test_df[\"Sentiment_label\"], test_df[\"Predicted_Sentiment\"])\n",
    "print(f\"Model Accuracy on Test Set: {accuracy:.2%}\")\n",
    "\n",
    "precision = precision_score(test_df[\"Sentiment_label\"], test_df[\"Predicted_Sentiment\"])\n",
    "print(f\"Model Precision on Test Set: {precision:.2%}\")\n",
    "\n",
    "recall = recall_score(test_df[\"Sentiment_label\"], test_df[\"Predicted_Sentiment\"])\n",
    "print(f\"Model Recall on Test Set: {recall:.2%}\")\n",
    "\n",
    "f1 = 2 * (precision * recall) / (precision + recall)\n",
    "print(f\"Model F1 Score on Test Set: {f1:.2%}\")\n",
    "\n",
    "#Print classification report\n",
    "print(classification_report(test_df[\"Sentiment_label\"], test_df[\"Predicted_Sentiment\"], target_names=[\"Negative\", \"Positive\"]))\n"
   ]
  },
  {
   "cell_type": "code",
   "execution_count": 27,
   "id": "tQRCjpWozj_p",
   "metadata": {
    "colab": {
     "base_uri": "https://localhost:8080/"
    },
    "executionInfo": {
     "elapsed": 153,
     "status": "ok",
     "timestamp": 1741713614544,
     "user": {
      "displayName": "Arundhati Ubhad",
      "userId": "04267315397299508927"
     },
     "user_tz": 420
    },
    "id": "tQRCjpWozj_p",
    "outputId": "b8e2166d-0407-4934-8ff9-2b9decf9861f"
   },
   "outputs": [
    {
     "name": "stdout",
     "output_type": "stream",
     "text": [
      "Review: The product was amazing! I loved it.\n",
      "Predicted Sentiment: positive\n",
      "Probabilities: [[0.0010908324038609862, 0.9989091157913208]]\n",
      "\n",
      "Review: It was okay, nothing special but not bad either.\n",
      "Predicted Sentiment: negative\n",
      "Probabilities: [[0.9976049661636353, 0.002395060146227479]]\n",
      "\n",
      "Review: This is the worst thing I have ever bought!\n",
      "Predicted Sentiment: negative\n",
      "Probabilities: [[0.9995032548904419, 0.0004967328859493136]]\n",
      "\n",
      "Review: As an avid chess enthusiast, I've always sought a set that marries classic aesthetics with modern convenience. The Hurdaos Magnetic Wooden Chess Set has exceeded my expectations in every way. The 15-inch handcrafted board is not only visually stunning but also folds into a compact, portable case, making it ideal for both home and travel. The magnetic pieces stay firmly in place during play, yet are easy to move, ensuring an uninterrupted game even on the go. Each piece is meticulously crafted, adding a touch of elegance to every match. Whether you're a seasoned player or a beginner, this set offers a seamless blend of functionality and style. Highly recommended\n",
      "Predicted Sentiment: positive\n",
      "Probabilities: [[0.0010627061128616333, 0.9989373087882996]]\n",
      "\n",
      "Review: They are all dry. Only 9 markers worked out of 36 markers it has in the box. You are better off just getting the brand Expo.\n",
      "Predicted Sentiment: negative\n",
      "Probabilities: [[0.9994920492172241, 0.0005079112597741187]]\n",
      "\n"
     ]
    }
   ],
   "source": [
    "def predict_sentiment(text):\n",
    "    # Tokenize input text\n",
    "    inputs = tokenizer(text, return_tensors=\"pt\", truncation=True, padding=True, max_length=512)\n",
    "    inputs = {key: value.to(device) for key, value in inputs.items()}  # Move to GPU if available\n",
    "\n",
    "    # Get model predictions\n",
    "    with torch.no_grad():\n",
    "        outputs = model(**inputs)\n",
    "\n",
    "    # Apply softmax to get probabilities\n",
    "    probs = torch.nn.functional.softmax(outputs.logits, dim=-1)\n",
    "    predicted_class = torch.argmax(probs).item()\n",
    "\n",
    "    # Map labels (0 = Negative, 1 = Positive)\n",
    "    sentiment_map = {0: \"negative\", 1: \"positive\"}\n",
    "\n",
    "    return sentiment_map[predicted_class], probs.tolist()\n",
    "\n",
    "# Example reviews\n",
    "sample_reviews = [\n",
    "    \"The product was amazing! I loved it.\",\n",
    "    \"It was okay, nothing special but not bad either.\",\n",
    "    \"This is the worst thing I have ever bought!\",\n",
    "    \"As an avid chess enthusiast, I've always sought a set that marries classic aesthetics with modern convenience. The Hurdaos Magnetic Wooden Chess Set has exceeded my expectations in every way. The 15-inch handcrafted board is not only visually stunning but also folds into a compact, portable case, making it ideal for both home and travel. The magnetic pieces stay firmly in place during play, yet are easy to move, ensuring an uninterrupted game even on the go. Each piece is meticulously crafted, adding a touch of elegance to every match. Whether you're a seasoned player or a beginner, this set offers a seamless blend of functionality and style. Highly recommended\",\n",
    "    \"They are all dry. Only 9 markers worked out of 36 markers it has in the box. You are better off just getting the brand Expo.\"\n",
    "]\n",
    "\n",
    "# Predict for each review\n",
    "for review in sample_reviews:\n",
    "    sentiment, probabilities = predict_sentiment(review)\n",
    "    print(f\"Review: {review}\\nPredicted Sentiment: {sentiment}\\nProbabilities: {probabilities}\\n\")\n"
   ]
  },
  {
   "cell_type": "markdown",
   "id": "4a7a490d-5075-433a-a4dc-4720e3857cc7",
   "metadata": {
    "id": "4a7a490d-5075-433a-a4dc-4720e3857cc7"
   },
   "source": [
    "### Confusion matrix"
   ]
  },
  {
   "cell_type": "markdown",
   "id": "6dbd7d1d-d3d6-47ea-a78c-e7ea1919e33f",
   "metadata": {
    "id": "6dbd7d1d-d3d6-47ea-a78c-e7ea1919e33f"
   },
   "source": [
    "\n",
    "The confusion matrix helps us understand how well our RoBERTa model is performing on the test dataset by showing:\n",
    "\n",
    "- True Positives (TP): Correctly classified positive reviews.\n",
    "- True Negatives (TN): Correctly classified negative reviews.\n",
    "- False Positives (FP): Negative reviews incorrectly classified as positive.\n",
    "- False Negatives (FN): Positive reviews incorrectly classified as negative.\n"
   ]
  },
  {
   "cell_type": "code",
   "execution_count": 28,
   "id": "_V1dJNs6AWCf",
   "metadata": {
    "colab": {
     "base_uri": "https://localhost:8080/",
     "height": 487
    },
    "executionInfo": {
     "elapsed": 165,
     "status": "ok",
     "timestamp": 1741713614710,
     "user": {
      "displayName": "Arundhati Ubhad",
      "userId": "04267315397299508927"
     },
     "user_tz": 420
    },
    "id": "_V1dJNs6AWCf",
    "outputId": "94bb0542-ccf0-4582-f214-b7eee14b2b93"
   },
   "outputs": [
    {
     "data": {
      "image/png": "[encoded data removed]",
      "text/plain": [
       "<Figure size 600x500 with 2 Axes>"
      ]
     },
     "metadata": {},
     "output_type": "display_data"
    }
   ],
   "source": [
    "import matplotlib.pyplot as plt\n",
    "\n",
    "import seaborn as sns\n",
    "from sklearn.metrics import confusion_matrix\n",
    "\n",
    "cm = confusion_matrix(test_df[\"Sentiment_label\"], test_df[\"Predicted_Sentiment\"])\n",
    "plt.figure(figsize=(6, 5))\n",
    "#sns.heatmap(cm, annot=True, fmt=\"d\", cmap=\"Blues\", xticklabels=[\"Negative\", \"Positive\"], yticklabels=[\"Negative\", \"Positive\"])\n",
    "sns.heatmap(cm, annot=True, fmt=\"d\", cmap=\"Blues\")\n",
    "\n",
    "\n",
    "plt.xlabel(\"Predicted\")\n",
    "plt.ylabel(\"Actual\")\n",
    "plt.title(\"Confusion Matrix\")\n",
    "plt.show()\n",
    "\n"
   ]
  },
  {
   "cell_type": "code",
   "execution_count": 32,
   "id": "6497b093-e8a5-45e7-98dc-5ba64352fc38",
   "metadata": {
    "executionInfo": {
     "elapsed": 0,
     "status": "ok",
     "timestamp": 1741713614711,
     "user": {
      "displayName": "Arundhati Ubhad",
      "userId": "04267315397299508927"
     },
     "user_tz": 420
    },
    "id": "6497b093-e8a5-45e7-98dc-5ba64352fc38"
   },
   "outputs": [],
   "source": []
  }
 ],
 "metadata": {
  "accelerator": "GPU",
  "colab": {
   "gpuType": "L4",
   "machine_shape": "hm",
   "provenance": [],
   "toc_visible": true
  },
  "kernelspec": {
   "display_name": "Python 3 (ipykernel)",
   "language": "python",
   "name": "python3"
  },
  "language_info": {
   "codemirror_mode": {
    "name": "ipython",
    "version": 3
   },
   "file_extension": ".py",
   "mimetype": "text/x-python",
   "name": "python",
   "nbconvert_exporter": "python",
   "pygments_lexer": "ipython3",
   "version": "3.12.4"
  },
  "widgets": {
   "application/vnd.jupyter.widget-state+json": {
    "0a6625619d094dc5a8ee341d1180f37d": {
     "model_module": "@jupyter-widgets/controls",
     "model_module_version": "1.5.0",
     "model_name": "HTMLModel",
     "state": {
      "_dom_classes": [],
      "_model_module": "@jupyter-widgets/controls",
      "_model_module_version": "1.5.0",
      "_model_name": "HTMLModel",
      "_view_count": null,
      "_view_module": "@jupyter-widgets/controls",
      "_view_module_version": "1.5.0",
      "_view_name": "HTMLView",
      "description": "",
      "description_tooltip": null,
      "layout": "IPY_MODEL_6b78db766e9c4f57b500404bd0ab2c2a",
      "placeholder": "​",
      "style": "IPY_MODEL_0e4ae9a6360a46c8b3e7eaa349bd21c2",
      "value": "model.safetensors: 100%"
     }
    },
    "0cb04f7378e24d42bc6cdfcc39342529": {
     "model_module": "@jupyter-widgets/base",
     "model_module_version": "1.2.0",
     "model_name": "LayoutModel",
     "state": {
      "_model_module": "@jupyter-widgets/base",
      "_model_module_version": "1.2.0",
      "_model_name": "LayoutModel",
      "_view_count": null,
      "_view_module": "@jupyter-widgets/base",
      "_view_module_version": "1.2.0",
      "_view_name": "LayoutView",
      "align_content": null,
      "align_items": null,
      "align_self": null,
      "border": null,
      "bottom": null,
      "display": null,
      "flex": null,
      "flex_flow": null,
      "grid_area": null,
      "grid_auto_columns": null,
      "grid_auto_flow": null,
      "grid_auto_rows": null,
      "grid_column": null,
      "grid_gap": null,
      "grid_row": null,
      "grid_template_areas": null,
      "grid_template_columns": null,
      "grid_template_rows": null,
      "height": null,
      "justify_content": null,
      "justify_items": null,
      "left": null,
      "margin": null,
      "max_height": null,
      "max_width": null,
      "min_height": null,
      "min_width": null,
      "object_fit": null,
      "object_position": null,
      "order": null,
      "overflow": null,
      "overflow_x": null,
      "overflow_y": null,
      "padding": null,
      "right": null,
      "top": null,
      "visibility": null,
      "width": null
     }
    },
    "0dc087ae050c46bfb726678b8c26af45": {
     "model_module": "@jupyter-widgets/base",
     "model_module_version": "1.2.0",
     "model_name": "LayoutModel",
     "state": {
      "_model_module": "@jupyter-widgets/base",
      "_model_module_version": "1.2.0",
      "_model_name": "LayoutModel",
      "_view_count": null,
      "_view_module": "@jupyter-widgets/base",
      "_view_module_version": "1.2.0",
      "_view_name": "LayoutView",
      "align_content": null,
      "align_items": null,
      "align_self": null,
      "border": null,
      "bottom": null,
      "display": null,
      "flex": null,
      "flex_flow": null,
      "grid_area": null,
      "grid_auto_columns": null,
      "grid_auto_flow": null,
      "grid_auto_rows": null,
      "grid_column": null,
      "grid_gap": null,
      "grid_row": null,
      "grid_template_areas": null,
      "grid_template_columns": null,
      "grid_template_rows": null,
      "height": null,
      "justify_content": null,
      "justify_items": null,
      "left": null,
      "margin": null,
      "max_height": null,
      "max_width": null,
      "min_height": null,
      "min_width": null,
      "object_fit": null,
      "object_position": null,
      "order": null,
      "overflow": null,
      "overflow_x": null,
      "overflow_y": null,
      "padding": null,
      "right": null,
      "top": null,
      "visibility": null,
      "width": null
     }
    },
    "0e1c01da563b4b4b9fd8e13bcc2464b3": {
     "model_module": "@jupyter-widgets/controls",
     "model_module_version": "1.5.0",
     "model_name": "HTMLModel",
     "state": {
      "_dom_classes": [],
      "_model_module": "@jupyter-widgets/controls",
      "_model_module_version": "1.5.0",
      "_model_name": "HTMLModel",
      "_view_count": null,
      "_view_module": "@jupyter-widgets/controls",
      "_view_module_version": "1.5.0",
      "_view_name": "HTMLView",
      "description": "",
      "description_tooltip": null,
      "layout": "IPY_MODEL_4b82935a21db42c387de96752e3b6b92",
      "placeholder": "​",
      "style": "IPY_MODEL_37b8b3b235c44e24b451add1769656a8",
      "value": " 256/256 [00:00&lt;00:00, 30.3kB/s]"
     }
    },
    "0e4ae9a6360a46c8b3e7eaa349bd21c2": {
     "model_module": "@jupyter-widgets/controls",
     "model_module_version": "1.5.0",
     "model_name": "DescriptionStyleModel",
     "state": {
      "_model_module": "@jupyter-widgets/controls",
      "_model_module_version": "1.5.0",
      "_model_name": "DescriptionStyleModel",
      "_view_count": null,
      "_view_module": "@jupyter-widgets/base",
      "_view_module_version": "1.2.0",
      "_view_name": "StyleView",
      "description_width": ""
     }
    },
    "127de499f185408aafb3aa528dce7f1d": {
     "model_module": "@jupyter-widgets/controls",
     "model_module_version": "1.5.0",
     "model_name": "ProgressStyleModel",
     "state": {
      "_model_module": "@jupyter-widgets/controls",
      "_model_module_version": "1.5.0",
      "_model_name": "ProgressStyleModel",
      "_view_count": null,
      "_view_module": "@jupyter-widgets/base",
      "_view_module_version": "1.2.0",
      "_view_name": "StyleView",
      "bar_color": null,
      "description_width": ""
     }
    },
    "15581a3dc8874610938358e204739711": {
     "model_module": "@jupyter-widgets/controls",
     "model_module_version": "1.5.0",
     "model_name": "DescriptionStyleModel",
     "state": {
      "_model_module": "@jupyter-widgets/controls",
      "_model_module_version": "1.5.0",
      "_model_name": "DescriptionStyleModel",
      "_view_count": null,
      "_view_module": "@jupyter-widgets/base",
      "_view_module_version": "1.2.0",
      "_view_name": "StyleView",
      "description_width": ""
     }
    },
    "15fc1e277fc74ee0a37bde0b43885956": {
     "model_module": "@jupyter-widgets/base",
     "model_module_version": "1.2.0",
     "model_name": "LayoutModel",
     "state": {
      "_model_module": "@jupyter-widgets/base",
      "_model_module_version": "1.2.0",
      "_model_name": "LayoutModel",
      "_view_count": null,
      "_view_module": "@jupyter-widgets/base",
      "_view_module_version": "1.2.0",
      "_view_name": "LayoutView",
      "align_content": null,
      "align_items": null,
      "align_self": null,
      "border": null,
      "bottom": null,
      "display": null,
      "flex": null,
      "flex_flow": null,
      "grid_area": null,
      "grid_auto_columns": null,
      "grid_auto_flow": null,
      "grid_auto_rows": null,
      "grid_column": null,
      "grid_gap": null,
      "grid_row": null,
      "grid_template_areas": null,
      "grid_template_columns": null,
      "grid_template_rows": null,
      "height": null,
      "justify_content": null,
      "justify_items": null,
      "left": null,
      "margin": null,
      "max_height": null,
      "max_width": null,
      "min_height": null,
      "min_width": null,
      "object_fit": null,
      "object_position": null,
      "order": null,
      "overflow": null,
      "overflow_x": null,
      "overflow_y": null,
      "padding": null,
      "right": null,
      "top": null,
      "visibility": null,
      "width": null
     }
    },
    "178dd95ba5ba4c29ae57b3c6f8884a52": {
     "model_module": "@jupyter-widgets/base",
     "model_module_version": "1.2.0",
     "model_name": "LayoutModel",
     "state": {
      "_model_module": "@jupyter-widgets/base",
      "_model_module_version": "1.2.0",
      "_model_name": "LayoutModel",
      "_view_count": null,
      "_view_module": "@jupyter-widgets/base",
      "_view_module_version": "1.2.0",
      "_view_name": "LayoutView",
      "align_content": null,
      "align_items": null,
      "align_self": null,
      "border": null,
      "bottom": null,
      "display": null,
      "flex": null,
      "flex_flow": null,
      "grid_area": null,
      "grid_auto_columns": null,
      "grid_auto_flow": null,
      "grid_auto_rows": null,
      "grid_column": null,
      "grid_gap": null,
      "grid_row": null,
      "grid_template_areas": null,
      "grid_template_columns": null,
      "grid_template_rows": null,
      "height": null,
      "justify_content": null,
      "justify_items": null,
      "left": null,
      "margin": null,
      "max_height": null,
      "max_width": null,
      "min_height": null,
      "min_width": null,
      "object_fit": null,
      "object_position": null,
      "order": null,
      "overflow": null,
      "overflow_x": null,
      "overflow_y": null,
      "padding": null,
      "right": null,
      "top": null,
      "visibility": null,
      "width": null
     }
    },
    "18b66b35fff247d48f0d141202157ff8": {
     "model_module": "@jupyter-widgets/base",
     "model_module_version": "1.2.0",
     "model_name": "LayoutModel",
     "state": {
      "_model_module": "@jupyter-widgets/base",
      "_model_module_version": "1.2.0",
      "_model_name": "LayoutModel",
      "_view_count": null,
      "_view_module": "@jupyter-widgets/base",
      "_view_module_version": "1.2.0",
      "_view_name": "LayoutView",
      "align_content": null,
      "align_items": null,
      "align_self": null,
      "border": null,
      "bottom": null,
      "display": null,
      "flex": null,
      "flex_flow": null,
      "grid_area": null,
      "grid_auto_columns": null,
      "grid_auto_flow": null,
      "grid_auto_rows": null,
      "grid_column": null,
      "grid_gap": null,
      "grid_row": null,
      "grid_template_areas": null,
      "grid_template_columns": null,
      "grid_template_rows": null,
      "height": null,
      "justify_content": null,
      "justify_items": null,
      "left": null,
      "margin": null,
      "max_height": null,
      "max_width": null,
      "min_height": null,
      "min_width": null,
      "object_fit": null,
      "object_position": null,
      "order": null,
      "overflow": null,
      "overflow_x": null,
      "overflow_y": null,
      "padding": null,
      "right": null,
      "top": null,
      "visibility": null,
      "width": null
     }
    },
    "18f6a0a1fb5140eea7c30609f7a06216": {
     "model_module": "@jupyter-widgets/controls",
     "model_module_version": "1.5.0",
     "model_name": "HTMLModel",
     "state": {
      "_dom_classes": [],
      "_model_module": "@jupyter-widgets/controls",
      "_model_module_version": "1.5.0",
      "_model_name": "HTMLModel",
      "_view_count": null,
      "_view_module": "@jupyter-widgets/controls",
      "_view_module_version": "1.5.0",
      "_view_name": "HTMLView",
      "description": "",
      "description_tooltip": null,
      "layout": "IPY_MODEL_c4941d2c89fb40cd812fc0b8ac447be9",
      "placeholder": "​",
      "style": "IPY_MODEL_53c34fbdacee4884b15b278945226d11",
      "value": "merges.txt: 100%"
     }
    },
    "1c349ce2e47d4a57b5bdfc2d18799e75": {
     "model_module": "@jupyter-widgets/controls",
     "model_module_version": "1.5.0",
     "model_name": "HTMLModel",
     "state": {
      "_dom_classes": [],
      "_model_module": "@jupyter-widgets/controls",
      "_model_module_version": "1.5.0",
      "_model_name": "HTMLModel",
      "_view_count": null,
      "_view_module": "@jupyter-widgets/controls",
      "_view_module_version": "1.5.0",
      "_view_name": "HTMLView",
      "description": "",
      "description_tooltip": null,
      "layout": "IPY_MODEL_dccddcfcb5f44357b6a120968745f936",
      "placeholder": "​",
      "style": "IPY_MODEL_bc548088aa23463983565a001e1460c1",
      "value": " 1.42G/1.42G [00:06&lt;00:00, 223MB/s]"
     }
    },
    "1d6554ff33b04c2e8d700532de49ab26": {
     "model_module": "@jupyter-widgets/controls",
     "model_module_version": "1.5.0",
     "model_name": "HBoxModel",
     "state": {
      "_dom_classes": [],
      "_model_module": "@jupyter-widgets/controls",
      "_model_module_version": "1.5.0",
      "_model_name": "HBoxModel",
      "_view_count": null,
      "_view_module": "@jupyter-widgets/controls",
      "_view_module_version": "1.5.0",
      "_view_name": "HBoxView",
      "box_style": "",
      "children": [
       "IPY_MODEL_f1105db9879d445f82b42d51b7116f04",
       "IPY_MODEL_8016049d56224292a221ee8e339e3c9d",
       "IPY_MODEL_647efc144d9c486b83dc0c011d3e2867"
      ],
      "layout": "IPY_MODEL_18b66b35fff247d48f0d141202157ff8"
     }
    },
    "1d6c6a22f07d4c95b8017a1bfe073a3a": {
     "model_module": "@jupyter-widgets/controls",
     "model_module_version": "1.5.0",
     "model_name": "HBoxModel",
     "state": {
      "_dom_classes": [],
      "_model_module": "@jupyter-widgets/controls",
      "_model_module_version": "1.5.0",
      "_model_name": "HBoxModel",
      "_view_count": null,
      "_view_module": "@jupyter-widgets/controls",
      "_view_module_version": "1.5.0",
      "_view_name": "HBoxView",
      "box_style": "",
      "children": [
       "IPY_MODEL_34f56d8482424ef49078464a09b99698",
       "IPY_MODEL_9c80990d51034459ac029040c5843c08",
       "IPY_MODEL_0e1c01da563b4b4b9fd8e13bcc2464b3"
      ],
      "layout": "IPY_MODEL_91ebc398674e4090840f9903c1e11ecf"
     }
    },
    "20a478bfdd754dd7a3c25f32b7ad2cea": {
     "model_module": "@jupyter-widgets/controls",
     "model_module_version": "1.5.0",
     "model_name": "DescriptionStyleModel",
     "state": {
      "_model_module": "@jupyter-widgets/controls",
      "_model_module_version": "1.5.0",
      "_model_name": "DescriptionStyleModel",
      "_view_count": null,
      "_view_module": "@jupyter-widgets/base",
      "_view_module_version": "1.2.0",
      "_view_name": "StyleView",
      "description_width": ""
     }
    },
    "27e231563eec478c889cecdf5b90c965": {
     "model_module": "@jupyter-widgets/controls",
     "model_module_version": "1.5.0",
     "model_name": "FloatProgressModel",
     "state": {
      "_dom_classes": [],
      "_model_module": "@jupyter-widgets/controls",
      "_model_module_version": "1.5.0",
      "_model_name": "FloatProgressModel",
      "_view_count": null,
      "_view_module": "@jupyter-widgets/controls",
      "_view_module_version": "1.5.0",
      "_view_name": "ProgressView",
      "bar_style": "success",
      "description": "",
      "description_tooltip": null,
      "layout": "IPY_MODEL_fcb800f98dd24b9b88f82708ec2745ec",
      "max": 1421499616,
      "min": 0,
      "orientation": "horizontal",
      "style": "IPY_MODEL_127de499f185408aafb3aa528dce7f1d",
      "value": 1421499616
     }
    },
    "2a732f7152444b938a4e133c95c1387e": {
     "model_module": "@jupyter-widgets/controls",
     "model_module_version": "1.5.0",
     "model_name": "HBoxModel",
     "state": {
      "_dom_classes": [],
      "_model_module": "@jupyter-widgets/controls",
      "_model_module_version": "1.5.0",
      "_model_name": "HBoxModel",
      "_view_count": null,
      "_view_module": "@jupyter-widgets/controls",
      "_view_module_version": "1.5.0",
      "_view_name": "HBoxView",
      "box_style": "",
      "children": [
       "IPY_MODEL_0a6625619d094dc5a8ee341d1180f37d",
       "IPY_MODEL_27e231563eec478c889cecdf5b90c965",
       "IPY_MODEL_e442c0471f3043debb85f892af378094"
      ],
      "layout": "IPY_MODEL_15fc1e277fc74ee0a37bde0b43885956"
     }
    },
    "2e3b21f54b8f41b68f964c2b6ce4a3fb": {
     "model_module": "@jupyter-widgets/controls",
     "model_module_version": "1.5.0",
     "model_name": "HBoxModel",
     "state": {
      "_dom_classes": [],
      "_model_module": "@jupyter-widgets/controls",
      "_model_module_version": "1.5.0",
      "_model_name": "HBoxModel",
      "_view_count": null,
      "_view_module": "@jupyter-widgets/controls",
      "_view_module_version": "1.5.0",
      "_view_name": "HBoxView",
      "box_style": "",
      "children": [
       "IPY_MODEL_c2282e6db96a40cbaf4f1b706204a684",
       "IPY_MODEL_63101d6bb4734d33badf6af49e792f81",
       "IPY_MODEL_fba74cc0304c423eb1fb0bee1a5dcbc1"
      ],
      "layout": "IPY_MODEL_d462e46919b64d4db2e73f0f8d1a5ad6"
     }
    },
    "32a3137ec596486c96d3843f4816d7e8": {
     "model_module": "@jupyter-widgets/controls",
     "model_module_version": "1.5.0",
     "model_name": "ProgressStyleModel",
     "state": {
      "_model_module": "@jupyter-widgets/controls",
      "_model_module_version": "1.5.0",
      "_model_name": "ProgressStyleModel",
      "_view_count": null,
      "_view_module": "@jupyter-widgets/base",
      "_view_module_version": "1.2.0",
      "_view_name": "StyleView",
      "bar_color": null,
      "description_width": ""
     }
    },
    "34f56d8482424ef49078464a09b99698": {
     "model_module": "@jupyter-widgets/controls",
     "model_module_version": "1.5.0",
     "model_name": "HTMLModel",
     "state": {
      "_dom_classes": [],
      "_model_module": "@jupyter-widgets/controls",
      "_model_module_version": "1.5.0",
      "_model_name": "HTMLModel",
      "_view_count": null,
      "_view_module": "@jupyter-widgets/controls",
      "_view_module_version": "1.5.0",
      "_view_name": "HTMLView",
      "description": "",
      "description_tooltip": null,
      "layout": "IPY_MODEL_e646104795da4a23ae9bbae02c44c31d",
      "placeholder": "​",
      "style": "IPY_MODEL_8b5b8c2ef43a44b58dea48e5beba895a",
      "value": "tokenizer_config.json: 100%"
     }
    },
    "35caaf00d78340acbe79b598c4223dad": {
     "model_module": "@jupyter-widgets/controls",
     "model_module_version": "1.5.0",
     "model_name": "HTMLModel",
     "state": {
      "_dom_classes": [],
      "_model_module": "@jupyter-widgets/controls",
      "_model_module_version": "1.5.0",
      "_model_name": "HTMLModel",
      "_view_count": null,
      "_view_module": "@jupyter-widgets/controls",
      "_view_module_version": "1.5.0",
      "_view_name": "HTMLView",
      "description": "",
      "description_tooltip": null,
      "layout": "IPY_MODEL_543259384c7841128aea267ac5a219b6",
      "placeholder": "​",
      "style": "IPY_MODEL_15581a3dc8874610938358e204739711",
      "value": "special_tokens_map.json: 100%"
     }
    },
    "37b8b3b235c44e24b451add1769656a8": {
     "model_module": "@jupyter-widgets/controls",
     "model_module_version": "1.5.0",
     "model_name": "DescriptionStyleModel",
     "state": {
      "_model_module": "@jupyter-widgets/controls",
      "_model_module_version": "1.5.0",
      "_model_name": "DescriptionStyleModel",
      "_view_count": null,
      "_view_module": "@jupyter-widgets/base",
      "_view_module_version": "1.2.0",
      "_view_name": "StyleView",
      "description_width": ""
     }
    },
    "3b1ad259d51c45c8917a47570fb7e80e": {
     "model_module": "@jupyter-widgets/base",
     "model_module_version": "1.2.0",
     "model_name": "LayoutModel",
     "state": {
      "_model_module": "@jupyter-widgets/base",
      "_model_module_version": "1.2.0",
      "_model_name": "LayoutModel",
      "_view_count": null,
      "_view_module": "@jupyter-widgets/base",
      "_view_module_version": "1.2.0",
      "_view_name": "LayoutView",
      "align_content": null,
      "align_items": null,
      "align_self": null,
      "border": null,
      "bottom": null,
      "display": null,
      "flex": null,
      "flex_flow": null,
      "grid_area": null,
      "grid_auto_columns": null,
      "grid_auto_flow": null,
      "grid_auto_rows": null,
      "grid_column": null,
      "grid_gap": null,
      "grid_row": null,
      "grid_template_areas": null,
      "grid_template_columns": null,
      "grid_template_rows": null,
      "height": null,
      "justify_content": null,
      "justify_items": null,
      "left": null,
      "margin": null,
      "max_height": null,
      "max_width": null,
      "min_height": null,
      "min_width": null,
      "object_fit": null,
      "object_position": null,
      "order": null,
      "overflow": null,
      "overflow_x": null,
      "overflow_y": null,
      "padding": null,
      "right": null,
      "top": null,
      "visibility": null,
      "width": null
     }
    },
    "3d3e2040987f46f2a18cf5811d1c3f05": {
     "model_module": "@jupyter-widgets/controls",
     "model_module_version": "1.5.0",
     "model_name": "HBoxModel",
     "state": {
      "_dom_classes": [],
      "_model_module": "@jupyter-widgets/controls",
      "_model_module_version": "1.5.0",
      "_model_name": "HBoxModel",
      "_view_count": null,
      "_view_module": "@jupyter-widgets/controls",
      "_view_module_version": "1.5.0",
      "_view_name": "HBoxView",
      "box_style": "",
      "children": [
       "IPY_MODEL_18f6a0a1fb5140eea7c30609f7a06216",
       "IPY_MODEL_6f9c42b093524753aa38056d520c0629",
       "IPY_MODEL_7d843a0567794c9c9386a21f42060868"
      ],
      "layout": "IPY_MODEL_aaf3ef84447a43559902360f9e55e53f"
     }
    },
    "44a5f751a0de4bb59e073b445c285d06": {
     "model_module": "@jupyter-widgets/base",
     "model_module_version": "1.2.0",
     "model_name": "LayoutModel",
     "state": {
      "_model_module": "@jupyter-widgets/base",
      "_model_module_version": "1.2.0",
      "_model_name": "LayoutModel",
      "_view_count": null,
      "_view_module": "@jupyter-widgets/base",
      "_view_module_version": "1.2.0",
      "_view_name": "LayoutView",
      "align_content": null,
      "align_items": null,
      "align_self": null,
      "border": null,
      "bottom": null,
      "display": null,
      "flex": null,
      "flex_flow": null,
      "grid_area": null,
      "grid_auto_columns": null,
      "grid_auto_flow": null,
      "grid_auto_rows": null,
      "grid_column": null,
      "grid_gap": null,
      "grid_row": null,
      "grid_template_areas": null,
      "grid_template_columns": null,
      "grid_template_rows": null,
      "height": null,
      "justify_content": null,
      "justify_items": null,
      "left": null,
      "margin": null,
      "max_height": null,
      "max_width": null,
      "min_height": null,
      "min_width": null,
      "object_fit": null,
      "object_position": null,
      "order": null,
      "overflow": null,
      "overflow_x": null,
      "overflow_y": null,
      "padding": null,
      "right": null,
      "top": null,
      "visibility": null,
      "width": null
     }
    },
    "4b82935a21db42c387de96752e3b6b92": {
     "model_module": "@jupyter-widgets/base",
     "model_module_version": "1.2.0",
     "model_name": "LayoutModel",
     "state": {
      "_model_module": "@jupyter-widgets/base",
      "_model_module_version": "1.2.0",
      "_model_name": "LayoutModel",
      "_view_count": null,
      "_view_module": "@jupyter-widgets/base",
      "_view_module_version": "1.2.0",
      "_view_name": "LayoutView",
      "align_content": null,
      "align_items": null,
      "align_self": null,
      "border": null,
      "bottom": null,
      "display": null,
      "flex": null,
      "flex_flow": null,
      "grid_area": null,
      "grid_auto_columns": null,
      "grid_auto_flow": null,
      "grid_auto_rows": null,
      "grid_column": null,
      "grid_gap": null,
      "grid_row": null,
      "grid_template_areas": null,
      "grid_template_columns": null,
      "grid_template_rows": null,
      "height": null,
      "justify_content": null,
      "justify_items": null,
      "left": null,
      "margin": null,
      "max_height": null,
      "max_width": null,
      "min_height": null,
      "min_width": null,
      "object_fit": null,
      "object_position": null,
      "order": null,
      "overflow": null,
      "overflow_x": null,
      "overflow_y": null,
      "padding": null,
      "right": null,
      "top": null,
      "visibility": null,
      "width": null
     }
    },
    "53c34fbdacee4884b15b278945226d11": {
     "model_module": "@jupyter-widgets/controls",
     "model_module_version": "1.5.0",
     "model_name": "DescriptionStyleModel",
     "state": {
      "_model_module": "@jupyter-widgets/controls",
      "_model_module_version": "1.5.0",
      "_model_name": "DescriptionStyleModel",
      "_view_count": null,
      "_view_module": "@jupyter-widgets/base",
      "_view_module_version": "1.2.0",
      "_view_name": "StyleView",
      "description_width": ""
     }
    },
    "543259384c7841128aea267ac5a219b6": {
     "model_module": "@jupyter-widgets/base",
     "model_module_version": "1.2.0",
     "model_name": "LayoutModel",
     "state": {
      "_model_module": "@jupyter-widgets/base",
      "_model_module_version": "1.2.0",
      "_model_name": "LayoutModel",
      "_view_count": null,
      "_view_module": "@jupyter-widgets/base",
      "_view_module_version": "1.2.0",
      "_view_name": "LayoutView",
      "align_content": null,
      "align_items": null,
      "align_self": null,
      "border": null,
      "bottom": null,
      "display": null,
      "flex": null,
      "flex_flow": null,
      "grid_area": null,
      "grid_auto_columns": null,
      "grid_auto_flow": null,
      "grid_auto_rows": null,
      "grid_column": null,
      "grid_gap": null,
      "grid_row": null,
      "grid_template_areas": null,
      "grid_template_columns": null,
      "grid_template_rows": null,
      "height": null,
      "justify_content": null,
      "justify_items": null,
      "left": null,
      "margin": null,
      "max_height": null,
      "max_width": null,
      "min_height": null,
      "min_width": null,
      "object_fit": null,
      "object_position": null,
      "order": null,
      "overflow": null,
      "overflow_x": null,
      "overflow_y": null,
      "padding": null,
      "right": null,
      "top": null,
      "visibility": null,
      "width": null
     }
    },
    "5e5354fb65eb46eb9def667621c09689": {
     "model_module": "@jupyter-widgets/controls",
     "model_module_version": "1.5.0",
     "model_name": "HBoxModel",
     "state": {
      "_dom_classes": [],
      "_model_module": "@jupyter-widgets/controls",
      "_model_module_version": "1.5.0",
      "_model_name": "HBoxModel",
      "_view_count": null,
      "_view_module": "@jupyter-widgets/controls",
      "_view_module_version": "1.5.0",
      "_view_name": "HBoxView",
      "box_style": "",
      "children": [
       "IPY_MODEL_6dedc76d65ff46b2bc25032bcb71b645",
       "IPY_MODEL_d63eae01713540919172274377727ae7",
       "IPY_MODEL_1c349ce2e47d4a57b5bdfc2d18799e75"
      ],
      "layout": "IPY_MODEL_651633e9515240ee94d7e44a8a61e442"
     }
    },
    "63101d6bb4734d33badf6af49e792f81": {
     "model_module": "@jupyter-widgets/controls",
     "model_module_version": "1.5.0",
     "model_name": "FloatProgressModel",
     "state": {
      "_dom_classes": [],
      "_model_module": "@jupyter-widgets/controls",
      "_model_module_version": "1.5.0",
      "_model_name": "FloatProgressModel",
      "_view_count": null,
      "_view_module": "@jupyter-widgets/controls",
      "_view_module_version": "1.5.0",
      "_view_name": "ProgressView",
      "bar_style": "success",
      "description": "",
      "description_tooltip": null,
      "layout": "IPY_MODEL_ad660c50500e4c82be8c578f74225f41",
      "max": 687,
      "min": 0,
      "orientation": "horizontal",
      "style": "IPY_MODEL_8babeb2e7ee0494c9c8ec7d23ba37712",
      "value": 687
     }
    },
    "63894ca896344d69b29153ee55fec4ec": {
     "model_module": "@jupyter-widgets/base",
     "model_module_version": "1.2.0",
     "model_name": "LayoutModel",
     "state": {
      "_model_module": "@jupyter-widgets/base",
      "_model_module_version": "1.2.0",
      "_model_name": "LayoutModel",
      "_view_count": null,
      "_view_module": "@jupyter-widgets/base",
      "_view_module_version": "1.2.0",
      "_view_name": "LayoutView",
      "align_content": null,
      "align_items": null,
      "align_self": null,
      "border": null,
      "bottom": null,
      "display": null,
      "flex": null,
      "flex_flow": null,
      "grid_area": null,
      "grid_auto_columns": null,
      "grid_auto_flow": null,
      "grid_auto_rows": null,
      "grid_column": null,
      "grid_gap": null,
      "grid_row": null,
      "grid_template_areas": null,
      "grid_template_columns": null,
      "grid_template_rows": null,
      "height": null,
      "justify_content": null,
      "justify_items": null,
      "left": null,
      "margin": null,
      "max_height": null,
      "max_width": null,
      "min_height": null,
      "min_width": null,
      "object_fit": null,
      "object_position": null,
      "order": null,
      "overflow": null,
      "overflow_x": null,
      "overflow_y": null,
      "padding": null,
      "right": null,
      "top": null,
      "visibility": null,
      "width": null
     }
    },
    "647efc144d9c486b83dc0c011d3e2867": {
     "model_module": "@jupyter-widgets/controls",
     "model_module_version": "1.5.0",
     "model_name": "HTMLModel",
     "state": {
      "_dom_classes": [],
      "_model_module": "@jupyter-widgets/controls",
      "_model_module_version": "1.5.0",
      "_model_name": "HTMLModel",
      "_view_count": null,
      "_view_module": "@jupyter-widgets/controls",
      "_view_module_version": "1.5.0",
      "_view_name": "HTMLView",
      "description": "",
      "description_tooltip": null,
      "layout": "IPY_MODEL_8375e49ffd614d6ebf5f38e9567bf3d1",
      "placeholder": "​",
      "style": "IPY_MODEL_8e283c0221ec498c967ac660e03f14a5",
      "value": " 798k/798k [00:00&lt;00:00, 3.82MB/s]"
     }
    },
    "651633e9515240ee94d7e44a8a61e442": {
     "model_module": "@jupyter-widgets/base",
     "model_module_version": "1.2.0",
     "model_name": "LayoutModel",
     "state": {
      "_model_module": "@jupyter-widgets/base",
      "_model_module_version": "1.2.0",
      "_model_name": "LayoutModel",
      "_view_count": null,
      "_view_module": "@jupyter-widgets/base",
      "_view_module_version": "1.2.0",
      "_view_name": "LayoutView",
      "align_content": null,
      "align_items": null,
      "align_self": null,
      "border": null,
      "bottom": null,
      "display": null,
      "flex": null,
      "flex_flow": null,
      "grid_area": null,
      "grid_auto_columns": null,
      "grid_auto_flow": null,
      "grid_auto_rows": null,
      "grid_column": null,
      "grid_gap": null,
      "grid_row": null,
      "grid_template_areas": null,
      "grid_template_columns": null,
      "grid_template_rows": null,
      "height": null,
      "justify_content": null,
      "justify_items": null,
      "left": null,
      "margin": null,
      "max_height": null,
      "max_width": null,
      "min_height": null,
      "min_width": null,
      "object_fit": null,
      "object_position": null,
      "order": null,
      "overflow": null,
      "overflow_x": null,
      "overflow_y": null,
      "padding": null,
      "right": null,
      "top": null,
      "visibility": null,
      "width": null
     }
    },
    "694740798e91459ab77e02bac15a5121": {
     "model_module": "@jupyter-widgets/controls",
     "model_module_version": "1.5.0",
     "model_name": "DescriptionStyleModel",
     "state": {
      "_model_module": "@jupyter-widgets/controls",
      "_model_module_version": "1.5.0",
      "_model_name": "DescriptionStyleModel",
      "_view_count": null,
      "_view_module": "@jupyter-widgets/base",
      "_view_module_version": "1.2.0",
      "_view_name": "StyleView",
      "description_width": ""
     }
    },
    "6ae7c473aab74d99aa97471bc3cbf180": {
     "model_module": "@jupyter-widgets/controls",
     "model_module_version": "1.5.0",
     "model_name": "HBoxModel",
     "state": {
      "_dom_classes": [],
      "_model_module": "@jupyter-widgets/controls",
      "_model_module_version": "1.5.0",
      "_model_name": "HBoxModel",
      "_view_count": null,
      "_view_module": "@jupyter-widgets/controls",
      "_view_module_version": "1.5.0",
      "_view_name": "HBoxView",
      "box_style": "",
      "children": [
       "IPY_MODEL_35caaf00d78340acbe79b598c4223dad",
       "IPY_MODEL_830c3881910e44d5bb81e4785427ec7c",
       "IPY_MODEL_f06741b7a0554e2eb1e271489ab35bea"
      ],
      "layout": "IPY_MODEL_bc16c06ca3d947c0a5ffbf64584a8a78"
     }
    },
    "6b78db766e9c4f57b500404bd0ab2c2a": {
     "model_module": "@jupyter-widgets/base",
     "model_module_version": "1.2.0",
     "model_name": "LayoutModel",
     "state": {
      "_model_module": "@jupyter-widgets/base",
      "_model_module_version": "1.2.0",
      "_model_name": "LayoutModel",
      "_view_count": null,
      "_view_module": "@jupyter-widgets/base",
      "_view_module_version": "1.2.0",
      "_view_name": "LayoutView",
      "align_content": null,
      "align_items": null,
      "align_self": null,
      "border": null,
      "bottom": null,
      "display": null,
      "flex": null,
      "flex_flow": null,
      "grid_area": null,
      "grid_auto_columns": null,
      "grid_auto_flow": null,
      "grid_auto_rows": null,
      "grid_column": null,
      "grid_gap": null,
      "grid_row": null,
      "grid_template_areas": null,
      "grid_template_columns": null,
      "grid_template_rows": null,
      "height": null,
      "justify_content": null,
      "justify_items": null,
      "left": null,
      "margin": null,
      "max_height": null,
      "max_width": null,
      "min_height": null,
      "min_width": null,
      "object_fit": null,
      "object_position": null,
      "order": null,
      "overflow": null,
      "overflow_x": null,
      "overflow_y": null,
      "padding": null,
      "right": null,
      "top": null,
      "visibility": null,
      "width": null
     }
    },
    "6ca198b685a64707b09c6c173d31e633": {
     "model_module": "@jupyter-widgets/controls",
     "model_module_version": "1.5.0",
     "model_name": "ProgressStyleModel",
     "state": {
      "_model_module": "@jupyter-widgets/controls",
      "_model_module_version": "1.5.0",
      "_model_name": "ProgressStyleModel",
      "_view_count": null,
      "_view_module": "@jupyter-widgets/base",
      "_view_module_version": "1.2.0",
      "_view_name": "StyleView",
      "bar_color": null,
      "description_width": ""
     }
    },
    "6dedc76d65ff46b2bc25032bcb71b645": {
     "model_module": "@jupyter-widgets/controls",
     "model_module_version": "1.5.0",
     "model_name": "HTMLModel",
     "state": {
      "_dom_classes": [],
      "_model_module": "@jupyter-widgets/controls",
      "_model_module_version": "1.5.0",
      "_model_name": "HTMLModel",
      "_view_count": null,
      "_view_module": "@jupyter-widgets/controls",
      "_view_module_version": "1.5.0",
      "_view_name": "HTMLView",
      "description": "",
      "description_tooltip": null,
      "layout": "IPY_MODEL_d66d5d69d9fc4420a9dde5024ce47fa5",
      "placeholder": "​",
      "style": "IPY_MODEL_78c0f45a84b24879a8f20e4bdb9f2a9f",
      "value": "pytorch_model.bin: 100%"
     }
    },
    "6f9c42b093524753aa38056d520c0629": {
     "model_module": "@jupyter-widgets/controls",
     "model_module_version": "1.5.0",
     "model_name": "FloatProgressModel",
     "state": {
      "_dom_classes": [],
      "_model_module": "@jupyter-widgets/controls",
      "_model_module_version": "1.5.0",
      "_model_name": "FloatProgressModel",
      "_view_count": null,
      "_view_module": "@jupyter-widgets/controls",
      "_view_module_version": "1.5.0",
      "_view_name": "ProgressView",
      "bar_style": "success",
      "description": "",
      "description_tooltip": null,
      "layout": "IPY_MODEL_63894ca896344d69b29153ee55fec4ec",
      "max": 456356,
      "min": 0,
      "orientation": "horizontal",
      "style": "IPY_MODEL_c96ed911b4a14d95aeb412fdb1ed5d26",
      "value": 456356
     }
    },
    "7222b23f60a04a15b07b71d91ec40166": {
     "model_module": "@jupyter-widgets/base",
     "model_module_version": "1.2.0",
     "model_name": "LayoutModel",
     "state": {
      "_model_module": "@jupyter-widgets/base",
      "_model_module_version": "1.2.0",
      "_model_name": "LayoutModel",
      "_view_count": null,
      "_view_module": "@jupyter-widgets/base",
      "_view_module_version": "1.2.0",
      "_view_name": "LayoutView",
      "align_content": null,
      "align_items": null,
      "align_self": null,
      "border": null,
      "bottom": null,
      "display": null,
      "flex": null,
      "flex_flow": null,
      "grid_area": null,
      "grid_auto_columns": null,
      "grid_auto_flow": null,
      "grid_auto_rows": null,
      "grid_column": null,
      "grid_gap": null,
      "grid_row": null,
      "grid_template_areas": null,
      "grid_template_columns": null,
      "grid_template_rows": null,
      "height": null,
      "justify_content": null,
      "justify_items": null,
      "left": null,
      "margin": null,
      "max_height": null,
      "max_width": null,
      "min_height": null,
      "min_width": null,
      "object_fit": null,
      "object_position": null,
      "order": null,
      "overflow": null,
      "overflow_x": null,
      "overflow_y": null,
      "padding": null,
      "right": null,
      "top": null,
      "visibility": null,
      "width": null
     }
    },
    "78c0f45a84b24879a8f20e4bdb9f2a9f": {
     "model_module": "@jupyter-widgets/controls",
     "model_module_version": "1.5.0",
     "model_name": "DescriptionStyleModel",
     "state": {
      "_model_module": "@jupyter-widgets/controls",
      "_model_module_version": "1.5.0",
      "_model_name": "DescriptionStyleModel",
      "_view_count": null,
      "_view_module": "@jupyter-widgets/base",
      "_view_module_version": "1.2.0",
      "_view_name": "StyleView",
      "description_width": ""
     }
    },
    "7d843a0567794c9c9386a21f42060868": {
     "model_module": "@jupyter-widgets/controls",
     "model_module_version": "1.5.0",
     "model_name": "HTMLModel",
     "state": {
      "_dom_classes": [],
      "_model_module": "@jupyter-widgets/controls",
      "_model_module_version": "1.5.0",
      "_model_name": "HTMLModel",
      "_view_count": null,
      "_view_module": "@jupyter-widgets/controls",
      "_view_module_version": "1.5.0",
      "_view_name": "HTMLView",
      "description": "",
      "description_tooltip": null,
      "layout": "IPY_MODEL_7222b23f60a04a15b07b71d91ec40166",
      "placeholder": "​",
      "style": "IPY_MODEL_694740798e91459ab77e02bac15a5121",
      "value": " 456k/456k [00:00&lt;00:00, 6.06MB/s]"
     }
    },
    "8016049d56224292a221ee8e339e3c9d": {
     "model_module": "@jupyter-widgets/controls",
     "model_module_version": "1.5.0",
     "model_name": "FloatProgressModel",
     "state": {
      "_dom_classes": [],
      "_model_module": "@jupyter-widgets/controls",
      "_model_module_version": "1.5.0",
      "_model_name": "FloatProgressModel",
      "_view_count": null,
      "_view_module": "@jupyter-widgets/controls",
      "_view_module_version": "1.5.0",
      "_view_name": "ProgressView",
      "bar_style": "success",
      "description": "",
      "description_tooltip": null,
      "layout": "IPY_MODEL_ad78b4e76513408088e72016577c2f6a",
      "max": 798293,
      "min": 0,
      "orientation": "horizontal",
      "style": "IPY_MODEL_6ca198b685a64707b09c6c173d31e633",
      "value": 798293
     }
    },
    "830c3881910e44d5bb81e4785427ec7c": {
     "model_module": "@jupyter-widgets/controls",
     "model_module_version": "1.5.0",
     "model_name": "FloatProgressModel",
     "state": {
      "_dom_classes": [],
      "_model_module": "@jupyter-widgets/controls",
      "_model_module_version": "1.5.0",
      "_model_name": "FloatProgressModel",
      "_view_count": null,
      "_view_module": "@jupyter-widgets/controls",
      "_view_module_version": "1.5.0",
      "_view_name": "ProgressView",
      "bar_style": "success",
      "description": "",
      "description_tooltip": null,
      "layout": "IPY_MODEL_9e2841ea4aa045d5b5cc899c90262acc",
      "max": 150,
      "min": 0,
      "orientation": "horizontal",
      "style": "IPY_MODEL_32a3137ec596486c96d3843f4816d7e8",
      "value": 150
     }
    },
    "8375e49ffd614d6ebf5f38e9567bf3d1": {
     "model_module": "@jupyter-widgets/base",
     "model_module_version": "1.2.0",
     "model_name": "LayoutModel",
     "state": {
      "_model_module": "@jupyter-widgets/base",
      "_model_module_version": "1.2.0",
      "_model_name": "LayoutModel",
      "_view_count": null,
      "_view_module": "@jupyter-widgets/base",
      "_view_module_version": "1.2.0",
      "_view_name": "LayoutView",
      "align_content": null,
      "align_items": null,
      "align_self": null,
      "border": null,
      "bottom": null,
      "display": null,
      "flex": null,
      "flex_flow": null,
      "grid_area": null,
      "grid_auto_columns": null,
      "grid_auto_flow": null,
      "grid_auto_rows": null,
      "grid_column": null,
      "grid_gap": null,
      "grid_row": null,
      "grid_template_areas": null,
      "grid_template_columns": null,
      "grid_template_rows": null,
      "height": null,
      "justify_content": null,
      "justify_items": null,
      "left": null,
      "margin": null,
      "max_height": null,
      "max_width": null,
      "min_height": null,
      "min_width": null,
      "object_fit": null,
      "object_position": null,
      "order": null,
      "overflow": null,
      "overflow_x": null,
      "overflow_y": null,
      "padding": null,
      "right": null,
      "top": null,
      "visibility": null,
      "width": null
     }
    },
    "85868695b1d84a5d94df3734a709b823": {
     "model_module": "@jupyter-widgets/controls",
     "model_module_version": "1.5.0",
     "model_name": "DescriptionStyleModel",
     "state": {
      "_model_module": "@jupyter-widgets/controls",
      "_model_module_version": "1.5.0",
      "_model_name": "DescriptionStyleModel",
      "_view_count": null,
      "_view_module": "@jupyter-widgets/base",
      "_view_module_version": "1.2.0",
      "_view_name": "StyleView",
      "description_width": ""
     }
    },
    "8b5b8c2ef43a44b58dea48e5beba895a": {
     "model_module": "@jupyter-widgets/controls",
     "model_module_version": "1.5.0",
     "model_name": "DescriptionStyleModel",
     "state": {
      "_model_module": "@jupyter-widgets/controls",
      "_model_module_version": "1.5.0",
      "_model_name": "DescriptionStyleModel",
      "_view_count": null,
      "_view_module": "@jupyter-widgets/base",
      "_view_module_version": "1.2.0",
      "_view_name": "StyleView",
      "description_width": ""
     }
    },
    "8babeb2e7ee0494c9c8ec7d23ba37712": {
     "model_module": "@jupyter-widgets/controls",
     "model_module_version": "1.5.0",
     "model_name": "ProgressStyleModel",
     "state": {
      "_model_module": "@jupyter-widgets/controls",
      "_model_module_version": "1.5.0",
      "_model_name": "ProgressStyleModel",
      "_view_count": null,
      "_view_module": "@jupyter-widgets/base",
      "_view_module_version": "1.2.0",
      "_view_name": "StyleView",
      "bar_color": null,
      "description_width": ""
     }
    },
    "8e283c0221ec498c967ac660e03f14a5": {
     "model_module": "@jupyter-widgets/controls",
     "model_module_version": "1.5.0",
     "model_name": "DescriptionStyleModel",
     "state": {
      "_model_module": "@jupyter-widgets/controls",
      "_model_module_version": "1.5.0",
      "_model_name": "DescriptionStyleModel",
      "_view_count": null,
      "_view_module": "@jupyter-widgets/base",
      "_view_module_version": "1.2.0",
      "_view_name": "StyleView",
      "description_width": ""
     }
    },
    "91ebc398674e4090840f9903c1e11ecf": {
     "model_module": "@jupyter-widgets/base",
     "model_module_version": "1.2.0",
     "model_name": "LayoutModel",
     "state": {
      "_model_module": "@jupyter-widgets/base",
      "_model_module_version": "1.2.0",
      "_model_name": "LayoutModel",
      "_view_count": null,
      "_view_module": "@jupyter-widgets/base",
      "_view_module_version": "1.2.0",
      "_view_name": "LayoutView",
      "align_content": null,
      "align_items": null,
      "align_self": null,
      "border": null,
      "bottom": null,
      "display": null,
      "flex": null,
      "flex_flow": null,
      "grid_area": null,
      "grid_auto_columns": null,
      "grid_auto_flow": null,
      "grid_auto_rows": null,
      "grid_column": null,
      "grid_gap": null,
      "grid_row": null,
      "grid_template_areas": null,
      "grid_template_columns": null,
      "grid_template_rows": null,
      "height": null,
      "justify_content": null,
      "justify_items": null,
      "left": null,
      "margin": null,
      "max_height": null,
      "max_width": null,
      "min_height": null,
      "min_width": null,
      "object_fit": null,
      "object_position": null,
      "order": null,
      "overflow": null,
      "overflow_x": null,
      "overflow_y": null,
      "padding": null,
      "right": null,
      "top": null,
      "visibility": null,
      "width": null
     }
    },
    "9c80990d51034459ac029040c5843c08": {
     "model_module": "@jupyter-widgets/controls",
     "model_module_version": "1.5.0",
     "model_name": "FloatProgressModel",
     "state": {
      "_dom_classes": [],
      "_model_module": "@jupyter-widgets/controls",
      "_model_module_version": "1.5.0",
      "_model_name": "FloatProgressModel",
      "_view_count": null,
      "_view_module": "@jupyter-widgets/controls",
      "_view_module_version": "1.5.0",
      "_view_name": "ProgressView",
      "bar_style": "success",
      "description": "",
      "description_tooltip": null,
      "layout": "IPY_MODEL_3b1ad259d51c45c8917a47570fb7e80e",
      "max": 256,
      "min": 0,
      "orientation": "horizontal",
      "style": "IPY_MODEL_a1011e5128fc43d4a423718a49f6a479",
      "value": 256
     }
    },
    "9e2841ea4aa045d5b5cc899c90262acc": {
     "model_module": "@jupyter-widgets/base",
     "model_module_version": "1.2.0",
     "model_name": "LayoutModel",
     "state": {
      "_model_module": "@jupyter-widgets/base",
      "_model_module_version": "1.2.0",
      "_model_name": "LayoutModel",
      "_view_count": null,
      "_view_module": "@jupyter-widgets/base",
      "_view_module_version": "1.2.0",
      "_view_name": "LayoutView",
      "align_content": null,
      "align_items": null,
      "align_self": null,
      "border": null,
      "bottom": null,
      "display": null,
      "flex": null,
      "flex_flow": null,
      "grid_area": null,
      "grid_auto_columns": null,
      "grid_auto_flow": null,
      "grid_auto_rows": null,
      "grid_column": null,
      "grid_gap": null,
      "grid_row": null,
      "grid_template_areas": null,
      "grid_template_columns": null,
      "grid_template_rows": null,
      "height": null,
      "justify_content": null,
      "justify_items": null,
      "left": null,
      "margin": null,
      "max_height": null,
      "max_width": null,
      "min_height": null,
      "min_width": null,
      "object_fit": null,
      "object_position": null,
      "order": null,
      "overflow": null,
      "overflow_x": null,
      "overflow_y": null,
      "padding": null,
      "right": null,
      "top": null,
      "visibility": null,
      "width": null
     }
    },
    "a1011e5128fc43d4a423718a49f6a479": {
     "model_module": "@jupyter-widgets/controls",
     "model_module_version": "1.5.0",
     "model_name": "ProgressStyleModel",
     "state": {
      "_model_module": "@jupyter-widgets/controls",
      "_model_module_version": "1.5.0",
      "_model_name": "ProgressStyleModel",
      "_view_count": null,
      "_view_module": "@jupyter-widgets/base",
      "_view_module_version": "1.2.0",
      "_view_name": "StyleView",
      "bar_color": null,
      "description_width": ""
     }
    },
    "aaf3ef84447a43559902360f9e55e53f": {
     "model_module": "@jupyter-widgets/base",
     "model_module_version": "1.2.0",
     "model_name": "LayoutModel",
     "state": {
      "_model_module": "@jupyter-widgets/base",
      "_model_module_version": "1.2.0",
      "_model_name": "LayoutModel",
      "_view_count": null,
      "_view_module": "@jupyter-widgets/base",
      "_view_module_version": "1.2.0",
      "_view_name": "LayoutView",
      "align_content": null,
      "align_items": null,
      "align_self": null,
      "border": null,
      "bottom": null,
      "display": null,
      "flex": null,
      "flex_flow": null,
      "grid_area": null,
      "grid_auto_columns": null,
      "grid_auto_flow": null,
      "grid_auto_rows": null,
      "grid_column": null,
      "grid_gap": null,
      "grid_row": null,
      "grid_template_areas": null,
      "grid_template_columns": null,
      "grid_template_rows": null,
      "height": null,
      "justify_content": null,
      "justify_items": null,
      "left": null,
      "margin": null,
      "max_height": null,
      "max_width": null,
      "min_height": null,
      "min_width": null,
      "object_fit": null,
      "object_position": null,
      "order": null,
      "overflow": null,
      "overflow_x": null,
      "overflow_y": null,
      "padding": null,
      "right": null,
      "top": null,
      "visibility": null,
      "width": null
     }
    },
    "ad660c50500e4c82be8c578f74225f41": {
     "model_module": "@jupyter-widgets/base",
     "model_module_version": "1.2.0",
     "model_name": "LayoutModel",
     "state": {
      "_model_module": "@jupyter-widgets/base",
      "_model_module_version": "1.2.0",
      "_model_name": "LayoutModel",
      "_view_count": null,
      "_view_module": "@jupyter-widgets/base",
      "_view_module_version": "1.2.0",
      "_view_name": "LayoutView",
      "align_content": null,
      "align_items": null,
      "align_self": null,
      "border": null,
      "bottom": null,
      "display": null,
      "flex": null,
      "flex_flow": null,
      "grid_area": null,
      "grid_auto_columns": null,
      "grid_auto_flow": null,
      "grid_auto_rows": null,
      "grid_column": null,
      "grid_gap": null,
      "grid_row": null,
      "grid_template_areas": null,
      "grid_template_columns": null,
      "grid_template_rows": null,
      "height": null,
      "justify_content": null,
      "justify_items": null,
      "left": null,
      "margin": null,
      "max_height": null,
      "max_width": null,
      "min_height": null,
      "min_width": null,
      "object_fit": null,
      "object_position": null,
      "order": null,
      "overflow": null,
      "overflow_x": null,
      "overflow_y": null,
      "padding": null,
      "right": null,
      "top": null,
      "visibility": null,
      "width": null
     }
    },
    "ad78b4e76513408088e72016577c2f6a": {
     "model_module": "@jupyter-widgets/base",
     "model_module_version": "1.2.0",
     "model_name": "LayoutModel",
     "state": {
      "_model_module": "@jupyter-widgets/base",
      "_model_module_version": "1.2.0",
      "_model_name": "LayoutModel",
      "_view_count": null,
      "_view_module": "@jupyter-widgets/base",
      "_view_module_version": "1.2.0",
      "_view_name": "LayoutView",
      "align_content": null,
      "align_items": null,
      "align_self": null,
      "border": null,
      "bottom": null,
      "display": null,
      "flex": null,
      "flex_flow": null,
      "grid_area": null,
      "grid_auto_columns": null,
      "grid_auto_flow": null,
      "grid_auto_rows": null,
      "grid_column": null,
      "grid_gap": null,
      "grid_row": null,
      "grid_template_areas": null,
      "grid_template_columns": null,
      "grid_template_rows": null,
      "height": null,
      "justify_content": null,
      "justify_items": null,
      "left": null,
      "margin": null,
      "max_height": null,
      "max_width": null,
      "min_height": null,
      "min_width": null,
      "object_fit": null,
      "object_position": null,
      "order": null,
      "overflow": null,
      "overflow_x": null,
      "overflow_y": null,
      "padding": null,
      "right": null,
      "top": null,
      "visibility": null,
      "width": null
     }
    },
    "bb3865d4b34d4876b34fb985ca077438": {
     "model_module": "@jupyter-widgets/base",
     "model_module_version": "1.2.0",
     "model_name": "LayoutModel",
     "state": {
      "_model_module": "@jupyter-widgets/base",
      "_model_module_version": "1.2.0",
      "_model_name": "LayoutModel",
      "_view_count": null,
      "_view_module": "@jupyter-widgets/base",
      "_view_module_version": "1.2.0",
      "_view_name": "LayoutView",
      "align_content": null,
      "align_items": null,
      "align_self": null,
      "border": null,
      "bottom": null,
      "display": null,
      "flex": null,
      "flex_flow": null,
      "grid_area": null,
      "grid_auto_columns": null,
      "grid_auto_flow": null,
      "grid_auto_rows": null,
      "grid_column": null,
      "grid_gap": null,
      "grid_row": null,
      "grid_template_areas": null,
      "grid_template_columns": null,
      "grid_template_rows": null,
      "height": null,
      "justify_content": null,
      "justify_items": null,
      "left": null,
      "margin": null,
      "max_height": null,
      "max_width": null,
      "min_height": null,
      "min_width": null,
      "object_fit": null,
      "object_position": null,
      "order": null,
      "overflow": null,
      "overflow_x": null,
      "overflow_y": null,
      "padding": null,
      "right": null,
      "top": null,
      "visibility": null,
      "width": null
     }
    },
    "bc16c06ca3d947c0a5ffbf64584a8a78": {
     "model_module": "@jupyter-widgets/base",
     "model_module_version": "1.2.0",
     "model_name": "LayoutModel",
     "state": {
      "_model_module": "@jupyter-widgets/base",
      "_model_module_version": "1.2.0",
      "_model_name": "LayoutModel",
      "_view_count": null,
      "_view_module": "@jupyter-widgets/base",
      "_view_module_version": "1.2.0",
      "_view_name": "LayoutView",
      "align_content": null,
      "align_items": null,
      "align_self": null,
      "border": null,
      "bottom": null,
      "display": null,
      "flex": null,
      "flex_flow": null,
      "grid_area": null,
      "grid_auto_columns": null,
      "grid_auto_flow": null,
      "grid_auto_rows": null,
      "grid_column": null,
      "grid_gap": null,
      "grid_row": null,
      "grid_template_areas": null,
      "grid_template_columns": null,
      "grid_template_rows": null,
      "height": null,
      "justify_content": null,
      "justify_items": null,
      "left": null,
      "margin": null,
      "max_height": null,
      "max_width": null,
      "min_height": null,
      "min_width": null,
      "object_fit": null,
      "object_position": null,
      "order": null,
      "overflow": null,
      "overflow_x": null,
      "overflow_y": null,
      "padding": null,
      "right": null,
      "top": null,
      "visibility": null,
      "width": null
     }
    },
    "bc548088aa23463983565a001e1460c1": {
     "model_module": "@jupyter-widgets/controls",
     "model_module_version": "1.5.0",
     "model_name": "DescriptionStyleModel",
     "state": {
      "_model_module": "@jupyter-widgets/controls",
      "_model_module_version": "1.5.0",
      "_model_name": "DescriptionStyleModel",
      "_view_count": null,
      "_view_module": "@jupyter-widgets/base",
      "_view_module_version": "1.2.0",
      "_view_name": "StyleView",
      "description_width": ""
     }
    },
    "c2282e6db96a40cbaf4f1b706204a684": {
     "model_module": "@jupyter-widgets/controls",
     "model_module_version": "1.5.0",
     "model_name": "HTMLModel",
     "state": {
      "_dom_classes": [],
      "_model_module": "@jupyter-widgets/controls",
      "_model_module_version": "1.5.0",
      "_model_name": "HTMLModel",
      "_view_count": null,
      "_view_module": "@jupyter-widgets/controls",
      "_view_module_version": "1.5.0",
      "_view_name": "HTMLView",
      "description": "",
      "description_tooltip": null,
      "layout": "IPY_MODEL_e70ba931c99b477a85d00ba70bd126a3",
      "placeholder": "​",
      "style": "IPY_MODEL_e3c7ac14d16540ebb4028f380da3de35",
      "value": "config.json: 100%"
     }
    },
    "c4941d2c89fb40cd812fc0b8ac447be9": {
     "model_module": "@jupyter-widgets/base",
     "model_module_version": "1.2.0",
     "model_name": "LayoutModel",
     "state": {
      "_model_module": "@jupyter-widgets/base",
      "_model_module_version": "1.2.0",
      "_model_name": "LayoutModel",
      "_view_count": null,
      "_view_module": "@jupyter-widgets/base",
      "_view_module_version": "1.2.0",
      "_view_name": "LayoutView",
      "align_content": null,
      "align_items": null,
      "align_self": null,
      "border": null,
      "bottom": null,
      "display": null,
      "flex": null,
      "flex_flow": null,
      "grid_area": null,
      "grid_auto_columns": null,
      "grid_auto_flow": null,
      "grid_auto_rows": null,
      "grid_column": null,
      "grid_gap": null,
      "grid_row": null,
      "grid_template_areas": null,
      "grid_template_columns": null,
      "grid_template_rows": null,
      "height": null,
      "justify_content": null,
      "justify_items": null,
      "left": null,
      "margin": null,
      "max_height": null,
      "max_width": null,
      "min_height": null,
      "min_width": null,
      "object_fit": null,
      "object_position": null,
      "order": null,
      "overflow": null,
      "overflow_x": null,
      "overflow_y": null,
      "padding": null,
      "right": null,
      "top": null,
      "visibility": null,
      "width": null
     }
    },
    "c96ed911b4a14d95aeb412fdb1ed5d26": {
     "model_module": "@jupyter-widgets/controls",
     "model_module_version": "1.5.0",
     "model_name": "ProgressStyleModel",
     "state": {
      "_model_module": "@jupyter-widgets/controls",
      "_model_module_version": "1.5.0",
      "_model_name": "ProgressStyleModel",
      "_view_count": null,
      "_view_module": "@jupyter-widgets/base",
      "_view_module_version": "1.2.0",
      "_view_name": "StyleView",
      "bar_color": null,
      "description_width": ""
     }
    },
    "d0be7630f5464b19ac9e2e62decd78d6": {
     "model_module": "@jupyter-widgets/controls",
     "model_module_version": "1.5.0",
     "model_name": "DescriptionStyleModel",
     "state": {
      "_model_module": "@jupyter-widgets/controls",
      "_model_module_version": "1.5.0",
      "_model_name": "DescriptionStyleModel",
      "_view_count": null,
      "_view_module": "@jupyter-widgets/base",
      "_view_module_version": "1.2.0",
      "_view_name": "StyleView",
      "description_width": ""
     }
    },
    "d462e46919b64d4db2e73f0f8d1a5ad6": {
     "model_module": "@jupyter-widgets/base",
     "model_module_version": "1.2.0",
     "model_name": "LayoutModel",
     "state": {
      "_model_module": "@jupyter-widgets/base",
      "_model_module_version": "1.2.0",
      "_model_name": "LayoutModel",
      "_view_count": null,
      "_view_module": "@jupyter-widgets/base",
      "_view_module_version": "1.2.0",
      "_view_name": "LayoutView",
      "align_content": null,
      "align_items": null,
      "align_self": null,
      "border": null,
      "bottom": null,
      "display": null,
      "flex": null,
      "flex_flow": null,
      "grid_area": null,
      "grid_auto_columns": null,
      "grid_auto_flow": null,
      "grid_auto_rows": null,
      "grid_column": null,
      "grid_gap": null,
      "grid_row": null,
      "grid_template_areas": null,
      "grid_template_columns": null,
      "grid_template_rows": null,
      "height": null,
      "justify_content": null,
      "justify_items": null,
      "left": null,
      "margin": null,
      "max_height": null,
      "max_width": null,
      "min_height": null,
      "min_width": null,
      "object_fit": null,
      "object_position": null,
      "order": null,
      "overflow": null,
      "overflow_x": null,
      "overflow_y": null,
      "padding": null,
      "right": null,
      "top": null,
      "visibility": null,
      "width": null
     }
    },
    "d63eae01713540919172274377727ae7": {
     "model_module": "@jupyter-widgets/controls",
     "model_module_version": "1.5.0",
     "model_name": "FloatProgressModel",
     "state": {
      "_dom_classes": [],
      "_model_module": "@jupyter-widgets/controls",
      "_model_module_version": "1.5.0",
      "_model_name": "FloatProgressModel",
      "_view_count": null,
      "_view_module": "@jupyter-widgets/controls",
      "_view_module_version": "1.5.0",
      "_view_name": "ProgressView",
      "bar_style": "success",
      "description": "",
      "description_tooltip": null,
      "layout": "IPY_MODEL_0dc087ae050c46bfb726678b8c26af45",
      "max": 1421616707,
      "min": 0,
      "orientation": "horizontal",
      "style": "IPY_MODEL_fd68dd87eeee4da4b1068b9e2c6a6477",
      "value": 1421616707
     }
    },
    "d66d5d69d9fc4420a9dde5024ce47fa5": {
     "model_module": "@jupyter-widgets/base",
     "model_module_version": "1.2.0",
     "model_name": "LayoutModel",
     "state": {
      "_model_module": "@jupyter-widgets/base",
      "_model_module_version": "1.2.0",
      "_model_name": "LayoutModel",
      "_view_count": null,
      "_view_module": "@jupyter-widgets/base",
      "_view_module_version": "1.2.0",
      "_view_name": "LayoutView",
      "align_content": null,
      "align_items": null,
      "align_self": null,
      "border": null,
      "bottom": null,
      "display": null,
      "flex": null,
      "flex_flow": null,
      "grid_area": null,
      "grid_auto_columns": null,
      "grid_auto_flow": null,
      "grid_auto_rows": null,
      "grid_column": null,
      "grid_gap": null,
      "grid_row": null,
      "grid_template_areas": null,
      "grid_template_columns": null,
      "grid_template_rows": null,
      "height": null,
      "justify_content": null,
      "justify_items": null,
      "left": null,
      "margin": null,
      "max_height": null,
      "max_width": null,
      "min_height": null,
      "min_width": null,
      "object_fit": null,
      "object_position": null,
      "order": null,
      "overflow": null,
      "overflow_x": null,
      "overflow_y": null,
      "padding": null,
      "right": null,
      "top": null,
      "visibility": null,
      "width": null
     }
    },
    "dccddcfcb5f44357b6a120968745f936": {
     "model_module": "@jupyter-widgets/base",
     "model_module_version": "1.2.0",
     "model_name": "LayoutModel",
     "state": {
      "_model_module": "@jupyter-widgets/base",
      "_model_module_version": "1.2.0",
      "_model_name": "LayoutModel",
      "_view_count": null,
      "_view_module": "@jupyter-widgets/base",
      "_view_module_version": "1.2.0",
      "_view_name": "LayoutView",
      "align_content": null,
      "align_items": null,
      "align_self": null,
      "border": null,
      "bottom": null,
      "display": null,
      "flex": null,
      "flex_flow": null,
      "grid_area": null,
      "grid_auto_columns": null,
      "grid_auto_flow": null,
      "grid_auto_rows": null,
      "grid_column": null,
      "grid_gap": null,
      "grid_row": null,
      "grid_template_areas": null,
      "grid_template_columns": null,
      "grid_template_rows": null,
      "height": null,
      "justify_content": null,
      "justify_items": null,
      "left": null,
      "margin": null,
      "max_height": null,
      "max_width": null,
      "min_height": null,
      "min_width": null,
      "object_fit": null,
      "object_position": null,
      "order": null,
      "overflow": null,
      "overflow_x": null,
      "overflow_y": null,
      "padding": null,
      "right": null,
      "top": null,
      "visibility": null,
      "width": null
     }
    },
    "e31e5b4ad8ac413ab6506e152b1564b3": {
     "model_module": "@jupyter-widgets/controls",
     "model_module_version": "1.5.0",
     "model_name": "DescriptionStyleModel",
     "state": {
      "_model_module": "@jupyter-widgets/controls",
      "_model_module_version": "1.5.0",
      "_model_name": "DescriptionStyleModel",
      "_view_count": null,
      "_view_module": "@jupyter-widgets/base",
      "_view_module_version": "1.2.0",
      "_view_name": "StyleView",
      "description_width": ""
     }
    },
    "e3c7ac14d16540ebb4028f380da3de35": {
     "model_module": "@jupyter-widgets/controls",
     "model_module_version": "1.5.0",
     "model_name": "DescriptionStyleModel",
     "state": {
      "_model_module": "@jupyter-widgets/controls",
      "_model_module_version": "1.5.0",
      "_model_name": "DescriptionStyleModel",
      "_view_count": null,
      "_view_module": "@jupyter-widgets/base",
      "_view_module_version": "1.2.0",
      "_view_name": "StyleView",
      "description_width": ""
     }
    },
    "e442c0471f3043debb85f892af378094": {
     "model_module": "@jupyter-widgets/controls",
     "model_module_version": "1.5.0",
     "model_name": "HTMLModel",
     "state": {
      "_dom_classes": [],
      "_model_module": "@jupyter-widgets/controls",
      "_model_module_version": "1.5.0",
      "_model_name": "HTMLModel",
      "_view_count": null,
      "_view_module": "@jupyter-widgets/controls",
      "_view_module_version": "1.5.0",
      "_view_name": "HTMLView",
      "description": "",
      "description_tooltip": null,
      "layout": "IPY_MODEL_bb3865d4b34d4876b34fb985ca077438",
      "placeholder": "​",
      "style": "IPY_MODEL_d0be7630f5464b19ac9e2e62decd78d6",
      "value": " 1.42G/1.42G [00:08&lt;00:00, 242MB/s]"
     }
    },
    "e646104795da4a23ae9bbae02c44c31d": {
     "model_module": "@jupyter-widgets/base",
     "model_module_version": "1.2.0",
     "model_name": "LayoutModel",
     "state": {
      "_model_module": "@jupyter-widgets/base",
      "_model_module_version": "1.2.0",
      "_model_name": "LayoutModel",
      "_view_count": null,
      "_view_module": "@jupyter-widgets/base",
      "_view_module_version": "1.2.0",
      "_view_name": "LayoutView",
      "align_content": null,
      "align_items": null,
      "align_self": null,
      "border": null,
      "bottom": null,
      "display": null,
      "flex": null,
      "flex_flow": null,
      "grid_area": null,
      "grid_auto_columns": null,
      "grid_auto_flow": null,
      "grid_auto_rows": null,
      "grid_column": null,
      "grid_gap": null,
      "grid_row": null,
      "grid_template_areas": null,
      "grid_template_columns": null,
      "grid_template_rows": null,
      "height": null,
      "justify_content": null,
      "justify_items": null,
      "left": null,
      "margin": null,
      "max_height": null,
      "max_width": null,
      "min_height": null,
      "min_width": null,
      "object_fit": null,
      "object_position": null,
      "order": null,
      "overflow": null,
      "overflow_x": null,
      "overflow_y": null,
      "padding": null,
      "right": null,
      "top": null,
      "visibility": null,
      "width": null
     }
    },
    "e70ba931c99b477a85d00ba70bd126a3": {
     "model_module": "@jupyter-widgets/base",
     "model_module_version": "1.2.0",
     "model_name": "LayoutModel",
     "state": {
      "_model_module": "@jupyter-widgets/base",
      "_model_module_version": "1.2.0",
      "_model_name": "LayoutModel",
      "_view_count": null,
      "_view_module": "@jupyter-widgets/base",
      "_view_module_version": "1.2.0",
      "_view_name": "LayoutView",
      "align_content": null,
      "align_items": null,
      "align_self": null,
      "border": null,
      "bottom": null,
      "display": null,
      "flex": null,
      "flex_flow": null,
      "grid_area": null,
      "grid_auto_columns": null,
      "grid_auto_flow": null,
      "grid_auto_rows": null,
      "grid_column": null,
      "grid_gap": null,
      "grid_row": null,
      "grid_template_areas": null,
      "grid_template_columns": null,
      "grid_template_rows": null,
      "height": null,
      "justify_content": null,
      "justify_items": null,
      "left": null,
      "margin": null,
      "max_height": null,
      "max_width": null,
      "min_height": null,
      "min_width": null,
      "object_fit": null,
      "object_position": null,
      "order": null,
      "overflow": null,
      "overflow_x": null,
      "overflow_y": null,
      "padding": null,
      "right": null,
      "top": null,
      "visibility": null,
      "width": null
     }
    },
    "f06741b7a0554e2eb1e271489ab35bea": {
     "model_module": "@jupyter-widgets/controls",
     "model_module_version": "1.5.0",
     "model_name": "HTMLModel",
     "state": {
      "_dom_classes": [],
      "_model_module": "@jupyter-widgets/controls",
      "_model_module_version": "1.5.0",
      "_model_name": "HTMLModel",
      "_view_count": null,
      "_view_module": "@jupyter-widgets/controls",
      "_view_module_version": "1.5.0",
      "_view_name": "HTMLView",
      "description": "",
      "description_tooltip": null,
      "layout": "IPY_MODEL_0cb04f7378e24d42bc6cdfcc39342529",
      "placeholder": "​",
      "style": "IPY_MODEL_85868695b1d84a5d94df3734a709b823",
      "value": " 150/150 [00:00&lt;00:00, 20.9kB/s]"
     }
    },
    "f1105db9879d445f82b42d51b7116f04": {
     "model_module": "@jupyter-widgets/controls",
     "model_module_version": "1.5.0",
     "model_name": "HTMLModel",
     "state": {
      "_dom_classes": [],
      "_model_module": "@jupyter-widgets/controls",
      "_model_module_version": "1.5.0",
      "_model_name": "HTMLModel",
      "_view_count": null,
      "_view_module": "@jupyter-widgets/controls",
      "_view_module_version": "1.5.0",
      "_view_name": "HTMLView",
      "description": "",
      "description_tooltip": null,
      "layout": "IPY_MODEL_44a5f751a0de4bb59e073b445c285d06",
      "placeholder": "​",
      "style": "IPY_MODEL_20a478bfdd754dd7a3c25f32b7ad2cea",
      "value": "vocab.json: 100%"
     }
    },
    "fba74cc0304c423eb1fb0bee1a5dcbc1": {
     "model_module": "@jupyter-widgets/controls",
     "model_module_version": "1.5.0",
     "model_name": "HTMLModel",
     "state": {
      "_dom_classes": [],
      "_model_module": "@jupyter-widgets/controls",
      "_model_module_version": "1.5.0",
      "_model_name": "HTMLModel",
      "_view_count": null,
      "_view_module": "@jupyter-widgets/controls",
      "_view_module_version": "1.5.0",
      "_view_name": "HTMLView",
      "description": "",
      "description_tooltip": null,
      "layout": "IPY_MODEL_178dd95ba5ba4c29ae57b3c6f8884a52",
      "placeholder": "​",
      "style": "IPY_MODEL_e31e5b4ad8ac413ab6506e152b1564b3",
      "value": " 687/687 [00:00&lt;00:00, 89.4kB/s]"
     }
    },
    "fcb800f98dd24b9b88f82708ec2745ec": {
     "model_module": "@jupyter-widgets/base",
     "model_module_version": "1.2.0",
     "model_name": "LayoutModel",
     "state": {
      "_model_module": "@jupyter-widgets/base",
      "_model_module_version": "1.2.0",
      "_model_name": "LayoutModel",
      "_view_count": null,
      "_view_module": "@jupyter-widgets/base",
      "_view_module_version": "1.2.0",
      "_view_name": "LayoutView",
      "align_content": null,
      "align_items": null,
      "align_self": null,
      "border": null,
      "bottom": null,
      "display": null,
      "flex": null,
      "flex_flow": null,
      "grid_area": null,
      "grid_auto_columns": null,
      "grid_auto_flow": null,
      "grid_auto_rows": null,
      "grid_column": null,
      "grid_gap": null,
      "grid_row": null,
      "grid_template_areas": null,
      "grid_template_columns": null,
      "grid_template_rows": null,
      "height": null,
      "justify_content": null,
      "justify_items": null,
      "left": null,
      "margin": null,
      "max_height": null,
      "max_width": null,
      "min_height": null,
      "min_width": null,
      "object_fit": null,
      "object_position": null,
      "order": null,
      "overflow": null,
      "overflow_x": null,
      "overflow_y": null,
      "padding": null,
      "right": null,
      "top": null,
      "visibility": null,
      "width": null
     }
    },
    "fd68dd87eeee4da4b1068b9e2c6a6477": {
     "model_module": "@jupyter-widgets/controls",
     "model_module_version": "1.5.0",
     "model_name": "ProgressStyleModel",
     "state": {
      "_model_module": "@jupyter-widgets/controls",
      "_model_module_version": "1.5.0",
      "_model_name": "ProgressStyleModel",
      "_view_count": null,
      "_view_module": "@jupyter-widgets/base",
      "_view_module_version": "1.2.0",
      "_view_name": "StyleView",
      "bar_color": null,
      "description_width": ""
     }
    }
   }
  }
 },
 "nbformat": 4,
 "nbformat_minor": 5
}
