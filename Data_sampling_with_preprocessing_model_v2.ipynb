{
 "cells": [
  {
   "cell_type": "markdown",
   "id": "665b29c5-97b5-495b-af3c-581cd0ab55e1",
   "metadata": {},
   "source": [
    "# Sentiment Analysis of E-Commerce Product / Hotel Reviews\n",
    "\n",
    "We will use this publicly available dataset from Kaggle with 568,454 records:\n",
    "\n",
    "[Amazon Fine Food Reviews on Kaggle](https://www.kaggle.com/datasets/snap/amazon-fine-food-reviews/data)\n",
    "\n",
    "Reviews from Oct 1999 – Oct 2012:\n",
    "- 568,454 reviews\n",
    "- 256,059 users\n",
    "- 74,258 products\n",
    "- 260 users with more than 50 reviews\n",
    "\n",
    "views\r\n"
   ]
  },
  {
   "cell_type": "code",
   "execution_count": 5,
   "id": "a13a9058-1fe7-44ca-8470-037fbb07365f",
   "metadata": {},
   "outputs": [],
   "source": [
    "import pandas as pd"
   ]
  },
  {
   "cell_type": "markdown",
   "id": "8db1969a-0566-4803-b09c-ff6d1ad6cffd",
   "metadata": {},
   "source": [
    "### Loading Amazon Fine Food Reviews dataset. It has 568454 rows and 10 columns"
   ]
  },
  {
   "cell_type": "code",
   "execution_count": 8,
   "id": "b960b6f3-ce6a-4fbf-861d-7e8ebfde58ad",
   "metadata": {},
   "outputs": [
    {
     "data": {
      "text/html": [
       "<div>\n",
       "<style scoped>\n",
       "    .dataframe tbody tr th:only-of-type {\n",
       "        vertical-align: middle;\n",
       "    }\n",
       "\n",
       "    .dataframe tbody tr th {\n",
       "        vertical-align: top;\n",
       "    }\n",
       "\n",
       "    .dataframe thead th {\n",
       "        text-align: right;\n",
       "    }\n",
       "</style>\n",
       "<table border=\"1\" class=\"dataframe\">\n",
       "  <thead>\n",
       "    <tr style=\"text-align: right;\">\n",
       "      <th></th>\n",
       "      <th>Id</th>\n",
       "      <th>ProductId</th>\n",
       "      <th>UserId</th>\n",
       "      <th>ProfileName</th>\n",
       "      <th>HelpfulnessNumerator</th>\n",
       "      <th>HelpfulnessDenominator</th>\n",
       "      <th>Score</th>\n",
       "      <th>Time</th>\n",
       "      <th>Summary</th>\n",
       "      <th>Text</th>\n",
       "    </tr>\n",
       "  </thead>\n",
       "  <tbody>\n",
       "    <tr>\n",
       "      <th>0</th>\n",
       "      <td>1</td>\n",
       "      <td>B001E4KFG0</td>\n",
       "      <td>A3SGXH7AUHU8GW</td>\n",
       "      <td>delmartian</td>\n",
       "      <td>1</td>\n",
       "      <td>1</td>\n",
       "      <td>5</td>\n",
       "      <td>1303862400</td>\n",
       "      <td>Good Quality Dog Food</td>\n",
       "      <td>I have bought several of the Vitality canned d...</td>\n",
       "    </tr>\n",
       "    <tr>\n",
       "      <th>1</th>\n",
       "      <td>2</td>\n",
       "      <td>B00813GRG4</td>\n",
       "      <td>A1D87F6ZCVE5NK</td>\n",
       "      <td>dll pa</td>\n",
       "      <td>0</td>\n",
       "      <td>0</td>\n",
       "      <td>1</td>\n",
       "      <td>1346976000</td>\n",
       "      <td>Not as Advertised</td>\n",
       "      <td>Product arrived labeled as Jumbo Salted Peanut...</td>\n",
       "    </tr>\n",
       "    <tr>\n",
       "      <th>2</th>\n",
       "      <td>3</td>\n",
       "      <td>B000LQOCH0</td>\n",
       "      <td>ABXLMWJIXXAIN</td>\n",
       "      <td>Natalia Corres \"Natalia Corres\"</td>\n",
       "      <td>1</td>\n",
       "      <td>1</td>\n",
       "      <td>4</td>\n",
       "      <td>1219017600</td>\n",
       "      <td>\"Delight\" says it all</td>\n",
       "      <td>This is a confection that has been around a fe...</td>\n",
       "    </tr>\n",
       "    <tr>\n",
       "      <th>3</th>\n",
       "      <td>4</td>\n",
       "      <td>B000UA0QIQ</td>\n",
       "      <td>A395BORC6FGVXV</td>\n",
       "      <td>Karl</td>\n",
       "      <td>3</td>\n",
       "      <td>3</td>\n",
       "      <td>2</td>\n",
       "      <td>1307923200</td>\n",
       "      <td>Cough Medicine</td>\n",
       "      <td>If you are looking for the secret ingredient i...</td>\n",
       "    </tr>\n",
       "    <tr>\n",
       "      <th>4</th>\n",
       "      <td>5</td>\n",
       "      <td>B006K2ZZ7K</td>\n",
       "      <td>A1UQRSCLF8GW1T</td>\n",
       "      <td>Michael D. Bigham \"M. Wassir\"</td>\n",
       "      <td>0</td>\n",
       "      <td>0</td>\n",
       "      <td>5</td>\n",
       "      <td>1350777600</td>\n",
       "      <td>Great taffy</td>\n",
       "      <td>Great taffy at a great price.  There was a wid...</td>\n",
       "    </tr>\n",
       "  </tbody>\n",
       "</table>\n",
       "</div>"
      ],
      "text/plain": [
       "   Id   ProductId          UserId                      ProfileName  \\\n",
       "0   1  B001E4KFG0  A3SGXH7AUHU8GW                       delmartian   \n",
       "1   2  B00813GRG4  A1D87F6ZCVE5NK                           dll pa   \n",
       "2   3  B000LQOCH0   ABXLMWJIXXAIN  Natalia Corres \"Natalia Corres\"   \n",
       "3   4  B000UA0QIQ  A395BORC6FGVXV                             Karl   \n",
       "4   5  B006K2ZZ7K  A1UQRSCLF8GW1T    Michael D. Bigham \"M. Wassir\"   \n",
       "\n",
       "   HelpfulnessNumerator  HelpfulnessDenominator  Score        Time  \\\n",
       "0                     1                       1      5  1303862400   \n",
       "1                     0                       0      1  1346976000   \n",
       "2                     1                       1      4  1219017600   \n",
       "3                     3                       3      2  1307923200   \n",
       "4                     0                       0      5  1350777600   \n",
       "\n",
       "                 Summary                                               Text  \n",
       "0  Good Quality Dog Food  I have bought several of the Vitality canned d...  \n",
       "1      Not as Advertised  Product arrived labeled as Jumbo Salted Peanut...  \n",
       "2  \"Delight\" says it all  This is a confection that has been around a fe...  \n",
       "3         Cough Medicine  If you are looking for the secret ingredient i...  \n",
       "4            Great taffy  Great taffy at a great price.  There was a wid...  "
      ]
     },
     "execution_count": 8,
     "metadata": {},
     "output_type": "execute_result"
    }
   ],
   "source": [
    "df= pd.read_csv(\"Reviews.csv\")\n",
    "df.head()\n"
   ]
  },
  {
   "cell_type": "code",
   "execution_count": 9,
   "id": "df8bcd29-8398-49d7-a882-b22204de3145",
   "metadata": {},
   "outputs": [
    {
     "data": {
      "text/plain": [
       "(568454, 10)"
      ]
     },
     "execution_count": 9,
     "metadata": {},
     "output_type": "execute_result"
    }
   ],
   "source": [
    "df.shape"
   ]
  },
  {
   "cell_type": "markdown",
   "id": "e5aa04f2-5d13-40e7-8cd0-39224addb0f1",
   "metadata": {},
   "source": [
    "### Randomly selecting 50000 reviews from Amazon Fine Food Reviews dataset(df)"
   ]
  },
  {
   "cell_type": "code",
   "execution_count": 11,
   "id": "57d2b4d9-9f2c-4712-9c76-c584010802a5",
   "metadata": {},
   "outputs": [],
   "source": [
    "sampled_df = df.sample(n=50000, random_state= 42)\n",
    "sampled_df.to_csv(\"amazon_reviews_sampled.csv\", index= False)\n"
   ]
  },
  {
   "cell_type": "code",
   "execution_count": 12,
   "id": "db790679-f8fa-4651-bd79-27e345846d7c",
   "metadata": {},
   "outputs": [
    {
     "name": "stdout",
     "output_type": "stream",
     "text": [
      "(50000, 10)\n"
     ]
    }
   ],
   "source": [
    "print(sampled_df.shape)"
   ]
  },
  {
   "cell_type": "code",
   "execution_count": 13,
   "id": "d1a505a7-499e-4339-b41a-c76a071ebd42",
   "metadata": {},
   "outputs": [
    {
     "data": {
      "text/html": [
       "<div>\n",
       "<style scoped>\n",
       "    .dataframe tbody tr th:only-of-type {\n",
       "        vertical-align: middle;\n",
       "    }\n",
       "\n",
       "    .dataframe tbody tr th {\n",
       "        vertical-align: top;\n",
       "    }\n",
       "\n",
       "    .dataframe thead th {\n",
       "        text-align: right;\n",
       "    }\n",
       "</style>\n",
       "<table border=\"1\" class=\"dataframe\">\n",
       "  <thead>\n",
       "    <tr style=\"text-align: right;\">\n",
       "      <th></th>\n",
       "      <th>Id</th>\n",
       "      <th>ProductId</th>\n",
       "      <th>UserId</th>\n",
       "      <th>ProfileName</th>\n",
       "      <th>HelpfulnessNumerator</th>\n",
       "      <th>HelpfulnessDenominator</th>\n",
       "      <th>Score</th>\n",
       "      <th>Time</th>\n",
       "      <th>Summary</th>\n",
       "      <th>Text</th>\n",
       "    </tr>\n",
       "  </thead>\n",
       "  <tbody>\n",
       "    <tr>\n",
       "      <th>165256</th>\n",
       "      <td>165257</td>\n",
       "      <td>B000EVG8J2</td>\n",
       "      <td>A1L01D2BD3RKVO</td>\n",
       "      <td>B. Miller \"pet person\"</td>\n",
       "      <td>0</td>\n",
       "      <td>0</td>\n",
       "      <td>5</td>\n",
       "      <td>1268179200</td>\n",
       "      <td>Crunchy &amp; Good Gluten-Free Sandwich Cookies!</td>\n",
       "      <td>Having tried a couple of other brands of glute...</td>\n",
       "    </tr>\n",
       "    <tr>\n",
       "      <th>231465</th>\n",
       "      <td>231466</td>\n",
       "      <td>B0000BXJIS</td>\n",
       "      <td>A3U62RE5XZDP0G</td>\n",
       "      <td>Marty</td>\n",
       "      <td>0</td>\n",
       "      <td>0</td>\n",
       "      <td>5</td>\n",
       "      <td>1298937600</td>\n",
       "      <td>great kitty treats</td>\n",
       "      <td>My cat loves these treats. If ever I can't fin...</td>\n",
       "    </tr>\n",
       "    <tr>\n",
       "      <th>427827</th>\n",
       "      <td>427828</td>\n",
       "      <td>B008FHUFAU</td>\n",
       "      <td>AOXC0JQQZGGB6</td>\n",
       "      <td>Kenneth Shevlin</td>\n",
       "      <td>0</td>\n",
       "      <td>2</td>\n",
       "      <td>3</td>\n",
       "      <td>1224028800</td>\n",
       "      <td>COFFEE TASTE</td>\n",
       "      <td>A little less than I expected.  It tends to ha...</td>\n",
       "    </tr>\n",
       "    <tr>\n",
       "      <th>433954</th>\n",
       "      <td>433955</td>\n",
       "      <td>B006BXV14E</td>\n",
       "      <td>A3PWPNZVMNX3PA</td>\n",
       "      <td>rareoopdvds</td>\n",
       "      <td>0</td>\n",
       "      <td>1</td>\n",
       "      <td>2</td>\n",
       "      <td>1335312000</td>\n",
       "      <td>So the Mini-Wheats were too big?</td>\n",
       "      <td>First there was Frosted Mini-Wheats, in origin...</td>\n",
       "    </tr>\n",
       "    <tr>\n",
       "      <th>70260</th>\n",
       "      <td>70261</td>\n",
       "      <td>B007I7Z3Z0</td>\n",
       "      <td>A1XNZ7PCE45KK7</td>\n",
       "      <td>Og8ys1</td>\n",
       "      <td>0</td>\n",
       "      <td>2</td>\n",
       "      <td>5</td>\n",
       "      <td>1334707200</td>\n",
       "      <td>Great Taste . . .</td>\n",
       "      <td>and I want to congratulate the graphic artist ...</td>\n",
       "    </tr>\n",
       "  </tbody>\n",
       "</table>\n",
       "</div>"
      ],
      "text/plain": [
       "            Id   ProductId          UserId             ProfileName  \\\n",
       "165256  165257  B000EVG8J2  A1L01D2BD3RKVO  B. Miller \"pet person\"   \n",
       "231465  231466  B0000BXJIS  A3U62RE5XZDP0G                   Marty   \n",
       "427827  427828  B008FHUFAU   AOXC0JQQZGGB6         Kenneth Shevlin   \n",
       "433954  433955  B006BXV14E  A3PWPNZVMNX3PA             rareoopdvds   \n",
       "70260    70261  B007I7Z3Z0  A1XNZ7PCE45KK7                  Og8ys1   \n",
       "\n",
       "        HelpfulnessNumerator  HelpfulnessDenominator  Score        Time  \\\n",
       "165256                     0                       0      5  1268179200   \n",
       "231465                     0                       0      5  1298937600   \n",
       "427827                     0                       2      3  1224028800   \n",
       "433954                     0                       1      2  1335312000   \n",
       "70260                      0                       2      5  1334707200   \n",
       "\n",
       "                                             Summary  \\\n",
       "165256  Crunchy & Good Gluten-Free Sandwich Cookies!   \n",
       "231465                            great kitty treats   \n",
       "427827                                  COFFEE TASTE   \n",
       "433954              So the Mini-Wheats were too big?   \n",
       "70260                              Great Taste . . .   \n",
       "\n",
       "                                                     Text  \n",
       "165256  Having tried a couple of other brands of glute...  \n",
       "231465  My cat loves these treats. If ever I can't fin...  \n",
       "427827  A little less than I expected.  It tends to ha...  \n",
       "433954  First there was Frosted Mini-Wheats, in origin...  \n",
       "70260   and I want to congratulate the graphic artist ...  "
      ]
     },
     "execution_count": 13,
     "metadata": {},
     "output_type": "execute_result"
    }
   ],
   "source": [
    "sampled_df.head()"
   ]
  },
  {
   "cell_type": "code",
   "execution_count": 19,
   "id": "8d154aff-7d12-4d78-aeba-3983e37b3258",
   "metadata": {},
   "outputs": [
    {
     "data": {
      "text/plain": [
       "Id                        0\n",
       "ProductId                 0\n",
       "UserId                    0\n",
       "ProfileName               0\n",
       "HelpfulnessNumerator      0\n",
       "HelpfulnessDenominator    0\n",
       "Score                     0\n",
       "Time                      0\n",
       "Summary                   1\n",
       "Text                      0\n",
       "dtype: int64"
      ]
     },
     "execution_count": 19,
     "metadata": {},
     "output_type": "execute_result"
    }
   ],
   "source": [
    "sampled_df.isna().sum()"
   ]
  },
  {
   "cell_type": "code",
   "execution_count": 21,
   "id": "07458d9f-a6df-44bc-af4b-641ad12c77c6",
   "metadata": {},
   "outputs": [
    {
     "data": {
      "text/html": [
       "<div>\n",
       "<style scoped>\n",
       "    .dataframe tbody tr th:only-of-type {\n",
       "        vertical-align: middle;\n",
       "    }\n",
       "\n",
       "    .dataframe tbody tr th {\n",
       "        vertical-align: top;\n",
       "    }\n",
       "\n",
       "    .dataframe thead th {\n",
       "        text-align: right;\n",
       "    }\n",
       "</style>\n",
       "<table border=\"1\" class=\"dataframe\">\n",
       "  <thead>\n",
       "    <tr style=\"text-align: right;\">\n",
       "      <th></th>\n",
       "      <th>Id</th>\n",
       "      <th>ProductId</th>\n",
       "      <th>UserId</th>\n",
       "      <th>ProfileName</th>\n",
       "      <th>HelpfulnessNumerator</th>\n",
       "      <th>HelpfulnessDenominator</th>\n",
       "      <th>Score</th>\n",
       "      <th>Time</th>\n",
       "      <th>Summary</th>\n",
       "      <th>Text</th>\n",
       "    </tr>\n",
       "  </thead>\n",
       "  <tbody>\n",
       "    <tr>\n",
       "      <th>178290</th>\n",
       "      <td>178291</td>\n",
       "      <td>B00073IVAQ</td>\n",
       "      <td>A3TJPSWY2HE4BS</td>\n",
       "      <td>S. Layton \"homeschool blogger\"</td>\n",
       "      <td>1</td>\n",
       "      <td>24</td>\n",
       "      <td>2</td>\n",
       "      <td>1173312000</td>\n",
       "      <td>NaN</td>\n",
       "      <td>I only used two maybe three tea bags and got p...</td>\n",
       "    </tr>\n",
       "  </tbody>\n",
       "</table>\n",
       "</div>"
      ],
      "text/plain": [
       "            Id   ProductId          UserId                     ProfileName  \\\n",
       "178290  178291  B00073IVAQ  A3TJPSWY2HE4BS  S. Layton \"homeschool blogger\"   \n",
       "\n",
       "        HelpfulnessNumerator  HelpfulnessDenominator  Score        Time  \\\n",
       "178290                     1                      24      2  1173312000   \n",
       "\n",
       "       Summary                                               Text  \n",
       "178290     NaN  I only used two maybe three tea bags and got p...  "
      ]
     },
     "execution_count": 21,
     "metadata": {},
     "output_type": "execute_result"
    }
   ],
   "source": [
    "(sampled_df[sampled_df['Summary'].isna()])\n"
   ]
  },
  {
   "cell_type": "code",
   "execution_count": 23,
   "id": "d05790c2-d5e2-4ec6-b88d-25cece354a80",
   "metadata": {},
   "outputs": [
    {
     "name": "stdout",
     "output_type": "stream",
     "text": [
      "0\n"
     ]
    },
    {
     "data": {
      "text/plain": [
       "165256    False\n",
       "231465    False\n",
       "427827    False\n",
       "433954    False\n",
       "70260     False\n",
       "          ...  \n",
       "195700    False\n",
       "96605     False\n",
       "151335    False\n",
       "479997    False\n",
       "469239    False\n",
       "Length: 50000, dtype: bool"
      ]
     },
     "execution_count": 23,
     "metadata": {},
     "output_type": "execute_result"
    }
   ],
   "source": [
    "duplicates = sampled_df.duplicated()\n",
    "print(duplicates.sum())\n",
    "duplicates"
   ]
  },
  {
   "cell_type": "code",
   "execution_count": 25,
   "id": "e95e8edd-e705-4fb0-93d3-b246b9baae0c",
   "metadata": {},
   "outputs": [
    {
     "data": {
      "text/plain": [
       "(50000, 10)"
      ]
     },
     "execution_count": 25,
     "metadata": {},
     "output_type": "execute_result"
    }
   ],
   "source": [
    "sampled_df.shape"
   ]
  },
  {
   "cell_type": "markdown",
   "id": "eb4fe5db-13dd-4a27-822f-6cbafc3bd9e7",
   "metadata": {},
   "source": [
    "# Preprocessing\n",
    "\n",
    "Check for missing, duplicate, and formatting issues."
   ]
  },
  {
   "cell_type": "code",
   "execution_count": 28,
   "id": "fa84ad6c-b7c7-4edc-8a5b-19c787a93219",
   "metadata": {},
   "outputs": [
    {
     "name": "stdout",
     "output_type": "stream",
     "text": [
      "Id                        0\n",
      "ProductId                 0\n",
      "UserId                    0\n",
      "ProfileName               0\n",
      "HelpfulnessNumerator      0\n",
      "HelpfulnessDenominator    0\n",
      "Score                     0\n",
      "Time                      0\n",
      "Summary                   1\n",
      "Text                      0\n",
      "dtype: int64\n"
     ]
    },
    {
     "data": {
      "text/html": [
       "<div>\n",
       "<style scoped>\n",
       "    .dataframe tbody tr th:only-of-type {\n",
       "        vertical-align: middle;\n",
       "    }\n",
       "\n",
       "    .dataframe tbody tr th {\n",
       "        vertical-align: top;\n",
       "    }\n",
       "\n",
       "    .dataframe thead th {\n",
       "        text-align: right;\n",
       "    }\n",
       "</style>\n",
       "<table border=\"1\" class=\"dataframe\">\n",
       "  <thead>\n",
       "    <tr style=\"text-align: right;\">\n",
       "      <th></th>\n",
       "      <th>Id</th>\n",
       "      <th>ProductId</th>\n",
       "      <th>UserId</th>\n",
       "      <th>ProfileName</th>\n",
       "      <th>HelpfulnessNumerator</th>\n",
       "      <th>HelpfulnessDenominator</th>\n",
       "      <th>Score</th>\n",
       "      <th>Time</th>\n",
       "      <th>Summary</th>\n",
       "      <th>Text</th>\n",
       "    </tr>\n",
       "  </thead>\n",
       "  <tbody>\n",
       "    <tr>\n",
       "      <th>178290</th>\n",
       "      <td>178291</td>\n",
       "      <td>B00073IVAQ</td>\n",
       "      <td>A3TJPSWY2HE4BS</td>\n",
       "      <td>S. Layton \"homeschool blogger\"</td>\n",
       "      <td>1</td>\n",
       "      <td>24</td>\n",
       "      <td>2</td>\n",
       "      <td>1173312000</td>\n",
       "      <td>NaN</td>\n",
       "      <td>I only used two maybe three tea bags and got p...</td>\n",
       "    </tr>\n",
       "  </tbody>\n",
       "</table>\n",
       "</div>"
      ],
      "text/plain": [
       "            Id   ProductId          UserId                     ProfileName  \\\n",
       "178290  178291  B00073IVAQ  A3TJPSWY2HE4BS  S. Layton \"homeschool blogger\"   \n",
       "\n",
       "        HelpfulnessNumerator  HelpfulnessDenominator  Score        Time  \\\n",
       "178290                     1                      24      2  1173312000   \n",
       "\n",
       "       Summary                                               Text  \n",
       "178290     NaN  I only used two maybe three tea bags and got p...  "
      ]
     },
     "execution_count": 28,
     "metadata": {},
     "output_type": "execute_result"
    }
   ],
   "source": [
    "print(sampled_df.isnull().sum())\n",
    "sampled_df[sampled_df.isnull().any(axis=1)]"
   ]
  },
  {
   "cell_type": "markdown",
   "id": "a07423ff-c871-4c26-9dd0-d6acf0fb8cfd",
   "metadata": {},
   "source": [
    "What to do with Summary that is NaN?\n",
    "Drop rows with missing data or fill with mean or median value"
   ]
  },
  {
   "cell_type": "code",
   "execution_count": 31,
   "id": "b6460a0c-49a0-43d3-806a-9d0d9823d82b",
   "metadata": {},
   "outputs": [
    {
     "name": "stdout",
     "output_type": "stream",
     "text": [
      "<class 'pandas.core.frame.DataFrame'>\n",
      "Index: 49999 entries, 165256 to 469239\n",
      "Data columns (total 10 columns):\n",
      " #   Column                  Non-Null Count  Dtype \n",
      "---  ------                  --------------  ----- \n",
      " 0   Id                      49999 non-null  int64 \n",
      " 1   ProductId               49999 non-null  object\n",
      " 2   UserId                  49999 non-null  object\n",
      " 3   ProfileName             49999 non-null  object\n",
      " 4   HelpfulnessNumerator    49999 non-null  int64 \n",
      " 5   HelpfulnessDenominator  49999 non-null  int64 \n",
      " 6   Score                   49999 non-null  int64 \n",
      " 7   Time                    49999 non-null  int64 \n",
      " 8   Summary                 49999 non-null  object\n",
      " 9   Text                    49999 non-null  object\n",
      "dtypes: int64(5), object(5)\n",
      "memory usage: 4.2+ MB\n"
     ]
    }
   ],
   "source": [
    "sampled_df.dropna(subset=[\"Summary\"], inplace=True)\n",
    "sampled_df.info()\n"
   ]
  },
  {
   "cell_type": "code",
   "execution_count": 33,
   "id": "59e720bc-b3d5-4367-a5ce-028f4a8e4b51",
   "metadata": {},
   "outputs": [
    {
     "name": "stdout",
     "output_type": "stream",
     "text": [
      "Empty DataFrame\n",
      "Columns: [Id, ProductId, UserId, ProfileName, HelpfulnessNumerator, HelpfulnessDenominator, Score, Time, Summary, Text]\n",
      "Index: []\n"
     ]
    }
   ],
   "source": [
    "invalid_score = sampled_df[(sampled_df[\"Score\"] < 1) | (sampled_df[\"Score\"] > 5)]\n",
    "print(invalid_score)"
   ]
  },
  {
   "cell_type": "markdown",
   "id": "0aa8ecab-a411-46e5-9e69-979f3c4b677f",
   "metadata": {},
   "source": [
    "Check Time is from Oct 1999 - Oct 2012:\n",
    "- October 1, 1999 at 00:00:00 UTC → 938736000\n",
    "- November 1, 2012 at 00:00:00 UTC → 1351728000"
   ]
  },
  {
   "cell_type": "code",
   "execution_count": 36,
   "id": "532c33b4-f7e7-4662-bc21-b6a5fd84d1a6",
   "metadata": {},
   "outputs": [
    {
     "name": "stdout",
     "output_type": "stream",
     "text": [
      "Empty DataFrame\n",
      "Columns: [Id, ProductId, UserId, ProfileName, HelpfulnessNumerator, HelpfulnessDenominator, Score, Time, Summary, Text]\n",
      "Index: []\n"
     ]
    }
   ],
   "source": [
    "invalid_date = sampled_df[(sampled_df[\"Time\"] < 938736000) | (sampled_df[\"Time\"] > 1351728000)]\n",
    "print(invalid_date)"
   ]
  },
  {
   "cell_type": "markdown",
   "id": "7f48ae76-87a2-4ae0-88d1-4463936eaa02",
   "metadata": {},
   "source": [
    "# Naive Bayes Classifier from nltk"
   ]
  },
  {
   "cell_type": "code",
   "execution_count": 49,
   "id": "6ffe4066-d5f1-4dae-b99a-d5f50fe65cd5",
   "metadata": {},
   "outputs": [],
   "source": [
    "import nltk\n",
    "from nltk.classify import NaiveBayesClassifier\n",
    "from nltk.corpus import subjectivity\n",
    "from nltk.sentiment import SentimentAnalyzer\n",
    "from nltk.sentiment.util import *\n",
    "from nltk.tokenize import word_tokenize\n"
   ]
  },
  {
   "cell_type": "code",
   "execution_count": 24,
   "id": "6dfd0bdc-75f2-4657-a563-c88856b47422",
   "metadata": {},
   "outputs": [
    {
     "data": {
      "text/plain": [
       "4.191443828876578"
      ]
     },
     "execution_count": 24,
     "metadata": {},
     "output_type": "execute_result"
    }
   ],
   "source": [
    "sampled_df[\"Score\"].mean()\n",
    "#sampled_df[\"Score\"].median()"
   ]
  },
  {
   "cell_type": "code",
   "execution_count": 25,
   "id": "f150a5d4-2c2a-4f11-adcf-587c27b11bd5",
   "metadata": {},
   "outputs": [
    {
     "name": "stdout",
     "output_type": "stream",
     "text": [
      "39999\n",
      "10000\n",
      "25737\n",
      "14262\n"
     ]
    }
   ],
   "source": [
    "# Label the reviews: Score == 5 -> positive, Score < 5 -> negative\n",
    "sampled_df['label'] = sampled_df['Score'].apply(lambda x: 'positive' if x == 5 else 'negative')\n",
    "\n",
    "train_df = sampled_df.sample(frac=0.8, random_state=42)\n",
    "print(len(train_df))\n",
    "test_df = sampled_df.drop(train_df.index)\n",
    "print(len(test_df))\n",
    "print(len(train_df[train_df['label']=='positive']))\n",
    "print(len(train_df[train_df['label']=='negative']))\n"
   ]
  },
  {
   "cell_type": "code",
   "execution_count": 26,
   "id": "98e68076-273c-4a8d-a321-facb78732419",
   "metadata": {},
   "outputs": [],
   "source": [
    "# Create document lists as (review_text, label) pairs\n",
    "train_docs = list(zip(train_df['Text'], train_df['label']))\n",
    "test_docs = list(zip(test_df['Text'], test_df['label']))\n",
    "\n",
    "# Initialize the SentimentAnalyzer\n",
    "sentim_analyzer = SentimentAnalyzer()"
   ]
  },
  {
   "cell_type": "code",
   "execution_count": 27,
   "id": "6f731c67-a33e-49f8-b6f0-a945d47053b0",
   "metadata": {},
   "outputs": [],
   "source": [
    "# Build a list of all words from the training data\n",
    "all_words = []\n",
    "for review, _ in train_docs:\n",
    "    tokens = word_tokenize(review)\n",
    "    all_words.extend(tokens)\n",
    "\n",
    "# Create unigram features with a minimum frequency threshold\n",
    "unigram_feats = sentim_analyzer.unigram_word_feats(all_words, min_freq=5) # testing\n",
    "\n",
    "# Add the unigram feature extractor to the analyzer using NLTK's utility function\n",
    "sentim_analyzer.add_feat_extractor(extract_unigram_feats, unigrams=unigram_feats)\n"
   ]
  },
  {
   "cell_type": "code",
   "execution_count": 28,
   "id": "0d3cdbaa-ea55-40d9-a562-233fe529f00f",
   "metadata": {},
   "outputs": [],
   "source": [
    "# Convert the raw documents into feature sets\n",
    "training_set = sentim_analyzer.apply_features(train_docs)\n",
    "test_set = sentim_analyzer.apply_features(test_docs)"
   ]
  },
  {
   "cell_type": "code",
   "execution_count": null,
   "id": "7facf49e-cd2d-4e14-87fb-23fe98c76865",
   "metadata": {},
   "outputs": [],
   "source": [
    "# Train the Naive Bayes Classifier using the training feature set\n",
    "classifier = NaiveBayesClassifier.train(training_set)\n",
    "\n",
    "# Evaluate the classifier on the test set\n",
    "accuracy = nltk.classify.accuracy(classifier, test_set)\n",
    "print(\"Accuracy:\", accuracy)\n",
    "\n",
    "# Display the 10 most informative features\n",
    "classifier.show_most_informative_features(10)"
   ]
  },
  {
   "cell_type": "code",
   "execution_count": null,
   "id": "590e18b2-92a1-48a1-9e5d-830dd116a05b",
   "metadata": {},
   "outputs": [],
   "source": [
    "from sklearn.metrics import classification_report\n",
    "\n",
    "# Get predicted labels\n",
    "true_labels = [label for (_, label) in test_docs]  # Actual labels\n",
    "predicted_labels = [classifier.classify(feats) for (feats, label) in test_set]  # Predicted labels\n",
    "\n",
    "# Compute precision, recall, f1-score, and support\n",
    "print(classification_report(true_labels, predicted_labels))\n"
   ]
  },
  {
   "cell_type": "markdown",
   "id": "b4cab518-0a1f-485d-85f1-b284ab1fbd1c",
   "metadata": {},
   "source": [
    "### Try again with 1,2,3 Negative and 4,5 Positive cutoff"
   ]
  },
  {
   "cell_type": "code",
   "execution_count": null,
   "id": "239d4a6d-eb92-4aa5-8be6-873e8bdc1576",
   "metadata": {},
   "outputs": [],
   "source": [
    "# Label the reviews: Score >= 4 -> positive, Score < 4 -> negative\n",
    "sampled_df['label'] = sampled_df['Score'].apply(lambda x: 'positive' if x >= 4 else 'negative')\n",
    "\n",
    "train_df = sampled_df.sample(frac=0.8, random_state=42)\n",
    "print(len(train_df))\n",
    "test_df = sampled_df.drop(train_df.index)\n",
    "print(len(test_df))\n",
    "print(len(train_df[train_df['label']=='positive']))\n",
    "print(len(train_df[train_df['label']=='negative']))"
   ]
  },
  {
   "cell_type": "code",
   "execution_count": null,
   "id": "eb630f22-9cfb-4f52-9e0d-9fd71b156da6",
   "metadata": {},
   "outputs": [],
   "source": [
    "# Create document lists as (review_text, label) pairs\n",
    "train_docs = list(zip(train_df['Text'], train_df['label']))\n",
    "test_docs = list(zip(test_df['Text'], test_df['label']))\n",
    "\n",
    "# Initialize the SentimentAnalyzer\n",
    "sentim_analyzer = SentimentAnalyzer()"
   ]
  },
  {
   "cell_type": "code",
   "execution_count": null,
   "id": "4ab838fb-46af-4d3c-97af-92417ac5a0f4",
   "metadata": {},
   "outputs": [],
   "source": [
    "# Build a list of all words from the training data\n",
    "all_words = []\n",
    "for review, _ in train_docs:\n",
    "    tokens = word_tokenize(review)\n",
    "    all_words.extend(tokens)\n",
    "\n",
    "# Create unigram features with a minimum frequency threshold\n",
    "unigram_feats = sentim_analyzer.unigram_word_feats(all_words, min_freq=6) # testing\n",
    "\n",
    "# Add the unigram feature extractor to the analyzer using NLTK's utility function\n",
    "sentim_analyzer.add_feat_extractor(extract_unigram_feats, unigrams=unigram_feats)"
   ]
  },
  {
   "cell_type": "code",
   "execution_count": null,
   "id": "cd99f088-e2fe-41e3-a9cd-97d227ecb3ae",
   "metadata": {},
   "outputs": [],
   "source": [
    "# Convert the raw documents into feature sets\n",
    "training_set = sentim_analyzer.apply_features(train_docs)\n",
    "test_set = sentim_analyzer.apply_features(test_docs)"
   ]
  },
  {
   "cell_type": "code",
   "execution_count": null,
   "id": "c4b6dc5f-c3a3-4f3c-943a-e09bcfe8b29c",
   "metadata": {},
   "outputs": [],
   "source": [
    "# Train the Naive Bayes Classifier using the training feature set\n",
    "classifier = NaiveBayesClassifier.train(training_set)\n",
    "\n",
    "# Evaluate the classifier on the test set\n",
    "accuracy = nltk.classify.accuracy(classifier, test_set)\n",
    "print(\"Accuracy:\", accuracy)\n",
    "\n",
    "# Display the 10 most informative features\n",
    "classifier.show_most_informative_features(10)"
   ]
  },
  {
   "cell_type": "code",
   "execution_count": null,
   "id": "47078364-c96c-4a1e-b7ff-ae052d2978b3",
   "metadata": {},
   "outputs": [],
   "source": [
    "# Get predicted labels\n",
    "true_labels = [label for (_, label) in test_docs]  # Actual labels\n",
    "predicted_labels = [classifier.classify(feats) for (feats, label) in test_set]  # Predicted labels\n",
    "\n",
    "# Compute precision, recall, f1-score, and support\n",
    "print(classification_report(true_labels, predicted_labels))\n"
   ]
  },
  {
   "cell_type": "markdown",
   "id": "a4fce464-25e6-4977-b8a0-29f2d68267a1",
   "metadata": {},
   "source": [
    "The NaiveBayesClassifier in NLTK and the MultinomialNB model in scikit-learn are both Naïve Bayes classifiers, but we found out that the two have different algorithms:\n",
    "https://stackoverflow.com/questions/10407266/scikits-learn-and-nltk-naive-bayes-classifier-performance-highly-different\n",
    "1. Core Algorithm\n",
    "- NLTK’s NaiveBayesClassifier: Uses a simple frequency-based approach, where it counts occurrences of features (words) in training data and calculates conditional probabilities using Laplace smoothing.\n",
    "- scikit-learn’s MultinomialNB: Uses a multinomial distribution model, where it assumes that features (e.g., word counts in text classification) follow a multinomial distribution. This is more suited for discrete feature counts, like term frequency in NLP.\n",
    "2. Feature Representation\n",
    "- NLTK’s NaiveBayesClassifier: Works with feature dictionaries, meaning you have to represent input data as a dictionary of features ({'word1': True, 'word2': False, ...}).\n",
    "- scikit-learn’s MultinomialNB: Works with numerical arrays, usually TF or TF-IDF values, meaning data needs to be vectorized using CountVectorizer or TfidfVectorizer.\n",
    "3. Implementation & Flexibility\n",
    "* NLTK’s NaiveBayesClassifier:\n",
    "    - Simpler and more intuitive for teaching and small NLP projects.\n",
    "    - Supports categorical feature values (like True/False instead of counts).\n",
    "    - More transparent; you can inspect probabilities for each feature.\n",
    "* scikit-learn’s MultinomialNB:\n",
    "    - More efficient and optimized for large datasets.\n",
    "    - Works well with sparse matrices (e.g., term frequency vectors).\n",
    "    - Supports smoothing parameter alpha to handle zero-frequency issues.\n",
    "4. Performance & Use Cases\n",
    "* NLTK’s NaiveBayesClassifier:\n",
    "    - Best for small, educational, or prototype projects.\n",
    "    - Easier to inspect and explain results.\n",
    "* scikit-learn’s MultinomialNB:\n",
    "    - More suitable for large-scale NLP tasks like spam filtering, sentiment analysis, or document classification.\n",
    "    - Faster due to its optimized implementation using NumPy."
   ]
  },
  {
   "cell_type": "markdown",
   "id": "5df7ac1e-11f2-4f67-9b9b-c607d694c0ba",
   "metadata": {},
   "source": [
    "# MulinomialNB model from scikit-learn"
   ]
  },
  {
   "cell_type": "code",
   "execution_count": 38,
   "id": "fa566851-dc87-4965-ae15-ac918fd6b967",
   "metadata": {},
   "outputs": [],
   "source": [
    "from sklearn.feature_extraction.text import TfidfVectorizer\n",
    "from sklearn.model_selection import train_test_split\n",
    "from sklearn.naive_bayes import MultinomialNB\n",
    "from sklearn.metrics import accuracy_score, classification_report, confusion_matrix\n",
    "import seaborn as sns\n",
    "import matplotlib.pyplot as plt\n",
    "from nltk.corpus import stopwords"
   ]
  },
  {
   "cell_type": "code",
   "execution_count": 40,
   "id": "d352fbfb-5a36-4806-b12f-24d5157775dd",
   "metadata": {},
   "outputs": [
    {
     "data": {
      "text/plain": [
       "\"My cat loves these treats. If ever I can't find her in the house, I just pop the top and she bolts out of wherever she was hiding to come get a treat. She doesn't like crunchy treats much, so these are perfect for her. I've given her all three flavors and she seems to like them all equally. They do tend to dry out by the time I near the end of the bottle, however. The flip-top lid is very handy. Very nice, inexpensive kitty treats. I have yet to meet a cat that doesn't just love these!\""
      ]
     },
     "execution_count": 40,
     "metadata": {},
     "output_type": "execute_result"
    }
   ],
   "source": [
    "sampled_df.iloc[1]['Text']"
   ]
  },
  {
   "cell_type": "code",
   "execution_count": 42,
   "id": "3ae1322c-2aaa-453a-b5ae-b043f812b03a",
   "metadata": {},
   "outputs": [],
   "source": [
    "## Create a copy of sampled_df\n",
    "df = sampled_df.copy()"
   ]
  },
  {
   "cell_type": "markdown",
   "id": "949dcbd4-ba21-4674-b485-0b7c6c090c27",
   "metadata": {},
   "source": [
    "### Cutoff Score = 5 as positive and less than 5 as negative"
   ]
  },
  {
   "cell_type": "code",
   "execution_count": 45,
   "id": "92a6fcab-5b14-401a-aeb0-39e0e3b1faf6",
   "metadata": {},
   "outputs": [],
   "source": [
    "## Combine columns Summary and Text\n",
    "df['Combined_Text'] = df['Summary'] + \" \" + df['Text']  # Use both columns\n",
    "\n",
    "\n",
    "# Convert 'Score' to binary sentiment (1 = Positive, 0 = Negative)\n",
    "df['Sentiment'] = df['Score'].apply(lambda x: 'positive' if x == 5 else 'negative')"
   ]
  },
  {
   "cell_type": "code",
   "execution_count": 51,
   "id": "a54cf4a3-4383-40e9-a020-163e54adb3a2",
   "metadata": {},
   "outputs": [
    {
     "name": "stderr",
     "output_type": "stream",
     "text": [
      "[nltk_data] Downloading package stopwords to\n",
      "[nltk_data]     /Users/kaushikshingne/nltk_data...\n",
      "[nltk_data]   Package stopwords is already up-to-date!\n",
      "[nltk_data] Downloading package punkt to\n",
      "[nltk_data]     /Users/kaushikshingne/nltk_data...\n",
      "[nltk_data]   Package punkt is already up-to-date!\n"
     ]
    }
   ],
   "source": [
    "## Download NLTK stopwords\n",
    "nltk.download('stopwords')\n",
    "nltk.download('punkt')\n",
    "stop_words = set(stopwords.words('english'))"
   ]
  },
  {
   "cell_type": "code",
   "execution_count": 53,
   "id": "d18d87dd-7e75-4ed1-8ea5-2b20a195de4d",
   "metadata": {},
   "outputs": [],
   "source": [
    "## Text preprocessing function\n",
    "def clean_text(text):\n",
    "    text = text.lower()\n",
    "    text =re.sub(r'\\W', ' ', text)\n",
    "    text = re.sub(r'\\s+', ' ', text)  \n",
    "    text = ''.join([word for word in word_tokenize(text) if word not in stop_words])\n",
    "    return text\n"
   ]
  },
  {
   "cell_type": "code",
   "execution_count": 55,
   "id": "461d035c-13cb-4924-a156-eb1a34c32f04",
   "metadata": {},
   "outputs": [],
   "source": [
    "# Apply preprocessing to combined text\n",
    "df['Combined_Text']=  df['Combined_Text'].apply(clean_text)"
   ]
  },
  {
   "cell_type": "code",
   "execution_count": 56,
   "id": "0d48f1d1-b30f-4ad9-9e46-8c047c4ae1f3",
   "metadata": {},
   "outputs": [
    {
     "data": {
      "text/html": [
       "<style>#sk-container-id-1 {color: black;background-color: white;}#sk-container-id-1 pre{padding: 0;}#sk-container-id-1 div.sk-toggleable {background-color: white;}#sk-container-id-1 label.sk-toggleable__label {cursor: pointer;display: block;width: 100%;margin-bottom: 0;padding: 0.3em;box-sizing: border-box;text-align: center;}#sk-container-id-1 label.sk-toggleable__label-arrow:before {content: \"▸\";float: left;margin-right: 0.25em;color: #696969;}#sk-container-id-1 label.sk-toggleable__label-arrow:hover:before {color: black;}#sk-container-id-1 div.sk-estimator:hover label.sk-toggleable__label-arrow:before {color: black;}#sk-container-id-1 div.sk-toggleable__content {max-height: 0;max-width: 0;overflow: hidden;text-align: left;background-color: #f0f8ff;}#sk-container-id-1 div.sk-toggleable__content pre {margin: 0.2em;color: black;border-radius: 0.25em;background-color: #f0f8ff;}#sk-container-id-1 input.sk-toggleable__control:checked~div.sk-toggleable__content {max-height: 200px;max-width: 100%;overflow: auto;}#sk-container-id-1 input.sk-toggleable__control:checked~label.sk-toggleable__label-arrow:before {content: \"▾\";}#sk-container-id-1 div.sk-estimator input.sk-toggleable__control:checked~label.sk-toggleable__label {background-color: #d4ebff;}#sk-container-id-1 div.sk-label input.sk-toggleable__control:checked~label.sk-toggleable__label {background-color: #d4ebff;}#sk-container-id-1 input.sk-hidden--visually {border: 0;clip: rect(1px 1px 1px 1px);clip: rect(1px, 1px, 1px, 1px);height: 1px;margin: -1px;overflow: hidden;padding: 0;position: absolute;width: 1px;}#sk-container-id-1 div.sk-estimator {font-family: monospace;background-color: #f0f8ff;border: 1px dotted black;border-radius: 0.25em;box-sizing: border-box;margin-bottom: 0.5em;}#sk-container-id-1 div.sk-estimator:hover {background-color: #d4ebff;}#sk-container-id-1 div.sk-parallel-item::after {content: \"\";width: 100%;border-bottom: 1px solid gray;flex-grow: 1;}#sk-container-id-1 div.sk-label:hover label.sk-toggleable__label {background-color: #d4ebff;}#sk-container-id-1 div.sk-serial::before {content: \"\";position: absolute;border-left: 1px solid gray;box-sizing: border-box;top: 0;bottom: 0;left: 50%;z-index: 0;}#sk-container-id-1 div.sk-serial {display: flex;flex-direction: column;align-items: center;background-color: white;padding-right: 0.2em;padding-left: 0.2em;position: relative;}#sk-container-id-1 div.sk-item {position: relative;z-index: 1;}#sk-container-id-1 div.sk-parallel {display: flex;align-items: stretch;justify-content: center;background-color: white;position: relative;}#sk-container-id-1 div.sk-item::before, #sk-container-id-1 div.sk-parallel-item::before {content: \"\";position: absolute;border-left: 1px solid gray;box-sizing: border-box;top: 0;bottom: 0;left: 50%;z-index: -1;}#sk-container-id-1 div.sk-parallel-item {display: flex;flex-direction: column;z-index: 1;position: relative;background-color: white;}#sk-container-id-1 div.sk-parallel-item:first-child::after {align-self: flex-end;width: 50%;}#sk-container-id-1 div.sk-parallel-item:last-child::after {align-self: flex-start;width: 50%;}#sk-container-id-1 div.sk-parallel-item:only-child::after {width: 0;}#sk-container-id-1 div.sk-dashed-wrapped {border: 1px dashed gray;margin: 0 0.4em 0.5em 0.4em;box-sizing: border-box;padding-bottom: 0.4em;background-color: white;}#sk-container-id-1 div.sk-label label {font-family: monospace;font-weight: bold;display: inline-block;line-height: 1.2em;}#sk-container-id-1 div.sk-label-container {text-align: center;}#sk-container-id-1 div.sk-container {/* jupyter's `normalize.less` sets `[hidden] { display: none; }` but bootstrap.min.css set `[hidden] { display: none !important; }` so we also need the `!important` here to be able to override the default hidden behavior on the sphinx rendered scikit-learn.org. See: https://github.com/scikit-learn/scikit-learn/issues/21755 */display: inline-block !important;position: relative;}#sk-container-id-1 div.sk-text-repr-fallback {display: none;}</style><div id=\"sk-container-id-1\" class=\"sk-top-container\"><div class=\"sk-text-repr-fallback\"><pre>MultinomialNB()</pre><b>In a Jupyter environment, please rerun this cell to show the HTML representation or trust the notebook. <br />On GitHub, the HTML representation is unable to render, please try loading this page with nbviewer.org.</b></div><div class=\"sk-container\" hidden><div class=\"sk-item\"><div class=\"sk-estimator sk-toggleable\"><input class=\"sk-toggleable__control sk-hidden--visually\" id=\"sk-estimator-id-1\" type=\"checkbox\" checked><label for=\"sk-estimator-id-1\" class=\"sk-toggleable__label sk-toggleable__label-arrow\">MultinomialNB</label><div class=\"sk-toggleable__content\"><pre>MultinomialNB()</pre></div></div></div></div></div>"
      ],
      "text/plain": [
       "MultinomialNB()"
      ]
     },
     "execution_count": 56,
     "metadata": {},
     "output_type": "execute_result"
    }
   ],
   "source": [
    "\n",
    "# Split the original DataFrame into training and testing sets\n",
    "df_train, df_test = train_test_split(df, test_size=0.2, random_state=42)\n",
    "\n",
    "# Now split out the text and sentiment labels for the test set\n",
    "X_train_text = df_train['Combined_Text']\n",
    "X_test_text = df_test['Combined_Text']\n",
    "y_train = df_train['Sentiment']\n",
    "y_test = df_test['Sentiment']\n",
    "\n",
    "\n",
    "# Then, transform the text using TF-IDF\n",
    "from sklearn.feature_extraction.text import TfidfVectorizer\n",
    "\n",
    "vectorizer = TfidfVectorizer(ngram_range=(1,2), max_features=5000)\n",
    "X_train = vectorizer.fit_transform(X_train_text)\n",
    "X_test = vectorizer.transform(X_test_text)\n",
    "\n",
    "# Train Naïve Bayes Classifier\n",
    "nb_model = MultinomialNB()\n",
    "nb_model.fit(X_train, y_train)\n"
   ]
  },
  {
   "cell_type": "code",
   "execution_count": 57,
   "id": "376bfa09-ae6e-4407-b44a-127608e3a43a",
   "metadata": {},
   "outputs": [
    {
     "name": "stdout",
     "output_type": "stream",
     "text": [
      "                                                   Review    Actual Predicted\n",
      "565044  greattastingcerealpurchasedcerealwantedgetsome...  negative  positive\n",
      "111399  easymakeveganproductsexceptallergensniceproduc...  negative  positive\n",
      "161245  dogslovegotthinkingchubbylildogmightbenifittre...  negative  positive\n",
      "358689  stepwrongdirectiondrinkingcoconutwateryearstri...  negative  positive\n",
      "6622    niceblendsweetoverlycarbonatedbestdescribedgoo...  negative  positive\n",
      "507098  nutthinspricehappyshipmentnutthinsnoticeprices...  negative  positive\n",
      "465946  runtsgotorderedgoodcondition4starsmanynannasgo...  negative  positive\n",
      "377996  greattastemeasureweightvolumeimpressedtastepea...  negative  positive\n",
      "424334  greattastinghotsaucehotsaucegreatflavorrightam...  negative  positive\n",
      "256506  smellsmuchbettertasteslovepomegranateflavorlov...  negative  positive\n"
     ]
    }
   ],
   "source": [
    "import numpy as np\n",
    "import pandas as pd\n",
    "\n",
    "# Make predictions\n",
    "y_pred = nb_model.predict(X_test)\n",
    "\n",
    "\n",
    "# Find misclassified indices\n",
    "misclassified_indices = np.where(y_pred != y_test)[0]\n",
    "\n",
    "# Create a DataFrame of misclassified reviews\n",
    "misclassified_reviews = pd.DataFrame({\n",
    "    \"Review\": X_test_text.iloc[misclassified_indices],\n",
    "    \"Actual\": y_test.iloc[misclassified_indices],\n",
    "    \"Predicted\": y_pred[misclassified_indices]\n",
    "})\n",
    "\n",
    "print(misclassified_reviews.head(10))\n"
   ]
  },
  {
   "cell_type": "code",
   "execution_count": 58,
   "id": "7fa5ddc1-70a6-4da4-8900-286f6cfcad74",
   "metadata": {},
   "outputs": [
    {
     "name": "stdout",
     "output_type": "stream",
     "text": [
      "Accuracy: 0.6554\n",
      "Classification report:\n",
      "               precision    recall  f1-score   support\n",
      "\n",
      "    negative       1.00      0.03      0.06      3562\n",
      "    positive       0.65      1.00      0.79      6438\n",
      "\n",
      "    accuracy                           0.66     10000\n",
      "   macro avg       0.83      0.52      0.43     10000\n",
      "weighted avg       0.78      0.66      0.53     10000\n",
      "\n"
     ]
    }
   ],
   "source": [
    "# Model Evaluation\n",
    "# accuracy measures the overall correctness of the model(correct_pred / total_pred)\n",
    "\n",
    "accuracy = accuracy_score(y_test, y_pred)\n",
    "print(f\"Accuracy: {accuracy:.4f}\")\n",
    "\n",
    "#Classification report\n",
    "#Precision:How many of the predicted positives were actually positive? (Lower False Positives)\n",
    "#Recall :How many of the actual positives were correctly identified? (Lower False Negatives)\n",
    "#F1score: The harmonic mean of precision & recall (a balance between the two)\n",
    "#Support:The number of actual samples in that class\n",
    "\n",
    "print('Classification report:\\n',classification_report(y_test, y_pred))"
   ]
  },
  {
   "cell_type": "code",
   "execution_count": 63,
   "id": "521c1ecb-1c6f-484b-a56f-9ac9293a795c",
   "metadata": {},
   "outputs": [
    {
     "data": {
      "image/png": "[encoded data removed]",
      "text/plain": [
       "<Figure size 640x480 with 2 Axes>"
      ]
     },
     "metadata": {},
     "output_type": "display_data"
    }
   ],
   "source": [
    "cm= confusion_matrix(y_test, y_pred)\n",
    "sns.heatmap(cm, annot=True, fmt='d',cmap='Blues')\n",
    "plt.xlabel('Predicted')\n",
    "plt.ylabel('Actual')\n",
    "plt.title('Confusion Matrix')\n",
    "plt.show()"
   ]
  },
  {
   "cell_type": "markdown",
   "id": "dd8eae88-eae8-4713-8aa8-a04e1182cc7d",
   "metadata": {},
   "source": [
    "### Score >=4 as positive cutoff and score < 4 as negative"
   ]
  },
  {
   "cell_type": "code",
   "execution_count": 66,
   "id": "cb7c7359-b780-4d34-8c7d-5e356ab5ac68",
   "metadata": {},
   "outputs": [],
   "source": [
    "## Combine columns Summary and Text\n",
    "df['Combined_Text'] = df['Summary'] + \" \" + df['Text']  # Use both columns\n",
    "\n",
    "# Convert 'Score' to binary sentiment (1 = Positive, 0 = Negative)\n",
    "df['Sentiment'] = df['Score'].apply(lambda x: 'positive' if x >=4 else 'negative')"
   ]
  },
  {
   "cell_type": "code",
   "execution_count": 68,
   "id": "174af879-e45b-4d81-b52a-ee448c45dc57",
   "metadata": {},
   "outputs": [
    {
     "name": "stderr",
     "output_type": "stream",
     "text": [
      "[nltk_data] Downloading package stopwords to\n",
      "[nltk_data]     /Users/kaushikshingne/nltk_data...\n",
      "[nltk_data]   Package stopwords is already up-to-date!\n",
      "[nltk_data] Downloading package punkt to\n",
      "[nltk_data]     /Users/kaushikshingne/nltk_data...\n",
      "[nltk_data]   Package punkt is already up-to-date!\n"
     ]
    }
   ],
   "source": [
    "## Download NLTK stopwords\n",
    "nltk.download('stopwords')\n",
    "nltk.download('punkt')\n",
    "stop_words = set(stopwords.words('english'))"
   ]
  },
  {
   "cell_type": "code",
   "execution_count": 70,
   "id": "c3bc942a-383c-4f1b-9bea-37b92fb7e549",
   "metadata": {},
   "outputs": [],
   "source": [
    "## Text preprocessing function\n",
    "def clean_text(text):\n",
    "    text = text.lower()\n",
    "    text =re.sub(r'\\W', ' ', text)\n",
    "    text = re.sub(r'\\s+', ' ', text)  \n",
    "    text = ''.join([word for word in word_tokenize(text) if word not in stop_words])\n",
    "    return text\n",
    "\n"
   ]
  },
  {
   "cell_type": "code",
   "execution_count": 72,
   "id": "dc24c647-f778-4a43-bd15-d7e7c88bacab",
   "metadata": {},
   "outputs": [],
   "source": [
    "# Apply preprocessing to combined text\n",
    "df['Combined_Text']=  df['Combined_Text'].apply(clean_text)"
   ]
  },
  {
   "cell_type": "code",
   "execution_count": 73,
   "id": "ff6ef39d-7811-48fe-942f-8124463697f2",
   "metadata": {},
   "outputs": [
    {
     "data": {
      "text/html": [
       "<style>#sk-container-id-2 {color: black;background-color: white;}#sk-container-id-2 pre{padding: 0;}#sk-container-id-2 div.sk-toggleable {background-color: white;}#sk-container-id-2 label.sk-toggleable__label {cursor: pointer;display: block;width: 100%;margin-bottom: 0;padding: 0.3em;box-sizing: border-box;text-align: center;}#sk-container-id-2 label.sk-toggleable__label-arrow:before {content: \"▸\";float: left;margin-right: 0.25em;color: #696969;}#sk-container-id-2 label.sk-toggleable__label-arrow:hover:before {color: black;}#sk-container-id-2 div.sk-estimator:hover label.sk-toggleable__label-arrow:before {color: black;}#sk-container-id-2 div.sk-toggleable__content {max-height: 0;max-width: 0;overflow: hidden;text-align: left;background-color: #f0f8ff;}#sk-container-id-2 div.sk-toggleable__content pre {margin: 0.2em;color: black;border-radius: 0.25em;background-color: #f0f8ff;}#sk-container-id-2 input.sk-toggleable__control:checked~div.sk-toggleable__content {max-height: 200px;max-width: 100%;overflow: auto;}#sk-container-id-2 input.sk-toggleable__control:checked~label.sk-toggleable__label-arrow:before {content: \"▾\";}#sk-container-id-2 div.sk-estimator input.sk-toggleable__control:checked~label.sk-toggleable__label {background-color: #d4ebff;}#sk-container-id-2 div.sk-label input.sk-toggleable__control:checked~label.sk-toggleable__label {background-color: #d4ebff;}#sk-container-id-2 input.sk-hidden--visually {border: 0;clip: rect(1px 1px 1px 1px);clip: rect(1px, 1px, 1px, 1px);height: 1px;margin: -1px;overflow: hidden;padding: 0;position: absolute;width: 1px;}#sk-container-id-2 div.sk-estimator {font-family: monospace;background-color: #f0f8ff;border: 1px dotted black;border-radius: 0.25em;box-sizing: border-box;margin-bottom: 0.5em;}#sk-container-id-2 div.sk-estimator:hover {background-color: #d4ebff;}#sk-container-id-2 div.sk-parallel-item::after {content: \"\";width: 100%;border-bottom: 1px solid gray;flex-grow: 1;}#sk-container-id-2 div.sk-label:hover label.sk-toggleable__label {background-color: #d4ebff;}#sk-container-id-2 div.sk-serial::before {content: \"\";position: absolute;border-left: 1px solid gray;box-sizing: border-box;top: 0;bottom: 0;left: 50%;z-index: 0;}#sk-container-id-2 div.sk-serial {display: flex;flex-direction: column;align-items: center;background-color: white;padding-right: 0.2em;padding-left: 0.2em;position: relative;}#sk-container-id-2 div.sk-item {position: relative;z-index: 1;}#sk-container-id-2 div.sk-parallel {display: flex;align-items: stretch;justify-content: center;background-color: white;position: relative;}#sk-container-id-2 div.sk-item::before, #sk-container-id-2 div.sk-parallel-item::before {content: \"\";position: absolute;border-left: 1px solid gray;box-sizing: border-box;top: 0;bottom: 0;left: 50%;z-index: -1;}#sk-container-id-2 div.sk-parallel-item {display: flex;flex-direction: column;z-index: 1;position: relative;background-color: white;}#sk-container-id-2 div.sk-parallel-item:first-child::after {align-self: flex-end;width: 50%;}#sk-container-id-2 div.sk-parallel-item:last-child::after {align-self: flex-start;width: 50%;}#sk-container-id-2 div.sk-parallel-item:only-child::after {width: 0;}#sk-container-id-2 div.sk-dashed-wrapped {border: 1px dashed gray;margin: 0 0.4em 0.5em 0.4em;box-sizing: border-box;padding-bottom: 0.4em;background-color: white;}#sk-container-id-2 div.sk-label label {font-family: monospace;font-weight: bold;display: inline-block;line-height: 1.2em;}#sk-container-id-2 div.sk-label-container {text-align: center;}#sk-container-id-2 div.sk-container {/* jupyter's `normalize.less` sets `[hidden] { display: none; }` but bootstrap.min.css set `[hidden] { display: none !important; }` so we also need the `!important` here to be able to override the default hidden behavior on the sphinx rendered scikit-learn.org. See: https://github.com/scikit-learn/scikit-learn/issues/21755 */display: inline-block !important;position: relative;}#sk-container-id-2 div.sk-text-repr-fallback {display: none;}</style><div id=\"sk-container-id-2\" class=\"sk-top-container\"><div class=\"sk-text-repr-fallback\"><pre>MultinomialNB()</pre><b>In a Jupyter environment, please rerun this cell to show the HTML representation or trust the notebook. <br />On GitHub, the HTML representation is unable to render, please try loading this page with nbviewer.org.</b></div><div class=\"sk-container\" hidden><div class=\"sk-item\"><div class=\"sk-estimator sk-toggleable\"><input class=\"sk-toggleable__control sk-hidden--visually\" id=\"sk-estimator-id-2\" type=\"checkbox\" checked><label for=\"sk-estimator-id-2\" class=\"sk-toggleable__label sk-toggleable__label-arrow\">MultinomialNB</label><div class=\"sk-toggleable__content\"><pre>MultinomialNB()</pre></div></div></div></div></div>"
      ],
      "text/plain": [
       "MultinomialNB()"
      ]
     },
     "execution_count": 73,
     "metadata": {},
     "output_type": "execute_result"
    }
   ],
   "source": [
    "\n",
    "# Split the original DataFrame into training and testing sets\n",
    "df_train, df_test = train_test_split(df, test_size=0.2, random_state=42)\n",
    "\n",
    "# Now split out the text and sentiment labels for the test set\n",
    "X_train_text = df_train['Combined_Text']\n",
    "X_test_text = df_test['Combined_Text']\n",
    "y_train = df_train['Sentiment']\n",
    "y_test = df_test['Sentiment']\n",
    "\n",
    "# Then, transform the text using TF-IDF\n",
    "from sklearn.feature_extraction.text import TfidfVectorizer\n",
    "\n",
    "vectorizer = TfidfVectorizer(ngram_range=(1,2), max_features=5000)\n",
    "X_train = vectorizer.fit_transform(X_train_text)\n",
    "X_test = vectorizer.transform(X_test_text)\n",
    "\n",
    "# Train Naïve Bayes Classifier\n",
    "nb_model = MultinomialNB()\n",
    "nb_model.fit(X_train, y_train)\n"
   ]
  },
  {
   "cell_type": "code",
   "execution_count": 74,
   "id": "d9054876-3244-4956-acbb-ac1e1bf7acf7",
   "metadata": {},
   "outputs": [
    {
     "name": "stdout",
     "output_type": "stream",
     "text": [
      "                                                   Review    Actual Predicted\n",
      "358689  stepwrongdirectiondrinkingcoconutwateryearstri...  negative  positive\n",
      "27826   ohgashorriblehorriblegasletgetonethingstraight...  negative  positive\n",
      "256506  smellsmuchbettertasteslovepomegranateflavorlov...  negative  positive\n",
      "337760  secondorderhorriblefirstordergreatlookedexactl...  negative  positive\n",
      "88899   carefulreviewsimplyheadsmaythinkcoconutoilcook...  negative  positive\n",
      "132468  received6montholdproductuseketchuppacketslunch...  negative  positive\n",
      "548061  usinghairoilserumconfusednameproductrefersscal...  negative  positive\n",
      "216323  teeccinocoffeesmellsbadtastesbadcoffeetastesba...  negative  positive\n",
      "164643  bacongumballsstoplaughingstorebuysmellkindalik...  negative  positive\n",
      "327504  bpacanspointputtingorganicfoodtoxicgetearthbes...  negative  positive\n"
     ]
    }
   ],
   "source": [
    "import numpy as np\n",
    "import pandas as pd\n",
    "\n",
    "# Make predictions\n",
    "y_pred = nb_model.predict(X_test)\n",
    "\n",
    "\n",
    "# Find misclassified indices\n",
    "misclassified_indices = np.where(y_pred != y_test)[0]\n",
    "\n",
    "# Create a DataFrame of misclassified reviews\n",
    "misclassified_reviews = pd.DataFrame({\n",
    "    \"Review\": X_test_text.iloc[misclassified_indices],\n",
    "    \"Actual\": y_test.iloc[misclassified_indices],\n",
    "    \"Predicted\": y_pred[misclassified_indices]\n",
    "})\n",
    "\n",
    "print(misclassified_reviews.head(10))\n"
   ]
  },
  {
   "cell_type": "code",
   "execution_count": 75,
   "id": "f6bd2e9e-fc93-4e44-90b7-a43c347b8ed6",
   "metadata": {},
   "outputs": [
    {
     "name": "stdout",
     "output_type": "stream",
     "text": [
      "Accuracy: 0.7911\n",
      "Classification report:\n",
      "               precision    recall  f1-score   support\n",
      "\n",
      "    negative       1.00      0.03      0.06      2150\n",
      "    positive       0.79      1.00      0.88      7850\n",
      "\n",
      "    accuracy                           0.79     10000\n",
      "   macro avg       0.89      0.51      0.47     10000\n",
      "weighted avg       0.84      0.79      0.70     10000\n",
      "\n"
     ]
    }
   ],
   "source": [
    "# Model Evaluation\n",
    "# accuracy measures the overall correctness of the model(correct_pred / total_pred)\n",
    "\n",
    "accuracy = accuracy_score(y_test, y_pred)\n",
    "print(f\"Accuracy: {accuracy:.4f}\")\n",
    "\n",
    "#Classification report\n",
    "#Precision:How many of the predicted positives were actually positive? (Lower False Positives)\n",
    "#Recall :How many of the actual positives were correctly identified? (Lower False Negatives)\n",
    "#F1score: The harmonic mean of precision & recall (a balance between the two)\n",
    "#Support:The number of actual samples in that class\n",
    "\n",
    "print('Classification report:\\n',classification_report(y_test, y_pred))"
   ]
  },
  {
   "cell_type": "code",
   "execution_count": 76,
   "id": "8c435e02-6838-4900-a2fb-b6fa22a1a88d",
   "metadata": {},
   "outputs": [
    {
     "data": {
      "image/png": "[encoded data removed]",
      "text/plain": [
       "<Figure size 640x480 with 2 Axes>"
      ]
     },
     "metadata": {},
     "output_type": "display_data"
    }
   ],
   "source": [
    "cm= confusion_matrix(y_test, y_pred)\n",
    "sns.heatmap(cm, annot=True, fmt='d',cmap='Blues')\n",
    "plt.xlabel('Predicted')\n",
    "plt.ylabel('Actual')\n",
    "plt.title('Confusion Matrix')\n",
    "plt.show()"
   ]
  },
  {
   "cell_type": "code",
   "execution_count": null,
   "id": "edee0429-671f-4add-9bd8-3050f0c3809d",
   "metadata": {},
   "outputs": [],
   "source": []
  },
  {
   "cell_type": "code",
   "execution_count": null,
   "id": "20a7d261-7db1-46ec-90d6-c3431e58c2ee",
   "metadata": {},
   "outputs": [],
   "source": []
  }
 ],
 "metadata": {
  "kernelspec": {
   "display_name": "Python [conda env:base] *",
   "language": "python",
   "name": "conda-base-py"
  },
  "language_info": {
   "codemirror_mode": {
    "name": "ipython",
    "version": 3
   },
   "file_extension": ".py",
   "mimetype": "text/x-python",
   "name": "python",
   "nbconvert_exporter": "python",
   "pygments_lexer": "ipython3",
   "version": "3.11.7"
  }
 },
 "nbformat": 4,
 "nbformat_minor": 5
}
